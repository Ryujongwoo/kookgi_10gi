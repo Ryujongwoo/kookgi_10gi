{
 "cells": [
  {
   "cell_type": "code",
   "execution_count": 20,
   "metadata": {},
   "outputs": [
    {
     "data": {
      "image/png": "[encoded data removed]",
      "text/plain": [
       "<IPython.core.display.Image object>"
      ]
     },
     "execution_count": 20,
     "metadata": {
      "image/png": {
       "width": "1600"
      }
     },
     "output_type": "execute_result"
    }
   ],
   "source": [
    "from IPython.display import Image\n",
    "Image('./2DimArray_1.png', width = '1600')"
   ]
  },
  {
   "cell_type": "code",
   "execution_count": 11,
   "metadata": {
    "scrolled": true
   },
   "outputs": [
    {
     "name": "stdout",
     "output_type": "stream",
     "text": [
      "[[0, 0, 0, 0, 0], [0, 0, 0, 0, 0], [0, 0, 0, 0, 0], [0, 0, 0, 0, 0]]\n",
      "4\n",
      "5\n"
     ]
    }
   ],
   "source": [
    "# 리스트이름 = [[0] * 열 for i in range(행)] => [0]이 열의 개수만큼 반복되는 리스를 행의 개수만큼 만든다.\n",
    "data = [[0] * 5 for i in range(4)]\n",
    "print(data)\n",
    "print(len(data))    # 행의 개수\n",
    "print(len(data[0])) # 열의 개수"
   ]
  },
  {
   "cell_type": "code",
   "execution_count": 12,
   "metadata": {},
   "outputs": [
    {
     "name": "stdout",
     "output_type": "stream",
     "text": [
      "[0, 0, 0, 0, 0]\n",
      "[0, 0, 0, 0, 0]\n",
      "[0, 0, 0, 0, 0]\n",
      "[0, 0, 0, 0, 0]\n"
     ]
    }
   ],
   "source": [
    "for i in range(4):\n",
    "    print(data[i])"
   ]
  },
  {
   "cell_type": "code",
   "execution_count": 19,
   "metadata": {},
   "outputs": [
    {
     "name": "stdout",
     "output_type": "stream",
     "text": [
      "0 0 0 0 0 \n",
      "0 0 0 0 0 \n",
      "0 0 0 0 0 \n",
      "0 0 0 0 0 \n"
     ]
    }
   ],
   "source": [
    "for i in range(4):\n",
    "    for j in range(5):\n",
    "        print('{} '.format(data[i][j]), end = '')\n",
    "    print()"
   ]
  },
  {
   "cell_type": "code",
   "execution_count": 24,
   "metadata": {},
   "outputs": [
    {
     "data": {
      "image/png": "[encoded data removed]",
      "text/plain": [
       "<IPython.core.display.Image object>"
      ]
     },
     "execution_count": 24,
     "metadata": {
      "image/png": {
       "width": "400"
      }
     },
     "output_type": "execute_result"
    }
   ],
   "source": [
    "from IPython.display import Image\n",
    "Image('./2DimArray_2.png', width = '400')"
   ]
  },
  {
   "cell_type": "code",
   "execution_count": 34,
   "metadata": {},
   "outputs": [
    {
     "name": "stdout",
     "output_type": "stream",
     "text": [
      "2차원 리스트를 만들려하는 행과 열의 개수를 입력하세요 : 4 5\n",
      "  1   2   3   4   5 \n",
      " 10   9   8   7   6 \n",
      " 11  12  13  14  15 \n",
      " 20  19  18  17  16 \n"
     ]
    }
   ],
   "source": [
    "row, col = map(int, input('2차원 리스트를 만들려하는 행과 열의 개수를 입력하세요 : ').split())\n",
    "data = [[0] * col for i in range(row)]\n",
    "\n",
    "n = 0 # 리스트에 1씩 증가하며 채워질 숫자가 기억되는 변수를 선언한다.\n",
    "# 전체 행의 개수 만큼 반복한다.\n",
    "for i in range(len(data)):\n",
    "    # 짝수행은 숫자가 왼쪽에서 오른쪽으로 채워지고 홀수행은 숫자가 오른쪽에서 왼쪽으로 채워진다.\n",
    "    # 짝수행인가 홀수행인가 판단한다.\n",
    "    if i % 2 == 0:\n",
    "        # 짝수행은 왼쪽에서 오른쪽으로 숫자를 채운다. j => 0, 1, 2, 3, 4,\n",
    "        for j in range(len(data[0])):\n",
    "            n += 1\n",
    "            data[i][j] = n\n",
    "    else:\n",
    "        # 홀수행은 오른쪽에서 왼쪽으로 숫자를 채운다. j => 4, 3, 2, 1, 0\n",
    "        for j in range(len(data[0]) - 1, -1, -1):\n",
    "            n += 1\n",
    "            data[i][j] = n\n",
    "\n",
    "for i in range(len(data)):\n",
    "    for j in range(len(data[0])):\n",
    "        print('{0:3d} '.format(data[i][j]), end = '')\n",
    "    print()"
   ]
  },
  {
   "cell_type": "code",
   "execution_count": 37,
   "metadata": {},
   "outputs": [
    {
     "name": "stdout",
     "output_type": "stream",
     "text": [
      "2차원 리스트를 만들려하는 행과 열의 개수를 입력하세요 : 4 5\n",
      "  1   2   3   4   5 \n",
      " 10   9   8   7   6 \n",
      " 11  12  13  14  15 \n",
      " 20  19  18  17  16 \n"
     ]
    }
   ],
   "source": [
    "row, col = map(int, input('2차원 리스트를 만들려하는 행과 열의 개수를 입력하세요 : ').split())\n",
    "data = [[0] * col for i in range(row)]\n",
    "\n",
    "n = 0         # 리스트에 채워질 숫자가 기억되는 변수\n",
    "start = 0     # 2차원 리스트에 숫자가 채워지기 시작하는 열의 인덱스\n",
    "end = col - 1 # 2차원 리스트에 숫자가 채워지는 마지막 열의 인덱스\n",
    "sw = 1        # start 부터 end 까지 증가치로 사용할 변수\n",
    "\n",
    "# 짝수행은 j값이 0, 1, 2, 3, 4로 변하고 홀수행은 j값이 4, 3, 2, 1, 0과 같이 변한다.\n",
    "for i in range(row):\n",
    "    for j in range(start, end + sw, sw):\n",
    "        n += 1\n",
    "        data[i][j] = n\n",
    "    # ===== for j 끝\n",
    "    \n",
    "    # 행(i)이 짝수일 때 start 부터 end + sw 까지 1씩 증가해야 하지만 홀수가 되면 start 부터 end + sw 까지 1씩 감소해야 한다.\n",
    "    # 리스트의 한 행에 숫자를 채운 후 start와 end에 저장된 값을 교환하고 증가치(sw)의 부호를 변경한다.\n",
    "    start, end = end, start\n",
    "    sw *= -1 # sw의 부호가 바뀐다.\n",
    "    \n",
    "# ===== for i 끝\n",
    "\n",
    "for i in range(row):\n",
    "    for j in range(col):\n",
    "        print('{0:3d} '.format(data[i][j]), end = '')\n",
    "    print()"
   ]
  },
  {
   "cell_type": "code",
   "execution_count": null,
   "metadata": {},
   "outputs": [],
   "source": []
  },
  {
   "cell_type": "code",
   "execution_count": null,
   "metadata": {},
   "outputs": [],
   "source": []
  },
  {
   "cell_type": "code",
   "execution_count": null,
   "metadata": {},
   "outputs": [],
   "source": []
  },
  {
   "cell_type": "code",
   "execution_count": null,
   "metadata": {},
   "outputs": [],
   "source": []
  },
  {
   "cell_type": "code",
   "execution_count": null,
   "metadata": {},
   "outputs": [],
   "source": []
  },
  {
   "cell_type": "code",
   "execution_count": null,
   "metadata": {},
   "outputs": [],
   "source": []
  }
 ],
 "metadata": {
  "kernelspec": {
   "display_name": "Python 3",
   "language": "python",
   "name": "python3"
  },
  "language_info": {
   "codemirror_mode": {
    "name": "ipython",
    "version": 3
   },
   "file_extension": ".py",
   "mimetype": "text/x-python",
   "name": "python",
   "nbconvert_exporter": "python",
   "pygments_lexer": "ipython3",
   "version": "3.6.8"
  }
 },
 "nbformat": 4,
 "nbformat_minor": 4
}
