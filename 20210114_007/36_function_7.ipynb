{
 "cells": [
  {
   "cell_type": "code",
   "execution_count": 7,
   "metadata": {},
   "outputs": [],
   "source": [
    "# 모든 프로그래밍 언어는 함수의 실행 결과를 return 뒤에 1개만 붙여서 return 시킬 수 있다. => 파이썬도 예외는 아니다.\n",
    "def swap(a, b):\n",
    "    temp = a\n",
    "    a = b\n",
    "    b = temp\n",
    "    # 데이터를 ','로 구분해서 나열하면 양쪽 끝에 ()를 입력하지 않아도 튜플로 만들어진다.\n",
    "    # return을 튜플로 하면 return 값이 2개 이상인 것 같은 효과를 낸다. => 공식적으로 튜플 1개를 리턴시킨다.\n",
    "    return a, b # (a, b) 형태의 튜플 1개를 리턴시킨다. => 마치 return 값이 2개인 것 처럼 보인다."
   ]
  },
  {
   "cell_type": "code",
   "execution_count": 8,
   "metadata": {},
   "outputs": [
    {
     "name": "stdout",
     "output_type": "stream",
     "text": [
      "a = 3, b = 4\n",
      "a = 4, b = 3\n",
      "a = 3, b = 4\n",
      "<class 'tuple'>\n",
      "a = 4, b = 3\n"
     ]
    }
   ],
   "source": [
    "a = 3; b = 4\n",
    "print('a = {}, b = {}'.format(a, b))\n",
    "a, b = b, a\n",
    "print('a = {}, b = {}'.format(a, b))\n",
    "a, b = swap(a, b)\n",
    "print('a = {}, b = {}'.format(a, b))\n",
    "result = swap(a, b)\n",
    "print(type(result))\n",
    "print('a = {}, b = {}'.format(result[0], result[1]))"
   ]
  },
  {
   "cell_type": "code",
   "execution_count": null,
   "metadata": {},
   "outputs": [],
   "source": []
  }
 ],
 "metadata": {
  "kernelspec": {
   "display_name": "Python 3",
   "language": "python",
   "name": "python3"
  },
  "language_info": {
   "codemirror_mode": {
    "name": "ipython",
    "version": 3
   },
   "file_extension": ".py",
   "mimetype": "text/x-python",
   "name": "python",
   "nbconvert_exporter": "python",
   "pygments_lexer": "ipython3",
   "version": "3.6.8"
  }
 },
 "nbformat": 4,
 "nbformat_minor": 4
}
