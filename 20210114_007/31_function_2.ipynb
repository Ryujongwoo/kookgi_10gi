{
 "cells": [
  {
   "cell_type": "code",
   "execution_count": 9,
   "metadata": {},
   "outputs": [],
   "source": [
    "# 프로그램에서 전달받는 인수가 없는 함수 => 함수가 처리할 데이터를 넘겨받지 않는 함수\n",
    "def func1():\n",
    "    print('func1() 함수가 실행됩니다. - 1')\n",
    "    # 함수가 종료되거나 return을 만나면 함수가 호출된곳으로 돌아간다. => return이 있으면 return 값을 가지고 돌아간다.\n",
    "    return 'func1() 함수가 실행됩니다. - 2'"
   ]
  },
  {
   "cell_type": "code",
   "execution_count": 10,
   "metadata": {},
   "outputs": [
    {
     "name": "stdout",
     "output_type": "stream",
     "text": [
      "func1() 함수가 실행됩니다. - 1\n",
      "func1() 함수가 실행됩니다. - 2\n"
     ]
    }
   ],
   "source": [
    "print(func1())"
   ]
  },
  {
   "cell_type": "code",
   "execution_count": 26,
   "metadata": {},
   "outputs": [],
   "source": [
    "# 결과(return)값이 없는 함수\n",
    "def func2(a, b):\n",
    "    print('{} + {} = {}'.format(a, b, a + b))\n",
    "\n",
    "# 파이썬은 함수의 오버로딩을 지원하지 않는다. => 오버로딩 효과를 내려면 가변 인자를 사용하는 함수를 만들어 사용하면 된다.\n",
    "# 오버로딩 => 같은 이름으로 여러개의 함수를 만들어 사용할 수 있다.\n",
    "# 함수 오버로딩은 이름이 같은 함수가 여러개 있을 경우 인수의 개수가 다르면 서로 다른 함수로 취급한다.\n",
    "# 만약에 인수의 개수도 같다면 인수의 타입으로 함수를 식별한다.\n",
    "# 파이썬은 함수의 오버로딩이 지원되지 않기 때문에 같은 이름으로 여러개의 함수를 만들면 맨 마지막에 정의한 함수만 유효한 함수가 되고 앞에서\n",
    "# 만든 함수는 뒤에서 만든 함수로 덮어쓰기가 된다.\n",
    "    \n",
    "def func2(a, b, c):\n",
    "    print('{} + {} + {} = {}'.format(a, b, c, a + b + c))"
   ]
  },
  {
   "cell_type": "code",
   "execution_count": 27,
   "metadata": {},
   "outputs": [
    {
     "ename": "TypeError",
     "evalue": "func2() missing 1 required positional argument: 'c'",
     "output_type": "error",
     "traceback": [
      "\u001b[1;31m---------------------------------------------------------------------------\u001b[0m",
      "\u001b[1;31mTypeError\u001b[0m                                 Traceback (most recent call last)",
      "\u001b[1;32m<ipython-input-27-be4e2c3be76a>\u001b[0m in \u001b[0;36m<module>\u001b[1;34m\u001b[0m\n\u001b[1;32m----> 1\u001b[1;33m \u001b[0mprint\u001b[0m\u001b[1;33m(\u001b[0m\u001b[0mfunc2\u001b[0m\u001b[1;33m(\u001b[0m\u001b[1;36m5\u001b[0m\u001b[1;33m,\u001b[0m \u001b[1;36m3\u001b[0m\u001b[1;33m)\u001b[0m\u001b[1;33m)\u001b[0m\u001b[1;33m\u001b[0m\u001b[1;33m\u001b[0m\u001b[0m\n\u001b[0m",
      "\u001b[1;31mTypeError\u001b[0m: func2() missing 1 required positional argument: 'c'"
     ]
    }
   ],
   "source": [
    "print(func2(5, 3))"
   ]
  },
  {
   "cell_type": "code",
   "execution_count": 28,
   "metadata": {},
   "outputs": [
    {
     "name": "stdout",
     "output_type": "stream",
     "text": [
      "5 + 3 + 8 = 16\n",
      "None\n"
     ]
    }
   ],
   "source": [
    "print(func2(5, 3, 8))"
   ]
  },
  {
   "cell_type": "code",
   "execution_count": null,
   "metadata": {},
   "outputs": [],
   "source": []
  }
 ],
 "metadata": {
  "kernelspec": {
   "display_name": "Python 3",
   "language": "python",
   "name": "python3"
  },
  "language_info": {
   "codemirror_mode": {
    "name": "ipython",
    "version": 3
   },
   "file_extension": ".py",
   "mimetype": "text/x-python",
   "name": "python",
   "nbconvert_exporter": "python",
   "pygments_lexer": "ipython3",
   "version": "3.6.8"
  }
 },
 "nbformat": 4,
 "nbformat_minor": 4
}
