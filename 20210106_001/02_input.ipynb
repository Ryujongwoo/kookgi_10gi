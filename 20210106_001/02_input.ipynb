{
 "cells": [
  {
   "cell_type": "code",
   "execution_count": 1,
   "metadata": {},
   "outputs": [],
   "source": [
    "# 변수(variable)는 처리할 데이터(상수, constand)를 저장하는 기억 장소를 말한다.\n",
    "# 변수명 작성 방법\n",
    "# 영문자(대소문자를 구분한다.), 숫자, 특수문자('_'만 가능)를 사용할 수 있으며 반드시 문자로 시작해야 하고 예약어는 사용할 수 없다."
   ]
  },
  {
   "cell_type": "code",
   "execution_count": 2,
   "metadata": {},
   "outputs": [
    {
     "name": "stdout",
     "output_type": "stream",
     "text": [
      "홍길동\n",
      "<class 'str'>\n",
      "100\n",
      "<class 'int'>\n",
      "3.141592\n",
      "<class 'float'>\n",
      "True\n",
      "<class 'bool'>\n"
     ]
    }
   ],
   "source": [
    "# 파이썬은 c/c++이나 java와 달리 변수 선언시 변수의 자료형을 지정하지 않는다.\n",
    "# 파이썬은 변수에 저장되는 데이터의 타입에 따라 자동으로 변수의 자료형이 결정된다.\n",
    "# '='는 같다라는 의미로 사용되지 않고 '=' 오른쪽의 데이터를 '=' 왼쪽의 기억 장소에 저장하라는 의미로 사용된다. => 대입문\n",
    "# '=='와 같이 2개를 연속해서 사용해야 같다로 인식한다.\n",
    "\n",
    "a = '홍길동'\n",
    "print(a)\n",
    "# type() 함수는 인수로 지정된 기억 장소의 자료형을 얻어온다.\n",
    "print(type(a)) # <class 'str'> => 문자열\n",
    "a = 100\n",
    "print(a)\n",
    "print(type(a)) # <class 'int'> => 정수\n",
    "a = 3.141592\n",
    "print(a)\n",
    "print(type(a)) # <class 'float'> => 실수\n",
    "# True => 참, False => 거짓, 반드시 첫 문자만 대문자로 사용해야 한다.\n",
    "a = True\n",
    "print(a)\n",
    "print(type(a)) # <class 'bool'> => 논리값"
   ]
  },
  {
   "cell_type": "code",
   "execution_count": 3,
   "metadata": {},
   "outputs": [
    {
     "ename": "NameError",
     "evalue": "name 'a' is not defined",
     "output_type": "error",
     "traceback": [
      "\u001b[1;31m---------------------------------------------------------------------------\u001b[0m",
      "\u001b[1;31mNameError\u001b[0m                                 Traceback (most recent call last)",
      "\u001b[1;32m<ipython-input-3-93674b5a32b7>\u001b[0m in \u001b[0;36m<module>\u001b[1;34m\u001b[0m\n\u001b[0;32m      1\u001b[0m \u001b[1;31m# 더 이상 사용할 필요가 없는 변수는 del 명령으로 메모리에서 삭제할 수 있다.\u001b[0m\u001b[1;33m\u001b[0m\u001b[1;33m\u001b[0m\u001b[1;33m\u001b[0m\u001b[0m\n\u001b[0;32m      2\u001b[0m \u001b[1;32mdel\u001b[0m \u001b[0ma\u001b[0m\u001b[1;33m\u001b[0m\u001b[1;33m\u001b[0m\u001b[0m\n\u001b[1;32m----> 3\u001b[1;33m \u001b[0mprint\u001b[0m\u001b[1;33m(\u001b[0m\u001b[0ma\u001b[0m\u001b[1;33m)\u001b[0m\u001b[1;33m\u001b[0m\u001b[1;33m\u001b[0m\u001b[0m\n\u001b[0m",
      "\u001b[1;31mNameError\u001b[0m: name 'a' is not defined"
     ]
    }
   ],
   "source": [
    "# 더 이상 사용할 필요가 없는 변수는 del 명령으로 메모리에서 삭제할 수 있다.\n",
    "del a\n",
    "print(a)"
   ]
  },
  {
   "cell_type": "markdown",
   "metadata": {},
   "source": [
    "input() 함수로 키보드로 입력하는 데이터를 받을 수 있다. => 무조건 문자열 형태로 입력받는다."
   ]
  },
  {
   "cell_type": "code",
   "execution_count": 4,
   "metadata": {},
   "outputs": [
    {
     "name": "stdout",
     "output_type": "stream",
     "text": [
      "이름을 입력하세요 : 홍길동\n",
      "<class 'str'>\n",
      "홍길동님 안녕하세요\n"
     ]
    }
   ],
   "source": [
    "# 변수 = input('입력 메시지')\n",
    "name = input('이름을 입력하세요 : ')\n",
    "print(type(name))\n",
    "print('%s님 안녕하세요' % name)"
   ]
  },
  {
   "cell_type": "code",
   "execution_count": 11,
   "metadata": {},
   "outputs": [
    {
     "name": "stdout",
     "output_type": "stream",
     "text": [
      "나이를 입력하세요 : 20\n",
      "<class 'int'>\n",
      "홍길동님은 20살 입니다.\n",
      "홍길동님은 20살 입니다.\n",
      "홍길동님은 내년에 21살 입니다.\n"
     ]
    }
   ],
   "source": [
    "# input() 함수는 무조건 문자열 형태로 데이터를 입력받기 때문에 정수나 실수 형태의 데이터를 입력받으려면 입력받은 데이터를\n",
    "# int() 함수나 float() 함수를 사용해서 숫자로 변환시켜야 한다.\n",
    "age = int(input('나이를 입력하세요 : '))\n",
    "print(type(age))\n",
    "print('%s님은 %d살 입니다.' % (name, age))\n",
    "print('{}님은 {}살 입니다.'.format(name, age))\n",
    "# '+' 연산자는 문자열과 문자열, 숫자와 숫자의 연산만 가능하다. => 문자열과 숫자를 연산하면 에러가 발행된다.\n",
    "# 문자열과 문자열에 '+' 연산자를 사용하면 두 문자열을 하나로 이어주는 기능이 실행되고 숫자와 숫자 사이에 '+' 연산자를 사용하면\n",
    "# 덧셈이 실행된다.\n",
    "print('{}님은 내년에 {}살 입니다.'.format(name, age + 1))"
   ]
  },
  {
   "cell_type": "code",
   "execution_count": 17,
   "metadata": {},
   "outputs": [
    {
     "name": "stdout",
     "output_type": "stream",
     "text": [
      "Hello Python\n",
      "['Hello', 'Python']\n",
      "이름과 나이를 입력하세요 : 임꺽정 35\n",
      "임꺽정님은 35살 입니다.\n",
      "임꺽정님은 내년에 36살 입니다.\n"
     ]
    }
   ],
   "source": [
    "# split() 메소드를 사용하면 공백을 구분자로 문자열을 나눌 수 있다.\n",
    "print('Hello Python')\n",
    "print('Hello Python'.split())\n",
    "\n",
    "name, age = input('이름과 나이를 입력하세요 : ').split()\n",
    "print('{}님은 {}살 입니다.'.format(name, age))\n",
    "print('{}님은 내년에 {}살 입니다.'.format(name, int(age) + 1))"
   ]
  },
  {
   "cell_type": "code",
   "execution_count": 20,
   "metadata": {},
   "outputs": [
    {
     "name": "stdout",
     "output_type": "stream",
     "text": [
      "세 과목 점수를 입력하세요 : 100 95 100\n",
      "총점 : 295, 평균 : 98.33333333333333\n"
     ]
    }
   ],
   "source": [
    "python, java, jsp = input('세 과목 점수를 입력하세요 : ').split()\n",
    "total = int(python) + int(java) + int(jsp)\n",
    "print('총점 : {}, 평균 : {}'.format(total, total / 3))"
   ]
  },
  {
   "cell_type": "code",
   "execution_count": 21,
   "metadata": {},
   "outputs": [
    {
     "name": "stdout",
     "output_type": "stream",
     "text": [
      "세 과목 점수를 입력하세요 : 100 95 100\n",
      "총점 : 295, 평균 : 98.33333333333333\n"
     ]
    }
   ],
   "source": [
    "# map() 함수를 사용하면 입력받은 데이터를 split() 메소드로 구분하고 일괄적으로 숫자로 변환 시킬 수 있다.\n",
    "# map(자료형, input('입력 메시지').split())\n",
    "python, java, jsp = map(int, input('세 과목 점수를 입력하세요 : ').split())\n",
    "total = python + java + jsp\n",
    "print('총점 : {}, 평균 : {}'.format(total, total / 3))"
   ]
  },
  {
   "cell_type": "code",
   "execution_count": null,
   "metadata": {},
   "outputs": [],
   "source": []
  },
  {
   "cell_type": "code",
   "execution_count": null,
   "metadata": {},
   "outputs": [],
   "source": []
  },
  {
   "cell_type": "code",
   "execution_count": null,
   "metadata": {},
   "outputs": [],
   "source": []
  },
  {
   "cell_type": "code",
   "execution_count": null,
   "metadata": {},
   "outputs": [],
   "source": []
  }
 ],
 "metadata": {
  "kernelspec": {
   "display_name": "Python 3",
   "language": "python",
   "name": "python3"
  },
  "language_info": {
   "codemirror_mode": {
    "name": "ipython",
    "version": 3
   },
   "file_extension": ".py",
   "mimetype": "text/x-python",
   "name": "python",
   "nbconvert_exporter": "python",
   "pygments_lexer": "ipython3",
   "version": "3.6.8"
  }
 },
 "nbformat": 4,
 "nbformat_minor": 4
}
