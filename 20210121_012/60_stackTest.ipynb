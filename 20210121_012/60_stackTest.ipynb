{
 "cells": [
  {
   "cell_type": "code",
   "execution_count": 1,
   "metadata": {},
   "outputs": [],
   "source": [
    "# stackModule 전체를 import 시켰기 때문에 Stack 클래스를 사용하려면 앞에 모듈이름과 '.'을 붙여서 사용해야 한다.\n",
    "# import stackModule\n",
    "# stack = stackModule.Stack()\n",
    "# stack.view()"
   ]
  },
  {
   "cell_type": "code",
   "execution_count": 2,
   "metadata": {},
   "outputs": [
    {
     "name": "stdout",
     "output_type": "stream",
     "text": [
      "스택에 저장된 데이터 => 없음\n"
     ]
    }
   ],
   "source": [
    "# stackModule 모듈의 Stack 클래스만 import 시켜서 사용한다.\n",
    "# Stack 클래스 자체를 import 시켰으므로 위의 경우처럼 모듈이름과 '.'을 붙일 필요 없이 바로 사용할 수 있다.\n",
    "from stackModule import Stack\n",
    "stack = Stack()\n",
    "stack.view()"
   ]
  },
  {
   "cell_type": "code",
   "execution_count": 3,
   "metadata": {
    "scrolled": false
   },
   "outputs": [
    {
     "name": "stdout",
     "output_type": "stream",
     "text": [
      "===============================\n",
      " 1.push  2.pop  3.list  4.quit \n",
      "===============================\n",
      "원하는 작업을 입력하고 Enter 키를 누르세요 : 1\n",
      "스택에 저장할 데이터 : 111\n",
      "스택에 저장된 데이터 => 111 \n",
      "===============================\n",
      " 1.push  2.pop  3.list  4.quit \n",
      "===============================\n",
      "원하는 작업을 입력하고 Enter 키를 누르세요 : 1\n",
      "스택에 저장할 데이터 : 222\n",
      "스택에 저장된 데이터 => 111 222 \n",
      "===============================\n",
      " 1.push  2.pop  3.list  4.quit \n",
      "===============================\n",
      "원하는 작업을 입력하고 Enter 키를 누르세요 : 1\n",
      "스택에 저장할 데이터 : 333\n",
      "스택에 저장된 데이터 => 111 222 333 \n",
      "===============================\n",
      " 1.push  2.pop  3.list  4.quit \n",
      "===============================\n",
      "원하는 작업을 입력하고 Enter 키를 누르세요 : 1\n",
      "스택에 저장할 데이터 : 444\n",
      "스택에 저장된 데이터 => 111 222 333 444 \n",
      "===============================\n",
      " 1.push  2.pop  3.list  4.quit \n",
      "===============================\n",
      "원하는 작업을 입력하고 Enter 키를 누르세요 : 1\n",
      "스택에 저장할 데이터 : 555\n",
      "스택에 저장된 데이터 => 111 222 333 444 555 \n",
      "===============================\n",
      " 1.push  2.pop  3.list  4.quit \n",
      "===============================\n",
      "원하는 작업을 입력하고 Enter 키를 누르세요 : 111\n",
      "메뉴는 1 ~ 4만 선택할 수 있습니다.\n",
      "===============================\n",
      " 1.push  2.pop  3.list  4.quit \n",
      "===============================\n",
      "원하는 작업을 입력하고 Enter 키를 누르세요 : 1\n",
      "스택에 저장할 데이터 : 111\n",
      "111는(은) 중복되는 데이터 입니다.\n",
      "스택에 저장된 데이터 => 111 222 333 444 555 \n",
      "===============================\n",
      " 1.push  2.pop  3.list  4.quit \n",
      "===============================\n",
      "원하는 작업을 입력하고 Enter 키를 누르세요 : 1\n",
      "스택에 저장할 데이터 : 666\n",
      "overflow 발생... 스택이 가득차서 666를(을) 저장할 수 없습니다.\n",
      "스택에 저장된 데이터 => 111 222 333 444 555 \n",
      "===============================\n",
      " 1.push  2.pop  3.list  4.quit \n",
      "===============================\n",
      "원하는 작업을 입력하고 Enter 키를 누르세요 : 3\n",
      "스택에 저장된 데이터 => 111 222 333 444 555 \n",
      "===============================\n",
      " 1.push  2.pop  3.list  4.quit \n",
      "===============================\n",
      "원하는 작업을 입력하고 Enter 키를 누르세요 : 2\n",
      "pop 데이터 : 555, 스택에 저장된 데이터 => 111 222 333 444 \n",
      "===============================\n",
      " 1.push  2.pop  3.list  4.quit \n",
      "===============================\n",
      "원하는 작업을 입력하고 Enter 키를 누르세요 : 2\n",
      "pop 데이터 : 444, 스택에 저장된 데이터 => 111 222 333 \n",
      "===============================\n",
      " 1.push  2.pop  3.list  4.quit \n",
      "===============================\n",
      "원하는 작업을 입력하고 Enter 키를 누르세요 : 2\n",
      "pop 데이터 : 333, 스택에 저장된 데이터 => 111 222 \n",
      "===============================\n",
      " 1.push  2.pop  3.list  4.quit \n",
      "===============================\n",
      "원하는 작업을 입력하고 Enter 키를 누르세요 : 2\n",
      "pop 데이터 : 222, 스택에 저장된 데이터 => 111 \n",
      "===============================\n",
      " 1.push  2.pop  3.list  4.quit \n",
      "===============================\n",
      "원하는 작업을 입력하고 Enter 키를 누르세요 : 2\n",
      "pop 데이터 : 111, 스택에 저장된 데이터 => 없음\n",
      "===============================\n",
      " 1.push  2.pop  3.list  4.quit \n",
      "===============================\n",
      "원하는 작업을 입력하고 Enter 키를 누르세요 : 2\n",
      "스택에 저장된 데이터가 없습니다.\n",
      "===============================\n",
      " 1.push  2.pop  3.list  4.quit \n",
      "===============================\n",
      "원하는 작업을 입력하고 Enter 키를 누르세요 : 4\n",
      "프로그램을 종료합니다.\n"
     ]
    }
   ],
   "source": [
    "menu = 0\n",
    "while menu != 4:\n",
    "    while True:\n",
    "        print('=' * 31)\n",
    "        print(' 1.push  2.pop  3.list  4.quit ')\n",
    "        print('=' * 31)\n",
    "        menu = int(input('원하는 작업을 입력하고 Enter 키를 누르세요 : '))\n",
    "        if menu in [1, 2, 3, 4]:\n",
    "            break\n",
    "        print('메뉴는 1 ~ 4만 선택할 수 있습니다.')\n",
    "    # ===== while True 끝\n",
    "\n",
    "    if menu == 1:\n",
    "        data = input('스택에 저장할 데이터 : ')\n",
    "        stack.push(data)\n",
    "    elif menu == 2:\n",
    "        stack.pop()\n",
    "    elif menu == 3:\n",
    "        stack.view()\n",
    "# ===== while menu != 4 끝\n",
    "print('프로그램을 종료합니다.')"
   ]
  },
  {
   "cell_type": "code",
   "execution_count": null,
   "metadata": {},
   "outputs": [],
   "source": []
  },
  {
   "cell_type": "code",
   "execution_count": null,
   "metadata": {},
   "outputs": [],
   "source": []
  },
  {
   "cell_type": "code",
   "execution_count": null,
   "metadata": {},
   "outputs": [],
   "source": []
  },
  {
   "cell_type": "code",
   "execution_count": null,
   "metadata": {},
   "outputs": [],
   "source": []
  },
  {
   "cell_type": "code",
   "execution_count": null,
   "metadata": {},
   "outputs": [],
   "source": []
  },
  {
   "cell_type": "code",
   "execution_count": null,
   "metadata": {},
   "outputs": [],
   "source": []
  },
  {
   "cell_type": "code",
   "execution_count": null,
   "metadata": {},
   "outputs": [],
   "source": []
  }
 ],
 "metadata": {
  "kernelspec": {
   "display_name": "Python 3",
   "language": "python",
   "name": "python3"
  },
  "language_info": {
   "codemirror_mode": {
    "name": "ipython",
    "version": 3
   },
   "file_extension": ".py",
   "mimetype": "text/x-python",
   "name": "python",
   "nbconvert_exporter": "python",
   "pygments_lexer": "ipython3",
   "version": "3.6.8"
  }
 },
 "nbformat": 4,
 "nbformat_minor": 4
}
