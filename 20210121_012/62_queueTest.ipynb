{
 "cells": [
  {
   "cell_type": "code",
   "execution_count": 1,
   "metadata": {},
   "outputs": [
    {
     "name": "stdout",
     "output_type": "stream",
     "text": [
      "큐에 저장된 데이터 => 없음\n"
     ]
    }
   ],
   "source": [
    "from queueModule import Queue\n",
    "queue = Queue()\n",
    "queue.view()"
   ]
  },
  {
   "cell_type": "code",
   "execution_count": 4,
   "metadata": {
    "scrolled": false
   },
   "outputs": [
    {
     "name": "stdout",
     "output_type": "stream",
     "text": [
      "=================================\n",
      " 1.add  2.remove  3.list  4.quit \n",
      "=================================\n",
      "원하는 작업을 입력하고 Enter 키를 누르세요 : 4\n",
      "프로그램을 종료합니다.\n"
     ]
    }
   ],
   "source": [
    "menu = 0\n",
    "while menu != 4:\n",
    "    while True:\n",
    "        print('=' * 33)\n",
    "        print(' 1.add  2.remove  3.list  4.quit ')\n",
    "        print('=' * 33)\n",
    "        menu = int(input('원하는 작업을 입력하고 Enter 키를 누르세요 : '))\n",
    "        if menu in [1, 2, 3, 4]:\n",
    "            break\n",
    "        print('메뉴는 1 ~ 4만 선택할 수 있습니다.')\n",
    "    # ===== while True 끝\n",
    "\n",
    "    if menu == 1:\n",
    "        data = input('큐에 저장할 데이터 : ')\n",
    "        queue.add(data)\n",
    "    elif menu == 2:\n",
    "        queue.remove()\n",
    "    elif menu == 3:\n",
    "        queue.view()\n",
    "# ===== while menu != 4 끝\n",
    "print('프로그램을 종료합니다.')"
   ]
  },
  {
   "cell_type": "code",
   "execution_count": null,
   "metadata": {},
   "outputs": [],
   "source": []
  }
 ],
 "metadata": {
  "kernelspec": {
   "display_name": "Python 3",
   "language": "python",
   "name": "python3"
  },
  "language_info": {
   "codemirror_mode": {
    "name": "ipython",
    "version": 3
   },
   "file_extension": ".py",
   "mimetype": "text/x-python",
   "name": "python",
   "nbconvert_exporter": "python",
   "pygments_lexer": "ipython3",
   "version": "3.6.8"
  }
 },
 "nbformat": 4,
 "nbformat_minor": 4
}
