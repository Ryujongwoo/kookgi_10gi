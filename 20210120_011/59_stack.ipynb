{
 "cells": [
  {
   "cell_type": "code",
   "execution_count": 43,
   "metadata": {},
   "outputs": [],
   "source": [
    "class Stack:\n",
    "    # Stack 클래스가 생성될 때 스택의 크기를 넘겨받으면 넘겨받은 크기 만큼의 기억 공간을 가지는 스택을 생성하고 크기를 넘겨받지\n",
    "    # 않으면 5개의 데이터를 저장할 수 있는 스택을 만든다. => 디폴트 인수를 사용하면 된다. => 변수명 = 기본값\n",
    "    def __init__(self, size = 5):\n",
    "        # print('스택의 크기는 {}개'.format(size))\n",
    "        # 생성자 함수에서 트택을 만든다.\n",
    "        self.stack = []  # stack => 빈 리스트 => 데이터는 append() 메소드로 추가한다.\n",
    "        self.size = size # 스택의 크기\n",
    "        # top, SP(Stack Pointer) => stack에 몇 개의 데이터가 저장되어있나 기억한다. => 데이터가 입력되면 1증가, 출력되면 1감소\n",
    "        self.top = 0\n",
    "    \n",
    "    # push => 입력\n",
    "    def push(self, data):\n",
    "        if data not in self.stack: # 스택에 추가하려는 데이터가 스택에 존재하지 않는가?\n",
    "            # overflow 인가 검사한다.\n",
    "            # 스택의 크기(self.size)가 5일때 스택으로 사용할 리스트의 인덱스(self.top)는 0, 1, 2, 3, 4만 사용할 수 있다.\n",
    "            if self.size > self.top:\n",
    "                # overflow가 발생되지 않았으므로 스택에 데이터를 저장한다.\n",
    "                self.stack.append(data)\n",
    "                # 스택에 데이터를 추가했으므로 top을 1증가 시킨다.\n",
    "                self.top += 1\n",
    "            else:\n",
    "                # overflow가 발생되면 스택이 가득찼다는 메시지를 출력한다.\n",
    "                print('overflow 발생... 스택이 가득차서 {}를(을) 저장할 수 없습니다.'.format(data))\n",
    "            # ===== if 끝\n",
    "        else:\n",
    "            # 추가하려는 데이터가 스택에 존재하기 때문에 중복되는 데이터라고 메시지를 출력한다.\n",
    "            print('{}는(은) 중복되는 데이터 입니다.'.format(data))\n",
    "        # ===== if 끝\n",
    "        # 스택에 저장된 데이터 개수만큼 반복하며 스택에 저장된 데이터를 출력한다.\n",
    "        print('스택에 저장된 데이터 => ', end = '')\n",
    "        for i in range(self.top):\n",
    "            print(self.stack[i], end = ' ')\n",
    "        print()\n",
    "    \n",
    "    # pop => 출력\n",
    "    \n",
    "    # view => 스택에 저장된 데이터 보기\n",
    "    def view(self):\n",
    "        # underflow 인가 검사한다.\n",
    "        if 조건식:\n",
    "            # 스택에 저장된 데이터가 없으므로 없다고 출력한다.\n",
    "        else:\n",
    "            # 스택에 저장된 데이터의 개수만큼 반복하며 스택에 저장된 데이터를 출력한다."
   ]
  },
  {
   "cell_type": "code",
   "execution_count": 44,
   "metadata": {},
   "outputs": [
    {
     "name": "stdout",
     "output_type": "stream",
     "text": [
      "스택에 저장된 데이터 => 111 \n",
      "스택에 저장된 데이터 => 111 3.141592 \n",
      "스택에 저장된 데이터 => 111 3.141592 수요일 \n",
      "스택에 저장된 데이터 => 111 3.141592 수요일 True \n",
      "111는(은) 중복되는 데이터 입니다.\n",
      "스택에 저장된 데이터 => 111 3.141592 수요일 True \n",
      "스택에 저장된 데이터 => 111 3.141592 수요일 True 555 \n",
      "overflow 발생... 스택이 가득차서 777를(을) 저장할 수 없습니다.\n",
      "스택에 저장된 데이터 => 111 3.141592 수요일 True 555 \n"
     ]
    }
   ],
   "source": [
    "# 현재 파일이 다른 파일에 모듈로 import 될 때 if __name__ == '__main__': 내부에 코딩한 내용은 자동으로 실행되지 않는다.\n",
    "if __name__ == '__main__':\n",
    "    # 테스트 코드\n",
    "    stack = Stack()\n",
    "    stack.view()\n",
    "    stack.push(111)\n",
    "    stack.push(3.141592)\n",
    "    stack.push('수요일')\n",
    "    stack.push(True)\n",
    "    stack.push(111)\n",
    "    stack.push(555)\n",
    "    stack.push(777)\n",
    "    print('=' * 80)\n",
    "    stack.view()\n",
    "    print('=' * 80)"
   ]
  },
  {
   "cell_type": "code",
   "execution_count": null,
   "metadata": {},
   "outputs": [],
   "source": []
  },
  {
   "cell_type": "code",
   "execution_count": null,
   "metadata": {},
   "outputs": [],
   "source": []
  },
  {
   "cell_type": "code",
   "execution_count": null,
   "metadata": {},
   "outputs": [],
   "source": []
  },
  {
   "cell_type": "code",
   "execution_count": null,
   "metadata": {},
   "outputs": [],
   "source": []
  },
  {
   "cell_type": "code",
   "execution_count": null,
   "metadata": {},
   "outputs": [],
   "source": []
  }
 ],
 "metadata": {
  "kernelspec": {
   "display_name": "Python 3",
   "language": "python",
   "name": "python3"
  },
  "language_info": {
   "codemirror_mode": {
    "name": "ipython",
    "version": 3
   },
   "file_extension": ".py",
   "mimetype": "text/x-python",
   "name": "python",
   "nbconvert_exporter": "python",
   "pygments_lexer": "ipython3",
   "version": "3.6.8"
  }
 },
 "nbformat": 4,
 "nbformat_minor": 4
}
