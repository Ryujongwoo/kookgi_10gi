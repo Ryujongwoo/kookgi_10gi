{
 "cells": [
  {
   "cell_type": "code",
   "execution_count": 1,
   "id": "contemporary-container",
   "metadata": {},
   "outputs": [],
   "source": [
    "import warnings\n",
    "warnings.filterwarnings(action = 'ignore')\n",
    "import requests\n",
    "from bs4 import BeautifulSoup\n",
    "from datetime import datetime as dt"
   ]
  },
  {
   "cell_type": "code",
   "execution_count": 54,
   "id": "parliamentary-visitor",
   "metadata": {},
   "outputs": [
    {
     "name": "stdout",
     "output_type": "stream",
     "text": [
      "['윤석열', '동일']\n",
      "['로트와일러', '상승2']\n",
      "['신세계', 'KBO', '25억', '기부', '동일']\n",
      "['어쩌다', '사장', '하락2']\n",
      "['중국', '경제성장률', '6%', '이상', '동일']\n",
      "================================================================================\n",
      "['윤석열'] 동일\n",
      "['로트와일러'] 상승2\n",
      "['신세계', 'KBO', '25억', '기부'] 동일\n",
      "['어쩌다', '사장'] 하락2\n",
      "['중국', '경제성장률', '6%', '이상'] 동일\n",
      "================================================================================\n",
      "윤석열 -\n",
      "로트와일러 ↑2\n",
      "신세계 KBO 25억 기부 -\n",
      "어쩌다 사장 ↓2\n",
      "중국 경제성장률 6% 이상 -\n"
     ]
    }
   ],
   "source": [
    "targetSite = 'https://www.nate.com/'\n",
    "header = {'User-agent': 'Mozilla/5.0 (Windows NT 6.1; WOW64; Trident/7.0; rv:11.0) like Gecko'}\n",
    "request = requests.get(targetSite, headers = header)\n",
    "# print(request)\n",
    "html = request.text\n",
    "soup = BeautifulSoup(html, 'html.parser')\n",
    "# print(soup)\n",
    "\n",
    "issues = soup.findAll('a', {'class': 'ik'}) # 실시간 이슈 키워드와 상승, 하락 폭 크롤링\n",
    "# issues = soup.findAll('span', {'class': 'txt_rank'}) # 실시간 이슈 키워드만 크롤링 # 검색어만 크롤링\n",
    "# print(issues)\n",
    "# print(len(issues))\n",
    "\n",
    "for issue in issues:\n",
    "    print(issue.text.split())\n",
    "print('=' * 80)\n",
    "\n",
    "for issue in issues:\n",
    "    print(issue.text.split()[:-1], issue.text.split()[-1])\n",
    "print('=' * 80)\n",
    "\n",
    "for issue in issues:\n",
    "    print(' '.join(issue.text.split()[:-1]), end = ' ')\n",
    "    check = issue.text.split()[-1]\n",
    "    if check[:2] == '상승':\n",
    "        print('↑' + check[2:])\n",
    "    elif check[:2] == '하락':\n",
    "        print('↓' + check[2:])\n",
    "    elif check[:2] == '동일':\n",
    "        print('-')\n",
    "    else:\n",
    "        print(check)"
   ]
  },
  {
   "cell_type": "code",
   "execution_count": null,
   "id": "appropriate-reasoning",
   "metadata": {},
   "outputs": [],
   "source": []
  },
  {
   "cell_type": "code",
   "execution_count": null,
   "id": "great-easter",
   "metadata": {},
   "outputs": [],
   "source": []
  },
  {
   "cell_type": "code",
   "execution_count": null,
   "id": "frozen-delay",
   "metadata": {},
   "outputs": [],
   "source": []
  },
  {
   "cell_type": "code",
   "execution_count": null,
   "id": "intense-payroll",
   "metadata": {},
   "outputs": [],
   "source": []
  },
  {
   "cell_type": "code",
   "execution_count": null,
   "id": "removable-botswana",
   "metadata": {},
   "outputs": [],
   "source": []
  },
  {
   "cell_type": "code",
   "execution_count": null,
   "id": "smart-consistency",
   "metadata": {},
   "outputs": [],
   "source": []
  }
 ],
 "metadata": {
  "kernelspec": {
   "display_name": "Python 3",
   "language": "python",
   "name": "python3"
  },
  "language_info": {
   "codemirror_mode": {
    "name": "ipython",
    "version": 3
   },
   "file_extension": ".py",
   "mimetype": "text/x-python",
   "name": "python",
   "nbconvert_exporter": "python",
   "pygments_lexer": "ipython3",
   "version": "3.6.8"
  }
 },
 "nbformat": 4,
 "nbformat_minor": 5
}
