{
 "cells": [
  {
   "cell_type": "markdown",
   "metadata": {},
   "source": [
    "selection sort(선택 정렬) 알고리즘  \n",
    "선택 정렬은 i번째 데이터를 선택해서 나머지 데이터(j번째)와 비교하며 정렬한다.  \n",
    "정렬할 데이터가 n개일 경우 회전수는 n-1번이 된다. => 데이터가 5개면 회전수는 4번이다.  "
   ]
  },
  {
   "cell_type": "code",
   "execution_count": 33,
   "metadata": {},
   "outputs": [
    {
     "data": {
      "image/png": "[encoded data removed]",
      "text/plain": [
       "<IPython.core.display.Image object>"
      ]
     },
     "execution_count": 33,
     "metadata": {
      "image/png": {
       "width": "1100"
      }
     },
     "output_type": "execute_result"
    }
   ],
   "source": [
    "from IPython.display import Image\n",
    "Image('./selectionSort.png', width = '1100')"
   ]
  },
  {
   "cell_type": "code",
   "execution_count": 2,
   "metadata": {},
   "outputs": [
    {
     "name": "stdout",
     "output_type": "stream",
     "text": [
      "i = 0, j = 1\n",
      "i = 0, j = 2\n",
      "i = 0, j = 3\n",
      "i = 0, j = 4\n",
      "i = 1, j = 2\n",
      "i = 1, j = 3\n",
      "i = 1, j = 4\n",
      "i = 2, j = 3\n",
      "i = 2, j = 4\n",
      "i = 3, j = 4\n"
     ]
    }
   ],
   "source": [
    "for i in range(4): # 회전수, 데이터 선택 위치\n",
    "    for j in range(i + 1, 5): # 선택된 데이터와 비교 대상 데이터의 위치\n",
    "        print('i = {}, j = {}'.format(i, j))"
   ]
  },
  {
   "cell_type": "code",
   "execution_count": 28,
   "metadata": {},
   "outputs": [],
   "source": [
    "def selectionSortAsc(data):\n",
    "    for i in range(len(data) - 1):\n",
    "        for j in range(i + 1, len(data)):\n",
    "            # 오름차순 정렬 => 앞(i번째)의 데이터가 뒤(j번째)의 데이터 보다 크면 두 기억 장소의 데이터를 교환한다.\n",
    "            # 부등호를 '>'에서 '<'로 변경하면 내림차순으로 정렬된다.\n",
    "            if data[i] > data[j]:\n",
    "                data[i], data[j] = data[j], data[i]\n",
    "            # ===== if 끝\n",
    "        # ===== for j 끝 => 회전 종료\n",
    "        # print('{} 회전 결과 : {}'.format(i + 1, data))\n",
    "    # ===== for i 끝 => 정렬 종료\n",
    "    # print('정렬 결과 : {}'.format(data))\n",
    "    return data"
   ]
  },
  {
   "cell_type": "code",
   "execution_count": 31,
   "metadata": {},
   "outputs": [],
   "source": [
    "def selectionSortDesc(data):\n",
    "    for i in range(len(data) - 1):\n",
    "        for j in range(i + 1, len(data)):\n",
    "            if data[i] < data[j]:\n",
    "                data[i], data[j] = data[j], data[i]\n",
    "    return data"
   ]
  },
  {
   "cell_type": "code",
   "execution_count": 32,
   "metadata": {},
   "outputs": [
    {
     "name": "stdout",
     "output_type": "stream",
     "text": [
      "오름차순 정렬 결과 : [1, 3, 4, 8, 9]\n",
      "내림차순 정렬 결과 : [9, 8, 4, 3, 1]\n"
     ]
    }
   ],
   "source": [
    "if __name__ == '__main__':\n",
    "    data = [8, 3, 4, 9, 1]\n",
    "    result = selectionSortAsc(data)\n",
    "    print('오름차순 정렬 결과 : {}'.format(result))\n",
    "    result = selectionSortDesc(data)\n",
    "    print('내림차순 정렬 결과 : {}'.format(result))"
   ]
  },
  {
   "cell_type": "code",
   "execution_count": null,
   "metadata": {},
   "outputs": [],
   "source": []
  },
  {
   "cell_type": "code",
   "execution_count": null,
   "metadata": {},
   "outputs": [],
   "source": []
  },
  {
   "cell_type": "code",
   "execution_count": null,
   "metadata": {},
   "outputs": [],
   "source": []
  }
 ],
 "metadata": {
  "kernelspec": {
   "display_name": "Python 3",
   "language": "python",
   "name": "python3"
  },
  "language_info": {
   "codemirror_mode": {
    "name": "ipython",
    "version": 3
   },
   "file_extension": ".py",
   "mimetype": "text/x-python",
   "name": "python",
   "nbconvert_exporter": "python",
   "pygments_lexer": "ipython3",
   "version": "3.6.8"
  }
 },
 "nbformat": 4,
 "nbformat_minor": 4
}
