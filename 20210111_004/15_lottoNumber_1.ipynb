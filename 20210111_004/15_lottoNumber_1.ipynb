{
 "cells": [
  {
   "cell_type": "code",
   "execution_count": 1,
   "metadata": {},
   "outputs": [],
   "source": [
    "import random\n",
    "import time"
   ]
  },
  {
   "cell_type": "code",
   "execution_count": 55,
   "metadata": {},
   "outputs": [
    {
     "name": "stdout",
     "output_type": "stream",
     "text": [
      "1등 번호 : 10 34 11 28 19 36 보너스 : 04 \n"
     ]
    }
   ],
   "source": [
    "# 로또 추첨기 역할을 할 리스트를 만들고 1 ~ 45로 초기화시킨다.\n",
    "# lotto = []\n",
    "# for i in range(1, 46):\n",
    "    # lotto.append(i)\n",
    "lotto = [i for i in range(1, 46)]\n",
    "# print(lotto)\n",
    "\n",
    "'''\n",
    "# 섞기전 상태를 출력한다. => 1줄에 숫자 10개씩 출력한다.\n",
    "for i in range(len(lotto)):\n",
    "    print('%2d ' % lotto[i], end = '')\n",
    "    if (i + 1) % 10 == 0:\n",
    "        print()\n",
    "    # ===== if 끝\n",
    "# ===== for 끝\n",
    "print('\\n' + '=' * 40 + '섞기전')\n",
    "'''\n",
    "\n",
    "# 섞는다.\n",
    "# lotto[0]와(고정) lotto[1] ~ lotto[44] 중에서 랜덤한 위치의 값을 선택해서 두 기억 장소의 데이터를 교환한다.\n",
    "for i in range(1000000):\n",
    "    # lotto[1] ~ lotto[44] 중에서 랜덤한 위치의 값을 선택한다.\n",
    "    # randrange(a, b) => a 부터 b-1 사이의 숫자를 무작위로 추출한다.\n",
    "    r = random.randrange(1, 45)\n",
    "    # lotto[0]와 lotto[r]에 저장된 데이터를 교환한다.\n",
    "    # temp = lotto[0]\n",
    "    # lotto[0] = lotto[r]\n",
    "    # lotto[r] = temp\n",
    "    lotto[0], lotto[r] = lotto[r], lotto[0]\n",
    "# ===== for i 끝\n",
    "\n",
    "'''\n",
    "# 섞은후 상태를 출력한다. => 1줄에 숫자 10개씩 출력한다.\n",
    "for i in range(len(lotto)):\n",
    "    print('%2d ' % lotto[i], end = '')\n",
    "    if (i + 1) % 10 == 0:\n",
    "        print()\n",
    "    # ===== if 끝\n",
    "# ===== for 끝\n",
    "print('\\n' + '=' * 40 + '섞은후')\n",
    "'''\n",
    "\n",
    "# 1등 번호와 보너스 번호를 출력한다.\n",
    "print('1등 번호 : ', end = '')\n",
    "for i in range(6):\n",
    "    print('%02d ' % lotto[i], end = '')\n",
    "    # time 모듈의 sleep() 메소드는 인수로 지정된 시간만큼 프로그램을 일시적으로 멈춘다.\n",
    "    # sleep() 메소드에 프로그램을 멈추는 시간은 '초' 단위로 지정한다.\n",
    "    time.sleep(1)\n",
    "# ===== for i 끝\n",
    "print('보너스 : %02d ' % lotto[6])"
   ]
  },
  {
   "cell_type": "code",
   "execution_count": null,
   "metadata": {},
   "outputs": [],
   "source": []
  },
  {
   "cell_type": "code",
   "execution_count": null,
   "metadata": {},
   "outputs": [],
   "source": []
  },
  {
   "cell_type": "code",
   "execution_count": null,
   "metadata": {},
   "outputs": [],
   "source": []
  },
  {
   "cell_type": "code",
   "execution_count": null,
   "metadata": {},
   "outputs": [],
   "source": []
  }
 ],
 "metadata": {
  "kernelspec": {
   "display_name": "Python 3",
   "language": "python",
   "name": "python3"
  },
  "language_info": {
   "codemirror_mode": {
    "name": "ipython",
    "version": 3
   },
   "file_extension": ".py",
   "mimetype": "text/x-python",
   "name": "python",
   "nbconvert_exporter": "python",
   "pygments_lexer": "ipython3",
   "version": "3.6.8"
  }
 },
 "nbformat": 4,
 "nbformat_minor": 4
}
