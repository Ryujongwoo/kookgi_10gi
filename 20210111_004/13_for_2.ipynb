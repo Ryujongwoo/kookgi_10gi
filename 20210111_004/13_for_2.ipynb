{
 "cells": [
  {
   "cell_type": "markdown",
   "metadata": {},
   "source": [
    "리스트, 튜플, 딕셔너리, set과 함께 사용하는 for  \n",
    "리스트, 튜플, 딕셔너리, set의 0번째 인덱스 값을 변수에 저장하고 반복을 시작하고 마지막 값을 변수에 저장하고 반복한 후 종료한다.  \n",
    "\n",
    "for 변수 in 리스트, 튜플, 딕셔너리, set의 이름: # 인덱싱 및 슬라이싱도 가능하다.  \n",
    "&nbsp;&nbsp;&nbsp;&nbsp;반복할 문장  \n",
    "&nbsp;&nbsp;&nbsp;&nbsp;..."
   ]
  },
  {
   "cell_type": "code",
   "execution_count": 7,
   "metadata": {},
   "outputs": [
    {
     "name": "stdout",
     "output_type": "stream",
     "text": [
      "['Life', 'is', 'too', 'Good']\n",
      "================================================================================\n",
      "Life\n",
      "is\n",
      "too\n",
      "Good\n",
      "================================================================================\n",
      "Life\n",
      "is\n",
      "too\n",
      "Good\n",
      "================================================================================\n",
      "is\n",
      "too\n"
     ]
    }
   ],
   "source": [
    "# 리스트와 함께 사용하는 for\n",
    "a = ['Life', 'is', 'too', 'Good']\n",
    "print(a)\n",
    "print('=' * 80)\n",
    "\n",
    "for i in a:\n",
    "    print(i)\n",
    "print('=' * 80)\n",
    "\n",
    "for i in range(len(a)):\n",
    "    print(a[i])\n",
    "print('=' * 80)\n",
    "\n",
    "for i in a[1:3]:\n",
    "    print(i)"
   ]
  },
  {
   "cell_type": "code",
   "execution_count": 8,
   "metadata": {},
   "outputs": [
    {
     "name": "stdout",
     "output_type": "stream",
     "text": [
      "('Life', 'is', 'too', 'Good')\n",
      "================================================================================\n",
      "Life\n",
      "is\n",
      "too\n",
      "Good\n",
      "================================================================================\n",
      "Life\n",
      "is\n",
      "too\n",
      "Good\n",
      "================================================================================\n",
      "is\n",
      "too\n"
     ]
    }
   ],
   "source": [
    "# 튜플 함께 사용하는 for\n",
    "a = 'Life', 'is', 'too', 'Good'\n",
    "print(a)\n",
    "print('=' * 80)\n",
    "\n",
    "for i in a:\n",
    "    print(i)\n",
    "print('=' * 80)\n",
    "\n",
    "for i in range(len(a)):\n",
    "    print(a[i])\n",
    "print('=' * 80)\n",
    "\n",
    "for i in a[1:3]:\n",
    "    print(i)"
   ]
  },
  {
   "cell_type": "code",
   "execution_count": 10,
   "metadata": {},
   "outputs": [
    {
     "name": "stdout",
     "output_type": "stream",
     "text": [
      "{'Good', 'is', 'Life', 'too'}\n",
      "================================================================================\n",
      "Good\n",
      "is\n",
      "Life\n",
      "too\n",
      "================================================================================\n"
     ]
    },
    {
     "ename": "TypeError",
     "evalue": "'set' object is not subscriptable",
     "output_type": "error",
     "traceback": [
      "\u001b[1;31m---------------------------------------------------------------------------\u001b[0m",
      "\u001b[1;31mTypeError\u001b[0m                                 Traceback (most recent call last)",
      "\u001b[1;32m<ipython-input-10-5576634012c4>\u001b[0m in \u001b[0;36m<module>\u001b[1;34m\u001b[0m\n\u001b[0;32m     13\u001b[0m \u001b[0mprint\u001b[0m\u001b[1;33m(\u001b[0m\u001b[1;34m'='\u001b[0m \u001b[1;33m*\u001b[0m \u001b[1;36m80\u001b[0m\u001b[1;33m)\u001b[0m\u001b[1;33m\u001b[0m\u001b[1;33m\u001b[0m\u001b[0m\n\u001b[0;32m     14\u001b[0m '''\n\u001b[1;32m---> 15\u001b[1;33m \u001b[1;32mfor\u001b[0m \u001b[0mi\u001b[0m \u001b[1;32min\u001b[0m \u001b[0ma\u001b[0m\u001b[1;33m[\u001b[0m\u001b[1;36m1\u001b[0m\u001b[1;33m:\u001b[0m\u001b[1;36m3\u001b[0m\u001b[1;33m]\u001b[0m\u001b[1;33m:\u001b[0m\u001b[1;33m\u001b[0m\u001b[1;33m\u001b[0m\u001b[0m\n\u001b[0m\u001b[0;32m     16\u001b[0m     \u001b[0mprint\u001b[0m\u001b[1;33m(\u001b[0m\u001b[0mi\u001b[0m\u001b[1;33m)\u001b[0m\u001b[1;33m\u001b[0m\u001b[1;33m\u001b[0m\u001b[0m\n",
      "\u001b[1;31mTypeError\u001b[0m: 'set' object is not subscriptable"
     ]
    }
   ],
   "source": [
    "# set과 함께 사용하는 for\n",
    "a = {'Life', 'is', 'too', 'Good'}\n",
    "print(a)\n",
    "print('=' * 80)\n",
    "\n",
    "for i in a:\n",
    "    print(i)\n",
    "print('=' * 80)\n",
    "\n",
    "'''\n",
    "for i in range(len(a)):\n",
    "    print(a[i]) # set은 입력되는 데이터 순서와 실제 저장되는 데이터 순서가 달라서 인덱싱을 사용할 수 없으므로 에러가 발생된다.\n",
    "print('=' * 80)\n",
    "\n",
    "for i in a[1:3]: # set은 입력되는 데이터 순서와 실제 저장되는 데이터 순서가 달라서 슬라이싱을 사용할 수 없으므로 에러가 발생된다.\n",
    "    print(i)\n",
    "'''"
   ]
  },
  {
   "cell_type": "code",
   "execution_count": 15,
   "metadata": {},
   "outputs": [
    {
     "name": "stdout",
     "output_type": "stream",
     "text": [
      "{'apple': 1000, 'banana': 3500, 'melon': 10000, 'mango': 5000}\n",
      "dict_keys(['apple', 'banana', 'melon', 'mango'])\n",
      "dict_values([1000, 3500, 10000, 5000])\n",
      "dict_items([('apple', 1000), ('banana', 3500), ('melon', 10000), ('mango', 5000)])\n"
     ]
    }
   ],
   "source": [
    "# 딕셔너리와 함께 사용하는 for\n",
    "a = {'apple': 1000, 'banana': 3500, 'melon': 10000, 'mango': 5000}\n",
    "print(a)\n",
    "print(a.keys())\n",
    "print(a.values())\n",
    "print(a.items())"
   ]
  },
  {
   "cell_type": "code",
   "execution_count": 18,
   "metadata": {},
   "outputs": [
    {
     "name": "stdout",
     "output_type": "stream",
     "text": [
      "apple\n",
      "banana\n",
      "melon\n",
      "mango\n",
      "================================================================================\n",
      "apple\n",
      "banana\n",
      "melon\n",
      "mango\n"
     ]
    }
   ],
   "source": [
    "for key in a.keys():\n",
    "    print(key)\n",
    "print('=' * 80)\n",
    "\n",
    "for key in a: # 딕셔너리 이름은 딕셔너리이름.keys()와 같은 의미로 사용된다.\n",
    "    print(key)"
   ]
  },
  {
   "cell_type": "code",
   "execution_count": 22,
   "metadata": {},
   "outputs": [
    {
     "name": "stdout",
     "output_type": "stream",
     "text": [
      "1000\n",
      "3500\n",
      "10000\n",
      "5000\n",
      "================================================================================\n",
      "1000\n",
      "3500\n",
      "10000\n",
      "5000\n",
      "================================================================================\n",
      "1000\n",
      "3500\n",
      "10000\n",
      "5000\n"
     ]
    }
   ],
   "source": [
    "for value in a.values():\n",
    "    print(value)\n",
    "print('=' * 80)\n",
    "\n",
    "# 딕셔너리의 key 값을 이용해 value 얻어오기\n",
    "for key in a.keys():\n",
    "    print(a[key])\n",
    "print('=' * 80)\n",
    "for key in a.keys():\n",
    "    print(a.get(key))"
   ]
  },
  {
   "cell_type": "code",
   "execution_count": 30,
   "metadata": {},
   "outputs": [
    {
     "name": "stdout",
     "output_type": "stream",
     "text": [
      "('apple', 1000)\n",
      "('banana', 3500)\n",
      "('melon', 10000)\n",
      "('mango', 5000)\n",
      "================================================================================\n",
      "apple\n",
      "banana\n",
      "melon\n",
      "mango\n",
      "================================================================================\n",
      "1000\n",
      "3500\n",
      "10000\n",
      "5000\n",
      "================================================================================\n",
      "apple(은)는 1000원 입니다.\n",
      "banana(은)는 3500원 입니다.\n",
      "melon(은)는 10000원 입니다.\n",
      "mango(은)는 5000원 입니다.\n",
      "================================================================================\n",
      "apple(은)는 1,000원 입니다.\n",
      "banana(은)는 3,500원 입니다.\n",
      "melon(은)는 10,000원 입니다.\n",
      "mango(은)는 5,000원 입니다.\n"
     ]
    }
   ],
   "source": [
    "for item in a.items():\n",
    "    print(item)\n",
    "print('=' * 80)\n",
    "\n",
    "for item in a.items():\n",
    "    print(item[0])\n",
    "print('=' * 80)\n",
    "\n",
    "for item in a.items():\n",
    "    print(item[1])\n",
    "print('=' * 80)\n",
    "\n",
    "# apple은 1000원 입니다.\n",
    "for item in a.items():\n",
    "    print('{}(은)는 {}원 입니다.'.format(item[0], item[1]))\n",
    "print('=' * 80)\n",
    "\n",
    "for key, value in a.items():\n",
    "    print('{0}(은)는 {1:,}원 입니다.'.format(key, value))"
   ]
  },
  {
   "cell_type": "code",
   "execution_count": null,
   "metadata": {},
   "outputs": [],
   "source": []
  },
  {
   "cell_type": "code",
   "execution_count": null,
   "metadata": {},
   "outputs": [],
   "source": []
  },
  {
   "cell_type": "code",
   "execution_count": null,
   "metadata": {},
   "outputs": [],
   "source": []
  },
  {
   "cell_type": "code",
   "execution_count": null,
   "metadata": {},
   "outputs": [],
   "source": []
  },
  {
   "cell_type": "code",
   "execution_count": null,
   "metadata": {},
   "outputs": [],
   "source": []
  }
 ],
 "metadata": {
  "kernelspec": {
   "display_name": "Python 3",
   "language": "python",
   "name": "python3"
  },
  "language_info": {
   "codemirror_mode": {
    "name": "ipython",
    "version": 3
   },
   "file_extension": ".py",
   "mimetype": "text/x-python",
   "name": "python",
   "nbconvert_exporter": "python",
   "pygments_lexer": "ipython3",
   "version": "3.6.8"
  }
 },
 "nbformat": 4,
 "nbformat_minor": 4
}
