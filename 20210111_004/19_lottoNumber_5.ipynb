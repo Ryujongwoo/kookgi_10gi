{
 "cells": [
  {
   "cell_type": "code",
   "execution_count": 1,
   "metadata": {},
   "outputs": [],
   "source": [
    "import random"
   ]
  },
  {
   "cell_type": "code",
   "execution_count": 15,
   "metadata": {},
   "outputs": [
    {
     "name": "stdout",
     "output_type": "stream",
     "text": [
      "17\n",
      "38\n",
      "15\n",
      "20\n",
      "19\n",
      "18\n",
      "1등 번호 : [17, 38, 15, 20, 19, 18]\n",
      "15\n",
      "18\n",
      "29\n",
      "보너스 번호 : 29\n"
     ]
    }
   ],
   "source": [
    "# 로또 번호를 기억할 빈 리스트를 만든다.\n",
    "lotto = []\n",
    "\n",
    "while True:\n",
    "    number = random.randrange(1, 46)\n",
    "    print(number)\n",
    "    # 리스트에 중복되는 번호가 없을 경우에만 추가한다.\n",
    "    if number not in lotto:\n",
    "        lotto.append(number)\n",
    "    # 리스트에 숫자가 6개 저장되면 무한 루프를 탈출시킨다.\n",
    "    if len(lotto) == 6:\n",
    "        break\n",
    "print('1등 번호 : {}'.format(lotto))\n",
    "\n",
    "while True:\n",
    "    bonus = random.randrange(1, 46)\n",
    "    print(bonus)\n",
    "    if bonus not in lotto:\n",
    "        break\n",
    "print('보너스 번호 : {}'.format(bonus))"
   ]
  },
  {
   "cell_type": "code",
   "execution_count": 13,
   "metadata": {},
   "outputs": [
    {
     "name": "stdout",
     "output_type": "stream",
     "text": [
      "21\n",
      "37\n",
      "1\n",
      "23\n",
      "13\n",
      "4\n",
      "1등 번호 : [21, 37, 1, 23, 13, 4]\n",
      "1\n",
      "41\n",
      "보너스 번호 : 41\n"
     ]
    }
   ],
   "source": [
    "lotto = []\n",
    "while len(lotto) != 6:\n",
    "    number = random.randrange(1, 46)\n",
    "    print(number)\n",
    "    # 리스트에 중복되는 번호가 없을 경우에만 추가한다.\n",
    "    if number not in lotto:\n",
    "        lotto.append(number)\n",
    "print('1등 번호 : {}'.format(lotto))\n",
    "\n",
    "while len(lotto) != 7:\n",
    "    bonus = random.randrange(1, 46)\n",
    "    print(bonus)\n",
    "    if bonus not in lotto:\n",
    "        lotto.append(bonus)\n",
    "print('보너스 번호 : {}'.format(lotto[6]))"
   ]
  },
  {
   "cell_type": "code",
   "execution_count": null,
   "metadata": {},
   "outputs": [],
   "source": []
  },
  {
   "cell_type": "code",
   "execution_count": null,
   "metadata": {},
   "outputs": [],
   "source": []
  },
  {
   "cell_type": "code",
   "execution_count": null,
   "metadata": {},
   "outputs": [],
   "source": []
  },
  {
   "cell_type": "code",
   "execution_count": null,
   "metadata": {},
   "outputs": [],
   "source": []
  },
  {
   "cell_type": "code",
   "execution_count": null,
   "metadata": {},
   "outputs": [],
   "source": []
  },
  {
   "cell_type": "code",
   "execution_count": null,
   "metadata": {},
   "outputs": [],
   "source": []
  }
 ],
 "metadata": {
  "kernelspec": {
   "display_name": "Python 3",
   "language": "python",
   "name": "python3"
  },
  "language_info": {
   "codemirror_mode": {
    "name": "ipython",
    "version": 3
   },
   "file_extension": ".py",
   "mimetype": "text/x-python",
   "name": "python",
   "nbconvert_exporter": "python",
   "pygments_lexer": "ipython3",
   "version": "3.6.8"
  }
 },
 "nbformat": 4,
 "nbformat_minor": 4
}
