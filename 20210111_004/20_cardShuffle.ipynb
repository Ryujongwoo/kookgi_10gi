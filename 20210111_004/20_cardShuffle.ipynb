{
 "cells": [
  {
   "cell_type": "code",
   "execution_count": 1,
   "metadata": {},
   "outputs": [],
   "source": [
    "import random"
   ]
  },
  {
   "cell_type": "code",
   "execution_count": 27,
   "metadata": {},
   "outputs": [],
   "source": [
    "# 카드 출력에 사용할 숫자와 무늬를 기억하는 리스트를 만든다.\n",
    "number = ['A', '2', '3', '4', '5', '6', '7', '8', '9', '10', 'J', 'Q', 'K']\n",
    "symbol = ['♠', '◇', '♥', '♧']"
   ]
  },
  {
   "cell_type": "code",
   "execution_count": 38,
   "metadata": {},
   "outputs": [
    {
     "name": "stdout",
     "output_type": "stream",
     "text": [
      "♠A  ♠2  ♠3  ♠4  ♠5  ♠6  ♠7  ♠8  ♠9  ♠10 ♠J  ♠Q  ♠K  \n",
      "◇A  ◇2  ◇3  ◇4  ◇5  ◇6  ◇7  ◇8  ◇9  ◇10 ◇J  ◇Q  ◇K  \n",
      "♥A  ♥2  ♥3  ♥4  ♥5  ♥6  ♥7  ♥8  ♥9  ♥10 ♥J  ♥Q  ♥K  \n",
      "♧A  ♧2  ♧3  ♧4  ♧5  ♧6  ♧7  ♧8  ♧9  ♧10 ♧J  ♧Q  ♧K  \n",
      "================================================================================\n",
      "♠9  ◇4  ♥Q  ♧Q  ♥9  ♧5  ♠Q  ◇J  ♧9  ♥5  ♧K  ♥7  ♠4  \n",
      "◇Q  ♧J  ◇10 ♥K  ♥A  ♠6  ◇8  ◇5  ◇K  ◇9  ♥6  ♠3  ♥3  \n",
      "◇7  ♧A  ♠2  ♠8  ♠5  ♥10 ♠10 ◇3  ♥4  ◇2  ♧8  ♧3  ◇A  \n",
      "◇6  ♥2  ♠J  ♠K  ♧7  ♠A  ♧10 ♧2  ♧6  ♥8  ♠7  ♥J  ♧4  \n"
     ]
    }
   ],
   "source": [
    "# 0 ~ 51의 숫자가 채워진 리스트를 만든다. => 카드\n",
    "card = [i for i in range(52)]\n",
    "# print(card)\n",
    "\n",
    "# 섞기전 상태를 출력한다. => card 리스트에 저장된 숫자를 한 줄에 13개씩 출력한다.\n",
    "for i in range(len(card)):\n",
    "    # print('{0:2d}'.format(card[i]), end = ' ')\n",
    "    # print('{0:2s}'.format(number[card[i] % 13]), end = ' ') # 숫자만\n",
    "    # print('{0:s}'.format(symbol[card[i] // 13]), end = ' ') # 무늬만\n",
    "    print('{0:s}{1:2s}'.format(symbol[card[i] // 13], number[card[i] % 13]), end = ' ')\n",
    "    if (i + 1) % 13 == 0:\n",
    "        print()\n",
    "print('=' * 80)\n",
    "\n",
    "# card[0]와 card[1] ~ card[51] 사이의 랜덤한 위치와 값을 교환한다.\n",
    "for i in range(1000000):\n",
    "    r = random.randrange(1, 52)\n",
    "    card[0], card[r] = card[r], card[0]\n",
    "\n",
    "for i in range(len(card)):\n",
    "    print('{0:s}{1:2s}'.format(symbol[card[i] // 13], number[card[i] % 13]), end = ' ')\n",
    "    if (i + 1) % 13 == 0:\n",
    "        print()"
   ]
  },
  {
   "cell_type": "code",
   "execution_count": 39,
   "metadata": {},
   "outputs": [
    {
     "name": "stdout",
     "output_type": "stream",
     "text": [
      "1\n",
      "가위(1), 바위(2), 보(3) : 1\n",
      "비겼다~~~~~\n"
     ]
    }
   ],
   "source": [
    "import random\n",
    "cpu = random.randrange(1, 4)\n",
    "print(cpu)\n",
    "user = int(input('가위(1), 바위(2), 보(3) : '))\n",
    "if cpu == 1 and user == 2 or cpu == 2 and user == 3 or cpu == 3 and user == 1:\n",
    "    print('이겼다~~~~~')\n",
    "elif cpu == 1 and user == 3 or cpu == 2 and user == 1 or cpu == 3 and user == 2:\n",
    "    print('졌다~~~~~ 망했어ㅠㅠ')\n",
    "else:\n",
    "    print('비겼다~~~~~')"
   ]
  },
  {
   "cell_type": "code",
   "execution_count": null,
   "metadata": {},
   "outputs": [],
   "source": []
  },
  {
   "cell_type": "code",
   "execution_count": null,
   "metadata": {},
   "outputs": [],
   "source": []
  },
  {
   "cell_type": "code",
   "execution_count": null,
   "metadata": {},
   "outputs": [],
   "source": []
  },
  {
   "cell_type": "code",
   "execution_count": null,
   "metadata": {},
   "outputs": [],
   "source": []
  },
  {
   "cell_type": "code",
   "execution_count": null,
   "metadata": {},
   "outputs": [],
   "source": []
  }
 ],
 "metadata": {
  "kernelspec": {
   "display_name": "Python 3",
   "language": "python",
   "name": "python3"
  },
  "language_info": {
   "codemirror_mode": {
    "name": "ipython",
    "version": 3
   },
   "file_extension": ".py",
   "mimetype": "text/x-python",
   "name": "python",
   "nbconvert_exporter": "python",
   "pygments_lexer": "ipython3",
   "version": "3.6.8"
  }
 },
 "nbformat": 4,
 "nbformat_minor": 4
}
