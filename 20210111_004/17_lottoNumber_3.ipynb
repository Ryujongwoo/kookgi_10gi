{
 "cells": [
  {
   "cell_type": "code",
   "execution_count": 1,
   "metadata": {},
   "outputs": [],
   "source": [
    "import random"
   ]
  },
  {
   "cell_type": "code",
   "execution_count": 15,
   "metadata": {},
   "outputs": [
    {
     "name": "stdout",
     "output_type": "stream",
     "text": [
      "로또 복권 구매 금액을 입력하세요 : 5900\n",
      "  1 game : 02 10 15 32 36 38 \n",
      "  2 game : 01 24 25 34 35 44 \n",
      "  3 game : 03 18 24 33 37 39 \n",
      "  4 game : 16 21 27 32 34 43 \n",
      "  5 game : 07 16 31 32 37 45 \n"
     ]
    }
   ],
   "source": [
    "# 로또 복권 구매 금액을 입력받아 입력받은 금액만큼 로또 번호를 출력하는 프로그램\n",
    "lotto = [i for i in range(1, 46)]\n",
    "# 로또 복권 구매 금액을 입력받는다.\n",
    "money = int(input('로또 복권 구매 금액을 입력하세요 : '))\n",
    "# 복권 구매 금액만큼 반복하며 로또 번호를 출력한다.\n",
    "for i in range(money // 1000):\n",
    "    # for 내부에 다른 for가 나와야 하는 경우 반복문을 제어하는 변수 이름은 반드시 다른 이름을 사용해야 한다.\n",
    "    for j in range(1000000):\n",
    "        r = random.randrange(1, 45)\n",
    "        lotto[0], lotto[r] = lotto[r], lotto[0]\n",
    "    # ===== for j 끝\n",
    "    print('{0:3d} game : '.format(i + 1), end = '')\n",
    "\n",
    "    '''\n",
    "    # 반복문이 완전히 종료된 후 같은 이름의 변수를 사용하는 것은 아무런 문제가 없다.\n",
    "    for j in range(6):\n",
    "        print('{0:02d} '.format(lotto[j]), end = '')\n",
    "    # ===== for j 끝   \n",
    "    '''\n",
    "    \n",
    "    # 자동으로 생성된 복권 번호를 오름차순으로 정렬한다.\n",
    "    # 1등 예상 번호를 오름차순으로 정렬해 출력하기 위해 lotto 리스트의 앞 6개만 슬라이싱한 후 sort() 메소드로 정렬한다.\n",
    "    result = lotto[:6]\n",
    "    result.sort()\n",
    "    for j in range(6):\n",
    "        print('{0:02d} '.format(result[j]), end = '')\n",
    "    # ===== for j 끝   \n",
    "    print()\n",
    "# ===== for i"
   ]
  },
  {
   "cell_type": "code",
   "execution_count": null,
   "metadata": {},
   "outputs": [],
   "source": []
  },
  {
   "cell_type": "code",
   "execution_count": null,
   "metadata": {},
   "outputs": [],
   "source": []
  },
  {
   "cell_type": "code",
   "execution_count": null,
   "metadata": {},
   "outputs": [],
   "source": []
  }
 ],
 "metadata": {
  "kernelspec": {
   "display_name": "Python 3",
   "language": "python",
   "name": "python3"
  },
  "language_info": {
   "codemirror_mode": {
    "name": "ipython",
    "version": 3
   },
   "file_extension": ".py",
   "mimetype": "text/x-python",
   "name": "python",
   "nbconvert_exporter": "python",
   "pygments_lexer": "ipython3",
   "version": "3.6.8"
  }
 },
 "nbformat": 4,
 "nbformat_minor": 4
}
