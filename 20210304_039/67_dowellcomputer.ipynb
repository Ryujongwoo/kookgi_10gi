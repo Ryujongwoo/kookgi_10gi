{
 "cells": [
  {
   "cell_type": "markdown",
   "id": "similar-ability",
   "metadata": {},
   "source": [
    "jupyter notebook에서 자동 완성(tab 키)이 지원되지 않으면 cmd 창에서 pip uninstall jedi를 실행해서 jedi를 제거한다."
   ]
  },
  {
   "cell_type": "code",
   "execution_count": 1,
   "id": "overhead-secretary",
   "metadata": {},
   "outputs": [],
   "source": [
    "# 경고 메시지가 출력되지 않게 하려면 아래의 코드를 실행한다.\n",
    "import warnings\n",
    "warnings.filterwarnings(action = 'ignore') # 다시 경고 메시지를 출력되게 하려면 warnings.filterwarnings(action = 'default')를 실행한다."
   ]
  },
  {
   "cell_type": "code",
   "execution_count": 2,
   "id": "moral-wonder",
   "metadata": {},
   "outputs": [],
   "source": [
    "# 크롤링에 사용할 라이브러리를 설치하고 import 한다.\n",
    "# !pip install requests\n",
    "# !pip install beautifulsoup4\n",
    "import requests               # 크롤링할 사이트에 접속해서 html 문서를 읽어온다.\n",
    "from bs4 import BeautifulSoup # requests 모듈을 사용해 읽어온 html 문서를 파싱(분석)한다."
   ]
  },
  {
   "cell_type": "code",
   "execution_count": 3,
   "id": "middle-metabolism",
   "metadata": {
    "scrolled": true
   },
   "outputs": [
    {
     "name": "stdout",
     "output_type": "stream",
     "text": [
      "\n",
      "<!DOCTYPE html>\n",
      "\n",
      "<html>\n",
      "<head>\n",
      "<link href=\"./css/mainStyle.css\" rel=\"stylesheet\" type=\"text/css\"/>\n",
      "<meta content=\"text/html; charset=utf-8\" http-equiv=\"Content-Type\"/>\n",
      "<title>컴잘알</title>\n",
      "</head>\n",
      "<body>\n",
      "<div id=\"mainBox\">\n",
      "<div id=\"titleBox\">\n",
      "<a href=\"./main.jsp\">컴잘알</a>\n",
      "</div>\n",
      "<div id=\"navigationBox\">\n",
      "<a class=\"basicButton\" href=\"./member/memberLoginForm.jsp\">로그인</a>\n",
      "<a class=\"basicButton\" href=\"./member/memberJoinForm.jsp\">회원가입</a>\n",
      "<a class=\"basicButton\" href=\"./study/study.jsp\">공부방</a>\n",
      "<a class=\"basicButton\" href=\"./talk/talkListForm.jsp\">대화방</a>\n",
      "<a class=\"basicButton\" href=\"./notice/noticeListForm.jsp\">공지사항</a>\n",
      "</div>\n",
      "<hr style=\"border: 2px solid black;\"/>\n",
      "<div class=\"slideshow-container\"><br/>\n",
      "<div class=\"mySlides fade\">\n",
      "<img src=\"./image/mainOne.jpg\" style=\"width:100%\"/>\n",
      "</div>\n",
      "<div class=\"mySlides fade\">\n",
      "<img src=\"./image/mainTwo.jpg\" style=\"width:100%\"/>\n",
      "</div>\n",
      "<div class=\"mySlides fade\">\n",
      "<img src=\"./image/mainThree.jpg\" style=\"width:100%\"/>\n",
      "</div>\n",
      "<a class=\"prev\" onclick=\"plusSlides(-1)\">❮</a>\n",
      "<a class=\"next\" onclick=\"plusSlides(1)\">❯</a>\n",
      "</div>\n",
      "<br/>\n",
      "<div style=\"text-align:center\">\n",
      "<span class=\"dot\" onclick=\"currentSlide(1)\"></span>\n",
      "<span class=\"dot\" onclick=\"currentSlide(2)\"></span>\n",
      "<span class=\"dot\" onclick=\"currentSlide(3)\"></span>\n",
      "</div>\n",
      "<script>\r\n",
      "\t\t\t\tvar slideIndex = 1;\r\n",
      "\t\t\t\tshowSlides(slideIndex);\r\n",
      "\t\t\t\t\r\n",
      "\t\t\t\tfunction plusSlides(n) {\r\n",
      "\t\t\t\t  showSlides(slideIndex += n);\r\n",
      "\t\t\t\t}\r\n",
      "\t\t\t\t\r\n",
      "\t\t\t\tfunction currentSlide(n) {\r\n",
      "\t\t\t\t  showSlides(slideIndex = n);\r\n",
      "\t\t\t\t}\r\n",
      "\t\t\t\t\r\n",
      "\t\t\t\tfunction showSlides(n) {\r\n",
      "\t\t\t\t  var i;\r\n",
      "\t\t\t\t  var slides = document.getElementsByClassName(\"mySlides\");\r\n",
      "\t\t\t\t  var dots = document.getElementsByClassName(\"dot\");\r\n",
      "\t\t\t\t  if (n > slides.length) {slideIndex = 1} \r\n",
      "\t\t\t\t  if (n < 1) {slideIndex = slides.length}\r\n",
      "\t\t\t\t  for (i = 0; i < slides.length; i++) {\r\n",
      "\t\t\t\t      slides[i].style.display = \"none\"; \r\n",
      "\t\t\t\t  }\r\n",
      "\t\t\t\t  for (i = 0; i < dots.length; i++) {\r\n",
      "\t\t\t\t      dots[i].className = dots[i].className.replace(\" active\", \"\");\r\n",
      "\t\t\t\t  }\r\n",
      "\t\t\t\t  slides[slideIndex-1].style.display = \"block\"; \r\n",
      "\t\t\t\t  dots[slideIndex-1].className += \" active\";\r\n",
      "\t\t\t\t}\r\n",
      "\t\t\t</script>\n",
      "<br/>\n",
      "<div id=\"viewBox\">\n",
      "<table>\n",
      "<tr>\n",
      "<td class=\"head\" colspan=\"4\">\r\n",
      "\t\t        \t\t\t최근 공지사항\r\n",
      "\t\t        \t\t</td>\n",
      "</tr>\n",
      "<tr>\n",
      "<td class=\"middle\">\r\n",
      "\t\t\t\t        \t아이디\r\n",
      "\t\t\t\t        </td>\n",
      "<td class=\"middle\" style=\"width: 320px;\">\r\n",
      "\t\t\t\t        \t제목\r\n",
      "\t\t\t\t        </td>\n",
      "<td class=\"middle\" style=\"width: 180px;\">\r\n",
      "\t\t\t\t        \t게시글 등록일\r\n",
      "\t\t\t\t        </td>\n",
      "</tr>\n",
      "<tr>\n",
      "<td class=\"tail\" style=\"text-align: center;\">나동빈</td>\n",
      "<td class=\"tail\"><a href=\"./notice/noticeViewForm.jsp?noticeID=4\"><b>자바 기초 프로그래밍 강좌를 완강했습니다.</b></a></td>\n",
      "<td class=\"tail\" style=\"text-align: center;\">2017-05-02\r\n",
      "\t\t\t\t    </td></tr>\n",
      "<tr>\n",
      "<td class=\"tail\" style=\"text-align: center;\">나동빈</td>\n",
      "<td class=\"tail\"><a href=\"./notice/noticeViewForm.jsp?noticeID=1\"><b>컴잘알에 오신 것을 환영합니다.</b></a></td>\n",
      "<td class=\"tail\" style=\"text-align: center;\">2016-11-28\r\n",
      "\t\t\t\t    </td></tr>\n",
      "</table>\n",
      "</div>\n",
      "<div class=\"studyViewBox\">\n",
      "<table>\n",
      "<tr>\n",
      "<td class=\"head\" colspan=\"3\">\r\n",
      "\t\t        \t\t\t최근 강의\r\n",
      "\t\t        \t\t</td>\n",
      "</tr>\n",
      "<tr>\n",
      "<td class=\"middle\">\r\n",
      "\t\t\t\t        \t선생님\r\n",
      "\t\t\t\t        </td>\n",
      "<td class=\"middle\" style=\"width: 560px;\">\r\n",
      "\t\t\t\t        \t제목\r\n",
      "\t\t\t\t        </td>\n",
      "<td class=\"middle\" style=\"width: 180px;\">\r\n",
      "\t\t\t\t        \t게시글 등록일\r\n",
      "\t\t\t\t        </td>\n",
      "</tr>\n",
      "<tr>\n",
      "<td class=\"tail\" style=\"text-align: center;\">나동빈</td>\n",
      "<td class=\"tail\"><a href=\"./study/study.jsp?studyID=85\"><b>C언어 기초 프로그래밍 강좌 20강 - 동적 메모리의 활용 (C Programming Tutorial For Beginners 2017 #20) </b></a></td>\n",
      "<td class=\"tail\" style=\"text-align: center;\">2017-05-15\r\n",
      "\t\t\t\t    </td></tr>\n",
      "<tr>\n",
      "<td class=\"tail\" style=\"text-align: center;\">나동빈</td>\n",
      "<td class=\"tail\"><a href=\"./study/study.jsp?studyID=84\"><b>C언어 기초 프로그래밍 강좌 19강 - 동적 메모리 (C Programming Tutorial For Beginners 2017 #19) </b></a></td>\n",
      "<td class=\"tail\" style=\"text-align: center;\">2017-05-15\r\n",
      "\t\t\t\t    </td></tr>\n",
      "<tr>\n",
      "<td class=\"tail\" style=\"text-align: center;\">나동빈</td>\n",
      "<td class=\"tail\"><a href=\"./study/study.jsp?studyID=83\"><b>C언어 기초 프로그래밍 강좌 18강 - 파일 입출력 (C Programming Tutorial For Beginners 2017 #18) </b></a></td>\n",
      "<td class=\"tail\" style=\"text-align: center;\">2017-05-15\r\n",
      "\t\t\t\t    </td></tr>\n",
      "<tr>\n",
      "<td class=\"tail\" style=\"text-align: center;\">나동빈</td>\n",
      "<td class=\"tail\"><a href=\"./study/study.jsp?studyID=82\"><b>C언어 기초 프로그래밍 강좌 17강 - 구조체의 활용 ② (C Programming Tutorial For Beginners 2017 #17) </b></a></td>\n",
      "<td class=\"tail\" style=\"text-align: center;\">2017-05-15\r\n",
      "\t\t\t\t    </td></tr>\n",
      "<tr>\n",
      "<td class=\"tail\" style=\"text-align: center;\">나동빈</td>\n",
      "<td class=\"tail\"><a href=\"./study/study.jsp?studyID=81\"><b>C언어 기초 프로그래밍 강좌 16강 - 구조체의 활용 ① (C Programming Tutorial For Beginners 2017 #16) </b></a></td>\n",
      "<td class=\"tail\" style=\"text-align: center;\">2017-05-15\r\n",
      "\t\t\t\t    </td></tr>\n",
      "</table>\n",
      "</div>\n",
      "</div>\n",
      "</body>\n",
      "</html> \n"
     ]
    }
   ],
   "source": [
    "targetSite = 'http://www.dowellcomputer.com/main.jsp'\n",
    "# requests 모듈의 get() 메소드로 타겟 사이트의 정보를 얻어온다. 요청한다.\n",
    "request = requests.get(targetSite)\n",
    "# print(request) # <Response [200]> => 정보를 정상적으로 얻어왔다.\n",
    "# 타겟 사이트의 정보 중에서 text로 된 html의 내용만 얻어온다.\n",
    "html = request.text\n",
    "# print(html)\n",
    "# bs4 모듈의 BeautifulSoup() 함수로 타겟 사이트에서 얻어온 html 문서를 파싱할 수 있도록 준비한다.\n",
    "soup = BeautifulSoup(html, 'html.parser')\n",
    "print(soup)"
   ]
  },
  {
   "cell_type": "markdown",
   "id": "destroyed-debate",
   "metadata": {},
   "source": [
    "html 태그와 html 태그에 지정한 속성을 이용한 크롤링  \n",
    "findAll('태그이름', {'속성이름': '속성값', ...}) => 태그 단위로 크롤링 할 때는 {} 안의 내용을 생략할 수 있다."
   ]
  },
  {
   "cell_type": "code",
   "execution_count": 8,
   "id": "developmental-comparison",
   "metadata": {},
   "outputs": [
    {
     "name": "stdout",
     "output_type": "stream",
     "text": [
      "자바 기초 프로그래밍 강좌를 완강했습니다.\n",
      "컴잘알에 오신 것을 환영합니다.\n",
      "C언어 기초 프로그래밍 강좌 20강 - 동적 메모리의 활용 (C Programming Tutorial For Beginners 2017 #20) \n",
      "C언어 기초 프로그래밍 강좌 19강 - 동적 메모리 (C Programming Tutorial For Beginners 2017 #19) \n",
      "C언어 기초 프로그래밍 강좌 18강 - 파일 입출력 (C Programming Tutorial For Beginners 2017 #18) \n",
      "C언어 기초 프로그래밍 강좌 17강 - 구조체의 활용 ② (C Programming Tutorial For Beginners 2017 #17) \n",
      "C언어 기초 프로그래밍 강좌 16강 - 구조체의 활용 ① (C Programming Tutorial For Beginners 2017 #16) \n"
     ]
    }
   ],
   "source": [
    "# 최근 공지사항은 <b> 태그 내부에 있다.\n",
    "notices = soup.findAll('b')\n",
    "# print(notices)\n",
    "for notice in notices:\n",
    "    print(notice.text)"
   ]
  },
  {
   "cell_type": "code",
   "execution_count": 11,
   "id": "after-sleeping",
   "metadata": {},
   "outputs": [
    {
     "name": "stdout",
     "output_type": "stream",
     "text": [
      "<td class=\"tail\" style=\"text-align: center;\">나동빈</td>\n",
      "<td class=\"tail\"><a href=\"./notice/noticeViewForm.jsp?noticeID=4\"><b>자바 기초 프로그래밍 강좌를 완강했습니다.</b></a></td>\n",
      "<td class=\"tail\" style=\"text-align: center;\">2017-05-02\r\n",
      "\t\t\t\t    </td>\n",
      "<td class=\"tail\" style=\"text-align: center;\">나동빈</td>\n",
      "<td class=\"tail\"><a href=\"./notice/noticeViewForm.jsp?noticeID=1\"><b>컴잘알에 오신 것을 환영합니다.</b></a></td>\n",
      "<td class=\"tail\" style=\"text-align: center;\">2016-11-28\r\n",
      "\t\t\t\t    </td>\n",
      "<td class=\"tail\" style=\"text-align: center;\">나동빈</td>\n",
      "<td class=\"tail\"><a href=\"./study/study.jsp?studyID=85\"><b>C언어 기초 프로그래밍 강좌 20강 - 동적 메모리의 활용 (C Programming Tutorial For Beginners 2017 #20) </b></a></td>\n",
      "<td class=\"tail\" style=\"text-align: center;\">2017-05-15\r\n",
      "\t\t\t\t    </td>\n",
      "<td class=\"tail\" style=\"text-align: center;\">나동빈</td>\n",
      "<td class=\"tail\"><a href=\"./study/study.jsp?studyID=84\"><b>C언어 기초 프로그래밍 강좌 19강 - 동적 메모리 (C Programming Tutorial For Beginners 2017 #19) </b></a></td>\n",
      "<td class=\"tail\" style=\"text-align: center;\">2017-05-15\r\n",
      "\t\t\t\t    </td>\n",
      "<td class=\"tail\" style=\"text-align: center;\">나동빈</td>\n",
      "<td class=\"tail\"><a href=\"./study/study.jsp?studyID=83\"><b>C언어 기초 프로그래밍 강좌 18강 - 파일 입출력 (C Programming Tutorial For Beginners 2017 #18) </b></a></td>\n",
      "<td class=\"tail\" style=\"text-align: center;\">2017-05-15\r\n",
      "\t\t\t\t    </td>\n",
      "<td class=\"tail\" style=\"text-align: center;\">나동빈</td>\n",
      "<td class=\"tail\"><a href=\"./study/study.jsp?studyID=82\"><b>C언어 기초 프로그래밍 강좌 17강 - 구조체의 활용 ② (C Programming Tutorial For Beginners 2017 #17) </b></a></td>\n",
      "<td class=\"tail\" style=\"text-align: center;\">2017-05-15\r\n",
      "\t\t\t\t    </td>\n",
      "<td class=\"tail\" style=\"text-align: center;\">나동빈</td>\n",
      "<td class=\"tail\"><a href=\"./study/study.jsp?studyID=81\"><b>C언어 기초 프로그래밍 강좌 16강 - 구조체의 활용 ① (C Programming Tutorial For Beginners 2017 #16) </b></a></td>\n",
      "<td class=\"tail\" style=\"text-align: center;\">2017-05-15\r\n",
      "\t\t\t\t    </td>\n"
     ]
    }
   ],
   "source": [
    "# 최근 공지사항은 class 속성이 tail인 <td> 태그 내부에 있다.\n",
    "notices = soup.findAll('td', {'class': 'tail'})\n",
    "# print(notices)\n",
    "for notice in notices:\n",
    "    # print(notice.text)\n",
    "    print(notice)"
   ]
  },
  {
   "cell_type": "markdown",
   "id": "molecular-paper",
   "metadata": {},
   "source": [
    "CSS 선택자를 이용한 크롤링  \n",
    "자식 선택자('>') 또는 자손(후손, 하위) 선택자(' ' => 공백)를 이용한 크롤링  \n",
    "select('CSS선택자')"
   ]
  },
  {
   "cell_type": "code",
   "execution_count": 27,
   "id": "vocal-ridge",
   "metadata": {},
   "outputs": [
    {
     "name": "stdout",
     "output_type": "stream",
     "text": [
      "자바 기초 프로그래밍 강좌를 완강했습니다.\n",
      "컴잘알에 오신 것을 환영합니다.\n"
     ]
    }
   ],
   "source": [
    "# 최근 공지사항은 href 속성의 값에 'notice' 문자열이 포함되어있는 <a> 태그 내부에 있다.\n",
    "notices = soup.select('td > a')\n",
    "# print(notices)\n",
    "for notice in notices:\n",
    "    # print(notice)\n",
    "    # get() 메소드로 인수로 지정한 속성의 값을 얻어온다.\n",
    "    # print(notice.get('href'))\n",
    "    # 'notice'이 포함된 요소의 텍스트만 얻어온다.\n",
    "    if notice.get('href').find('notice') >= 0:\n",
    "        print(notice.text)"
   ]
  },
  {
   "cell_type": "code",
   "execution_count": null,
   "id": "particular-functionality",
   "metadata": {},
   "outputs": [],
   "source": []
  },
  {
   "cell_type": "code",
   "execution_count": null,
   "id": "hazardous-leather",
   "metadata": {},
   "outputs": [],
   "source": []
  },
  {
   "cell_type": "code",
   "execution_count": null,
   "id": "valued-religious",
   "metadata": {},
   "outputs": [],
   "source": []
  },
  {
   "cell_type": "code",
   "execution_count": null,
   "id": "pacific-girlfriend",
   "metadata": {},
   "outputs": [],
   "source": []
  },
  {
   "cell_type": "code",
   "execution_count": null,
   "id": "automatic-engine",
   "metadata": {},
   "outputs": [],
   "source": []
  },
  {
   "cell_type": "code",
   "execution_count": null,
   "id": "preliminary-investigation",
   "metadata": {},
   "outputs": [],
   "source": []
  }
 ],
 "metadata": {
  "kernelspec": {
   "display_name": "Python 3",
   "language": "python",
   "name": "python3"
  },
  "language_info": {
   "codemirror_mode": {
    "name": "ipython",
    "version": 3
   },
   "file_extension": ".py",
   "mimetype": "text/x-python",
   "name": "python",
   "nbconvert_exporter": "python",
   "pygments_lexer": "ipython3",
   "version": "3.6.8"
  }
 },
 "nbformat": 4,
 "nbformat_minor": 5
}
