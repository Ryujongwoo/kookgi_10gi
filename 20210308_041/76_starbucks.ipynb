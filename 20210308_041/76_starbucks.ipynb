{
 "cells": [
  {
   "cell_type": "code",
   "execution_count": 1,
   "id": "timely-medication",
   "metadata": {},
   "outputs": [],
   "source": [
    "import warnings\n",
    "warnings.filterwarnings('ignore')\n",
    "import requests\n",
    "import json"
   ]
  },
  {
   "cell_type": "markdown",
   "id": "attractive-georgia",
   "metadata": {},
   "source": [
    "시도코드 크롤링"
   ]
  },
  {
   "cell_type": "code",
   "execution_count": 2,
   "id": "south-memory",
   "metadata": {
    "scrolled": false
   },
   "outputs": [
    {
     "name": "stdout",
     "output_type": "stream",
     "text": [
      "{'01': '서울', '08': '경기', '02': '광주', '03': '대구', '04': '대전', '05': '부산', '06': '울산', '07': '인천', '09': '강원', '10': '경남', '11': '경북', '12': '전남', '13': '전북', '14': '충남', '15': '충북', '16': '제주', '17': '세종'}\n"
     ]
    }
   ],
   "source": [
    "targetSite = 'https://www.starbucks.co.kr/store/getSidoList.do'\n",
    "# Request URL(https://www.starbucks.co.kr/store/getSidoList.do)을 요청하는 Request Method가 POST 방식이므로 requests 모듈의\n",
    "# post() 메소드를 사용햇 서버에 정보를 요청한다.\n",
    "request = requests.post(targetSite)\n",
    "# print(request) # <Response [200]> => 요청 성공\n",
    "\n",
    "starbucks = request.text\n",
    "# print(type(starbucks)) # <class 'str'>\n",
    "# print(starbucks)\n",
    "\n",
    "# json 모듈의 loads() 메소드로 json 타입으로 구성된 문자열을 파이썬에서 처리하기 위해 딕셔너리로 변환한다.\n",
    "sidoList = json.loads(starbucks)\n",
    "# print(type(sidoList))  # <class 'dict'>\n",
    "# print(len(sidoList))   # 1\n",
    "# print(sidoList)        # json 타입의 데이터가 변환된 딕셔너리가 출력된다.\n",
    "\n",
    "# 딕셔너리로 변환된 데이터에서 'list'라는 key에 할당된 시도 정보를 얻어온다.\n",
    "# print(type(sidoList.get('list')))\n",
    "# print(type(sidoList['list'])) # <class 'list'>\n",
    "# print(len(sidoList['list']))  # 17\n",
    "# print(sidoList['list'])       # json이 변환된 딕셔너리의 'list'라는 key에 할당된 value인 리스트에 저장된 딕셔너리 17개가 출력된다.\n",
    "\n",
    "# print(type(sidoList['list'][0])) # <class 'dict'>\n",
    "# print(sidoList['list'][0])\n",
    "\n",
    "# 시도 코드의 개수만큼 반복하며 시도코드('sido_cd')를 key로 하고 시도이름('sido_nm')을 value로 하는 딕셔너리를 만든다.\n",
    "sido_List = {}\n",
    "for sido in sidoList['list']:\n",
    "    # print('{} : {}'.format(sido['sido_cd'], sido['sido_nm']))\n",
    "    # sido_List 딕서너리에 시도코드를 key로 하고 시도이름을 value로 해서 저장시킨다.\n",
    "    sido_List[sido['sido_cd']] = sido['sido_nm']\n",
    "print(sido_List)"
   ]
  },
  {
   "cell_type": "code",
   "execution_count": 3,
   "id": "fluid-rogers",
   "metadata": {},
   "outputs": [],
   "source": [
    "import warnings\n",
    "warnings.filterwarnings('ignore')\n",
    "import requests"
   ]
  },
  {
   "cell_type": "code",
   "execution_count": 4,
   "id": "scenic-atlanta",
   "metadata": {},
   "outputs": [
    {
     "name": "stdout",
     "output_type": "stream",
     "text": [
      "{'01': '서울', '08': '경기', '02': '광주', '03': '대구', '04': '대전', '05': '부산', '06': '울산', '07': '인천', '09': '강원', '10': '경남', '11': '경북', '12': '전남', '13': '전북', '14': '충남', '15': '충북', '16': '제주', '17': '세종'}\n"
     ]
    }
   ],
   "source": [
    "targetSite = 'https://www.starbucks.co.kr/store/getSidoList.do'\n",
    "request = requests.post(targetSite)\n",
    "# requests 모듈의 json() 메소드로 서버에 요청해서 응답받은 json 타입으로 구성된 문자열을 파이썬에서 처리하기 위해 딕셔너리로 변환한다. \n",
    "starbucks = request.json()\n",
    "sido_List = {}\n",
    "for sido in starbucks['list']:\n",
    "    sido_List[sido['sido_cd']] = sido['sido_nm']\n",
    "print(sido_List)"
   ]
  },
  {
   "cell_type": "markdown",
   "id": "trained-schema",
   "metadata": {},
   "source": [
    "구군코드 크롤링"
   ]
  },
  {
   "cell_type": "code",
   "execution_count": 19,
   "id": "respiratory-theorem",
   "metadata": {
    "scrolled": false
   },
   "outputs": [
    {
     "name": "stdout",
     "output_type": "stream",
     "text": [
      "구군코드를 검색하려는 시도코드를 입력하세요 : 01\n",
      "{'0101': '강남구', '0120': '강동구', '0102': '강북구', '0103': '강서구', '0104': '관악구', '0105': '광진구', '0121': '구로구', '0106': '금천구', '0107': '노원구', '0108': '도봉구', '0122': '동대문구', '0109': '동작구', '0110': '마포구', '0111': '서대문구', '0112': '서초구', '0123': '성동구', '0113': '성북구', '0114': '송파구', '0115': '양천구', '0116': '영등포구', '0124': '용산구', '0117': '은평구', '0118': '종로구', '0119': '중구', '0125': '중랑구'}\n"
     ]
    }
   ],
   "source": [
    "sido_cd = input('구군코드를 검색하려는 시도코드를 입력하세요 : ')\n",
    "\n",
    "targetSite = 'https://www.starbucks.co.kr/store/getGugunList.do'\n",
    "# 시도코드는 서버에 요청할 때 전체 시도코드를 가져오면 되기 때문에 별도로 데이터를 넘겨줄 필요가 없었지만 시도에 따른 구군코드를\n",
    "# 서버에 요청할 때는 얻어올 시도코드를 서버에 넘겨서 넘겨준 시도코드에 해당되는 데이터만 받아와야 한다.\n",
    "# post() 메소드의 2번째 인수로 data 속성을 지정해서 서버로 넘겨줄 데이터를 딕셔너리 형태로 지정한다. key는 반드시 Form Data에\n",
    "# 적혀있는 이름을 사용해야 한다.\n",
    "request = requests.post(targetSite, data = {\n",
    "    'sido_cd': sido_cd\n",
    "})\n",
    "\n",
    "gugunList = request.json()\n",
    "# print(type(gugunList))\n",
    "# print(len(gugunList))\n",
    "# print(gugunList)\n",
    "\n",
    "# print(type(gugunList['list']))\n",
    "# print(len(gugunList['list']))\n",
    "# print(gugunList['list'])\n",
    "\n",
    "# print(type(gugunList['list'][0]))\n",
    "# print(gugunList['list'][0])\n",
    "\n",
    "# 구군코드의 개수만큼 반복하며 구군코드('gugun_cd')를 key로 하고 구군이름('gugun_nm')을 value로 하는 딕셔너리를 만든다.\n",
    "gugun_List = {}\n",
    "for gugun in gugunList['list']:\n",
    "    # print('{} : {}'.format(gugun['gugun_cd'], gugun['gugun_nm']))\n",
    "    gugun_List[gugun['gugun_cd']] = gugun['gugun_nm']\n",
    "print(gugun_List)"
   ]
  },
  {
   "cell_type": "markdown",
   "id": "advised-configuration",
   "metadata": {},
   "source": [
    "구군별 매장 정보 크롤링"
   ]
  },
  {
   "cell_type": "code",
   "execution_count": 43,
   "id": "continuing-olympus",
   "metadata": {
    "scrolled": false
   },
   "outputs": [
    {
     "name": "stdout",
     "output_type": "stream",
     "text": [
      "37\n",
      "   1. 서울대치과병원 : 서울특별시 종로구 대학로 101 서울대학교 치과병원 신관1층(37.57790, 126.99965)\n",
      "   2. 동숭길입구 : 서울특별시 종로구 대학로 146 (혜화동)(37.584236, 127.002014)\n",
      "   3. 종로관수 : 서울특별시 종로구 삼일대로20길 13 (관수동)(37.569385, 126.988665)\n",
      "   4. 경복궁사거리 : 서울특별시 종로구 율곡로 6, B동 101호(중학동, 트윈트리타워)(37.575578, 126.980581)\n",
      "   5. 대학로 : 서울특별시 종로구 대학로 57, 홍익대학교 대학로캠퍼스 內 (연건동)(37.576509, 127.001449)\n",
      "   6. 종로3가 : 서울특별시 종로구 종로 113-1, 1-4층 (종로3가)(37.5705527, 126.9902055)\n",
      "   7. 마로니에공원 : 서울특별시 종로구 대학로 116, 1-2층 (동숭동)(37.58154296, 127.0023412)\n",
      "   8. 이마빌딩 : 서울특별시 종로구 종로1길 42 (수송동)(37.5738637, 126.97897149999994)\n",
      "   9. 경복궁역 : 서울특별시 종로구 자하문로4길 6, 1층 (통의동)(37.5771508, 126.97274530000004)\n",
      "  10. 종로관철 : 서울특별시 종로구 종로12길 21, 2층 (관철동)(37.569058, 126.986013)\n",
      "  11. 동숭로아트 : 서울특별시 종로구 동숭길 110 (동숭동)(37.582969, 127.003876)\n",
      "  12. 종각 : 서울특별시 종로구 종로 64 (종로2가)(37.5699183, 126.98452810000003)\n",
      "  13. 주얼리시티 : 서울특별시 종로구 종로 183 (인의동) 효성주얼리시티(37.57154914, 126.998705)\n",
      "  14. 스페이스본 : 서울특별시 종로구 사직로8길 4 (사직동) 광화문 풍림스페이스본(37.57532212, 126.9692494)\n",
      "  15. 성대입구 : 서울특별시 종로구 창경궁로 235 (명륜3가)(37.582892, 126.998392)\n",
      "  16. 광화문R : 서울특별시 종로구 세종대로 167, 현대해상본사사옥 별관내 (세종로)(37.5712293, 126.9762872)\n",
      "  17. 영풍문고 : 서울특별시 종로구 청계천로 41 (서린동) 영풍빌딩(37.5695584, 126.9821243)\n",
      "  18. 인사 : 서울특별시 종로구 인사동길 14 (인사동)(37.5721293, 126.98703490000002)\n",
      "  19. 적선 : 서울특별시 종로구 새문안로5길 55, 노스게이트빌딩 1층 (적선동)(37.57520431, 126.9739361)\n",
      "  20. 서울극장 : 서울특별시 종로구 돈화문로 13 (관수동) 서울극장(37.56975769, 126.9917911)\n",
      "  21. 광화문D타워 : 서울특별시 종로구 종로3길 17 (청진동) D타워(37.5714, 126.9788297)\n",
      "  22. 삼청동 : 서울특별시 종로구 삼청로 111-1 (삼청동)(37.585381, 126.9817512)\n",
      "  23. 안국 : 서울특별시 종로구 북촌로 5-1 (재동)(37.577338, 126.985635)\n",
      "  24. 새문안로 : 서울특별시 종로구 새문안로 92 (신문로1가) 광화문오피시아빌딩(37.5696597, 126.9748903)\n",
      "  25. 종로수송 : 서울특별시 종로구 종로5길 30 (청진동) 1~3층(37.5714931, 126.9807831)\n",
      "  26. 북촌로 : 서울특별시 종로구 북촌로4길 23 (계동)(37.579462, 126.986431)\n",
      "  27. 종로구청 : 서울특별시 종로구 삼봉로 71 (수송동)(37.572662, 126.981138)\n",
      "  28. 동묘앞역 : 서울특별시 종로구 종로 344 (숭인동, 대우디오빌) 101호 일부, 201호 일부(37.572700, 127.016072)\n",
      "  29. 정부서울청사R : 서울특별시 종로구 새문안로5가길 28 (적선동)(37.574411, 126.973571)\n",
      "  30. 독립문역 : 서울특별시 종로구 송월길 155 경희궁자이 4단지 1층 팰리스애비뉴 4114~4119호(37.571432, 126.961269)\n",
      "  31. 더종로R : 서울특별시 종로구 종로 51 (종로2가)(37.570804, 126.983494)\n",
      "  32. 광화문우체국 : 서울특별시 종로구 종로 6 (서린동)(37.569854, 126.978083)\n",
      "  33. 종로평창동 : 서울특별시 종로구 평창12길 3 (평창동)(37.606149, 126.967213)\n",
      "  34. 강북삼성병원 : 서울특별시 종로구 새문안로 29 (평동)(37.568546, 126.967560)\n",
      "  35. 경희궁로 : 서울특별시 종로구 새문안로3길 15 (당주동)(37.571759, 126.972343)\n",
      "  36. 혜화역 : 서울특별시 종로구 대학로12길 4 1~2층(37.5824779, 127.0021850)\n",
      "  37. 연합뉴스 : 서울특별시 종로구 율곡로2길 25 (수송동)(37.5743289, 126.9804590000005)\n",
      "DT 개수 : 0\n"
     ]
    }
   ],
   "source": [
    "# gugun_cd = input('매장정보를 검색하려는 구군코드를 입력하세요 : ')\n",
    "\n",
    "targetSite = 'https://www.starbucks.co.kr/store/getStore.do?r=A541QU9YCW'\n",
    "request = requests.post(targetSite, data = {\n",
    "    'p_sido_cd': '', # 시도코드\n",
    "    'p_gugun_cd': '0118', # 구군코드\n",
    "    'ins_lat': 37.5108295, # 위도\n",
    "    'ins_lng': 127.02928809999999, # 경도\n",
    "    'in_biz_cd': '', # ?\n",
    "    'iend': 1600, # 서버가 응답하는 최대 매장의 개수\n",
    "    'set_date': '' #?\n",
    "    # in_biz_cd, set_date를 넘겨주지 않으면 서버에서 데이터를 얻어오지 못한다.\n",
    "})\n",
    "\n",
    "store_List = request.json()\n",
    "print(len(store_List['list']))\n",
    "# print(store_List['list'][0])\n",
    "\n",
    "count = 0\n",
    "dt = 0\n",
    "for store in store_List['list']:\n",
    "    count += 1\n",
    "    print('{0:4d}. {1} : {2}({3}, {4})'.format(count, store['s_name'], store['doro_address'], store['lat'], store['lot']))\n",
    "    # if store['s_name'].find('DT') >= 0:\n",
    "    if 'DT' in store['s_name']:\n",
    "        dt += 1\n",
    "print('DT 개수 : {}'.format(dt))"
   ]
  },
  {
   "cell_type": "code",
   "execution_count": null,
   "id": "coastal-bibliography",
   "metadata": {},
   "outputs": [],
   "source": []
  },
  {
   "cell_type": "code",
   "execution_count": null,
   "id": "raising-strength",
   "metadata": {},
   "outputs": [],
   "source": []
  },
  {
   "cell_type": "code",
   "execution_count": null,
   "id": "satisfied-clearing",
   "metadata": {},
   "outputs": [],
   "source": []
  },
  {
   "cell_type": "code",
   "execution_count": null,
   "id": "another-property",
   "metadata": {},
   "outputs": [],
   "source": []
  },
  {
   "cell_type": "code",
   "execution_count": null,
   "id": "automatic-glucose",
   "metadata": {},
   "outputs": [],
   "source": []
  },
  {
   "cell_type": "code",
   "execution_count": null,
   "id": "great-voice",
   "metadata": {},
   "outputs": [],
   "source": []
  },
  {
   "cell_type": "code",
   "execution_count": null,
   "id": "olympic-organic",
   "metadata": {},
   "outputs": [],
   "source": []
  },
  {
   "cell_type": "code",
   "execution_count": null,
   "id": "english-florence",
   "metadata": {},
   "outputs": [],
   "source": []
  }
 ],
 "metadata": {
  "kernelspec": {
   "display_name": "Python 3",
   "language": "python",
   "name": "python3"
  },
  "language_info": {
   "codemirror_mode": {
    "name": "ipython",
    "version": 3
   },
   "file_extension": ".py",
   "mimetype": "text/x-python",
   "name": "python",
   "nbconvert_exporter": "python",
   "pygments_lexer": "ipython3",
   "version": "3.6.8"
  }
 },
 "nbformat": 4,
 "nbformat_minor": 5
}
