{
 "cells": [
  {
   "cell_type": "markdown",
   "metadata": {},
   "source": [
    "n개의 데이터(999가 입력되기 전 까지)를 입력받아 최대값과 최소값을 제외한 나머지 데이터의 표준편차를 계산하는 프로그램"
   ]
  },
  {
   "cell_type": "markdown",
   "metadata": {},
   "source": [
    "$$\\sqrt{\\frac{\\sum_{i=1}^{N-2} (x_i - \\bar{x})^2}{n-2}}$$"
   ]
  },
  {
   "cell_type": "code",
   "execution_count": 7,
   "metadata": {},
   "outputs": [
    {
     "name": "stdout",
     "output_type": "stream",
     "text": [
      "최대값 : 91, 최소값 : 35\n"
     ]
    }
   ],
   "source": [
    "# 최대값, 최소값 판단하기 1\n",
    "data = [35, 91, 75, 62, 84]\n",
    "# 최대값을 기억할 변수는 아주 작은 값을 최소값을 기억할 변수는 아주 큰 값을 초기치로 넣어주고 비교한다.\n",
    "big = 0\n",
    "small = 100\n",
    "for score in data:\n",
    "    if score > big:\n",
    "        big = score\n",
    "    if score < small:\n",
    "        small = score\n",
    "print('최대값 : {}, 최소값 : {}'.format(big, small))"
   ]
  },
  {
   "cell_type": "code",
   "execution_count": 2,
   "metadata": {},
   "outputs": [
    {
     "name": "stdout",
     "output_type": "stream",
     "text": [
      "최대값 : 91, 최소값 : 35\n"
     ]
    }
   ],
   "source": [
    "# 최대값, 최소값 판단하기 2\n",
    "data = [35, 91, 75, 62, 84]\n",
    "# 최대값을 기억할 변수와 최소값을 기억할 변수에 리스트의 0번째 인덱스의 값을 초기치로 넣어주고 비교한다.\n",
    "big = data[0]\n",
    "small = data[0]\n",
    "for score in data[1:]:\n",
    "    if score > big:\n",
    "        big = score\n",
    "    elif score < small:\n",
    "        small = score\n",
    "print('최대값 : {}, 최소값 : {}'.format(big, small))"
   ]
  },
  {
   "cell_type": "code",
   "execution_count": 3,
   "metadata": {},
   "outputs": [
    {
     "name": "stdout",
     "output_type": "stream",
     "text": [
      "최대값 : 91, 최소값 : 35\n"
     ]
    }
   ],
   "source": [
    "# 최대값, 최소값 판단하기 3\n",
    "data = [35, 91, 75, 62, 84]\n",
    "print('최대값 : {}, 최소값 : {}'.format(max(data), min(data)))"
   ]
  },
  {
   "cell_type": "code",
   "execution_count": 4,
   "metadata": {},
   "outputs": [
    {
     "name": "stdout",
     "output_type": "stream",
     "text": [
      "최대값 : 91, 최소값 : 35\n",
      "최대값 : 91, 최소값 : 35\n"
     ]
    }
   ],
   "source": [
    "# 최대값, 최소값 판단하기 4\n",
    "data = [35, 91, 75, 62, 84]\n",
    "data.sort()\n",
    "print('최대값 : {}, 최소값 : {}'.format(data[-1], data[0]))\n",
    "data.sort(reverse = True)\n",
    "print('최대값 : {}, 최소값 : {}'.format(data[0], data[-1]))"
   ]
  },
  {
   "cell_type": "code",
   "execution_count": 8,
   "metadata": {},
   "outputs": [
    {
     "name": "stdout",
     "output_type": "stream",
     "text": [
      "1번째 표준편차를 계산할 데이터를 입력하세요 : 5\n",
      "2번째 표준편차를 계산할 데이터를 입력하세요 : 4\n",
      "3번째 표준편차를 계산할 데이터를 입력하세요 : 3\n",
      "4번째 표준편차를 계산할 데이터를 입력하세요 : 2\n",
      "5번째 표준편차를 계산할 데이터를 입력하세요 : 1\n",
      "6번째 표준편차를 계산할 데이터를 입력하세요 : 999\n",
      "입력받은 데이터의 개수는 5개 이고 데이터는 [5, 4, 3, 2, 1] 입니다.\n"
     ]
    }
   ],
   "source": [
    "# 표준편차를 계산할 데이터를 999가 입력될 때 까지 받는다.\n",
    "score = [] # 표준편차를 계산할 데이터를 기억할 빈 리스트를 선언한다.\n",
    "# 몇 번째 데이터로 999가 입력될지 모르기 때문에 무한 루프를 돌린다.\n",
    "while True:\n",
    "    data = int(input('{}번째 표준편차를 계산할 데이터를 입력하세요 : '.format(len(score) + 1)))\n",
    "    if data == 999: # 입력받은 데이터가 999면 더 이상 데이터를 입력받을 필요가 없기 때문에 무한 루프를 탈출한다.\n",
    "        break\n",
    "    score.append(data) # 입력받은 데이터를 리스트에 추가한다.\n",
    "print('입력받은 데이터의 개수는 {}개 이고 데이터는 {} 입니다.'.format(len(score), score))"
   ]
  },
  {
   "cell_type": "code",
   "execution_count": 9,
   "metadata": {},
   "outputs": [],
   "source": [
    "big = max(score)\n",
    "small = min(score)\n",
    "score.sort()"
   ]
  },
  {
   "cell_type": "markdown",
   "metadata": {},
   "source": [
    "최대값과 최소값을 제외한 나머지 데이터의 평균을 계산한다."
   ]
  },
  {
   "cell_type": "code",
   "execution_count": 16,
   "metadata": {},
   "outputs": [
    {
     "name": "stdout",
     "output_type": "stream",
     "text": [
      "최대값과 최소값을 제외한 나머지 데이터의 합계 : 9\n",
      "최대값과 최소값을 제외한 나머지 데이터의 평균 : 3.0\n"
     ]
    }
   ],
   "source": [
    "total = 0\n",
    "for s in score:\n",
    "    total += s\n",
    "# total = total - big - small\n",
    "total -= big + small\n",
    "print('최대값과 최소값을 제외한 나머지 데이터의 합계 : {}'.format(total))\n",
    "mean = total / (len(score) - 2)\n",
    "print('최대값과 최소값을 제외한 나머지 데이터의 평균 : {}'.format(mean))"
   ]
  },
  {
   "cell_type": "code",
   "execution_count": 18,
   "metadata": {},
   "outputs": [
    {
     "name": "stdout",
     "output_type": "stream",
     "text": [
      "최대값과 최소값을 제외한 나머지 데이터의 합계 : 9\n",
      "최대값과 최소값을 제외한 나머지 데이터의 평균 : 3.0\n"
     ]
    }
   ],
   "source": [
    "total = 0\n",
    "for s in range(1, len(score) - 1):\n",
    "    total += score[s]\n",
    "print('최대값과 최소값을 제외한 나머지 데이터의 합계 : {}'.format(total))\n",
    "mean = total / (len(score) - 2)\n",
    "print('최대값과 최소값을 제외한 나머지 데이터의 평균 : {}'.format(mean))"
   ]
  },
  {
   "cell_type": "code",
   "execution_count": 19,
   "metadata": {},
   "outputs": [
    {
     "name": "stdout",
     "output_type": "stream",
     "text": [
      "최대값과 최소값을 제외한 나머지 데이터의 합계 : 9\n",
      "최대값과 최소값을 제외한 나머지 데이터의 평균 : 3.0\n"
     ]
    }
   ],
   "source": [
    "total = 0\n",
    "for s in score[1:len(score) - 1]:\n",
    "    total += s\n",
    "print('최대값과 최소값을 제외한 나머지 데이터의 합계 : {}'.format(total))\n",
    "mean = total / (len(score) - 2)\n",
    "print('최대값과 최소값을 제외한 나머지 데이터의 평균 : {}'.format(mean))"
   ]
  },
  {
   "cell_type": "markdown",
   "metadata": {},
   "source": [
    "최대값과 최소값을 제외한 나머지 데이터와 산술 평균의 편차의 제곱의 합계를 계산한다."
   ]
  },
  {
   "cell_type": "code",
   "execution_count": 20,
   "metadata": {},
   "outputs": [
    {
     "name": "stdout",
     "output_type": "stream",
     "text": [
      "최대값과 최소값을 제외한 나머지 데이터와 산술 평균의 편차의 제곱의 합계 : 2.0\n"
     ]
    }
   ],
   "source": [
    "total = 0.0\n",
    "for s in score[1:len(score) - 1]:\n",
    "    total += (s - mean) ** 2\n",
    "print('최대값과 최소값을 제외한 나머지 데이터와 산술 평균의 편차의 제곱의 합계 : {}'.format(total))"
   ]
  },
  {
   "cell_type": "markdown",
   "metadata": {},
   "source": [
    "분산(최대값과 최소값을 제외한 나머지 데이터와 산술 평균의 편차의 제곱의 합계의 산술 평균)을 계산한다."
   ]
  },
  {
   "cell_type": "code",
   "execution_count": 21,
   "metadata": {},
   "outputs": [
    {
     "name": "stdout",
     "output_type": "stream",
     "text": [
      "최대값과 최소값을 제외한 나머지 데이터와 산술 평균의 편차의 제곱의 합계에 대한 산술 평균(분산) : 0.6666666666666666\n"
     ]
    }
   ],
   "source": [
    "var = total / (len(score) - 2)\n",
    "print('최대값과 최소값을 제외한 나머지 데이터와 산술 평균의 편차의 제곱의 합계에 대한 산술 평균(분산) : {}'.format(var))"
   ]
  },
  {
   "cell_type": "markdown",
   "metadata": {},
   "source": [
    "표준편차(분산의 제곱근)를 계산한다."
   ]
  },
  {
   "cell_type": "code",
   "execution_count": 23,
   "metadata": {},
   "outputs": [
    {
     "name": "stdout",
     "output_type": "stream",
     "text": [
      "표준편차 : 0.816496580927726\n"
     ]
    }
   ],
   "source": [
    "std = var ** 0.5\n",
    "print('표준편차 : {}'.format(std))"
   ]
  },
  {
   "cell_type": "code",
   "execution_count": 24,
   "metadata": {},
   "outputs": [
    {
     "name": "stdout",
     "output_type": "stream",
     "text": [
      "표준편차 : 0.816496580927726\n"
     ]
    }
   ],
   "source": [
    "import math # 수학에 관련된 함수를 모아놓은 모듈\n",
    "print('표준편차 : {}'.format(math.sqrt(var)))"
   ]
  },
  {
   "cell_type": "code",
   "execution_count": null,
   "metadata": {},
   "outputs": [],
   "source": []
  },
  {
   "cell_type": "code",
   "execution_count": null,
   "metadata": {},
   "outputs": [],
   "source": []
  }
 ],
 "metadata": {
  "kernelspec": {
   "display_name": "Python 3",
   "language": "python",
   "name": "python3"
  },
  "language_info": {
   "codemirror_mode": {
    "name": "ipython",
    "version": 3
   },
   "file_extension": ".py",
   "mimetype": "text/x-python",
   "name": "python",
   "nbconvert_exporter": "python",
   "pygments_lexer": "ipython3",
   "version": "3.6.8"
  }
 },
 "nbformat": 4,
 "nbformat_minor": 4
}
