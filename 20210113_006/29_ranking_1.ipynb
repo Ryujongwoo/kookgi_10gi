{
 "cells": [
  {
   "cell_type": "markdown",
   "metadata": {},
   "source": [
    "석차 계산"
   ]
  },
  {
   "cell_type": "code",
   "execution_count": 17,
   "metadata": {},
   "outputs": [
    {
     "name": "stdout",
     "output_type": "stream",
     "text": [
      " 70점은 5등 입니다. ★★★★★★★\n",
      "100점은 1등 입니다. ★★★★★★★★★★\n",
      " 80점은 4등 입니다. ★★★★★★★★\n",
      "100점은 1등 입니다. ★★★★★★★★★★\n",
      " 90점은 3등 입니다. ★★★★★★★★★\n"
     ]
    }
   ],
   "source": [
    "score = [70, 100, 80, 100, 90]\n",
    "rank = [1, 1, 1, 1, 1] # 석차를 기억하는 리스트 => 석차를 계산할 때 석차를 기억하는 기억 장소의 초기치는 1로 지정한다.\n",
    "\n",
    "for i in range(len(score)):\n",
    "    for j in range(len(score)):\n",
    "        # print('i = {}, j = {}'.format(i, j))\n",
    "        if score[i] < score[j]:\n",
    "            rank[i] += 1\n",
    "    # ===== for j 끝\n",
    "# ===== for i 끝\n",
    "\n",
    "for i in range(len(score)):\n",
    "    print('{0:3d}점은 {1}등 입니다. '.format(score[i], rank[i]), end = '')\n",
    "    # for j in range(score[i] // 10):\n",
    "        # print('★', end = '')\n",
    "    # print()\n",
    "    print('★' * (score[i] // 10))"
   ]
  },
  {
   "cell_type": "code",
   "execution_count": null,
   "metadata": {},
   "outputs": [],
   "source": []
  },
  {
   "cell_type": "code",
   "execution_count": null,
   "metadata": {},
   "outputs": [],
   "source": []
  }
 ],
 "metadata": {
  "kernelspec": {
   "display_name": "Python 3",
   "language": "python",
   "name": "python3"
  },
  "language_info": {
   "codemirror_mode": {
    "name": "ipython",
    "version": 3
   },
   "file_extension": ".py",
   "mimetype": "text/x-python",
   "name": "python",
   "nbconvert_exporter": "python",
   "pygments_lexer": "ipython3",
   "version": "3.6.8"
  }
 },
 "nbformat": 4,
 "nbformat_minor": 4
}
