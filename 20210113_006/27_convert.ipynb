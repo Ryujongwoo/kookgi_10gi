{
 "cells": [
  {
   "cell_type": "code",
   "execution_count": 3,
   "metadata": {},
   "outputs": [
    {
     "data": {
      "image/png": "[encoded data removed]",
      "text/plain": [
       "<IPython.core.display.Image object>"
      ]
     },
     "execution_count": 3,
     "metadata": {
      "image/png": {
       "width": "1000"
      }
     },
     "output_type": "execute_result"
    }
   ],
   "source": [
    "from IPython.display import Image\n",
    "Image('./convert.png', width = '1000')"
   ]
  },
  {
   "cell_type": "code",
   "execution_count": 12,
   "metadata": {},
   "outputs": [
    {
     "name": "stdout",
     "output_type": "stream",
     "text": [
      "10진수를 입력하세요 : 26\n",
      "11010\n",
      "[1, 1, 0, 1, 0]\n"
     ]
    }
   ],
   "source": [
    "# 진법 변환 => 10진수를 2진수로\n",
    "dec = int(input('10진수를 입력하세요 : '))\n",
    "convert = [] # 10진수가 2진수로 변환된 결과를 저장할 빈 리스트를 만든다.\n",
    "while True:\n",
    "    m = dec // 2\n",
    "    r = dec % 2\n",
    "    convert.append(r)\n",
    "    if m == 0:\n",
    "        break\n",
    "    dec = m\n",
    "# ===== while True 끝\n",
    "for i in range(len(convert) - 1, -1, -1):\n",
    "    print(convert[i], end = '')\n",
    "print()\n",
    "convert.reverse()\n",
    "print(convert)"
   ]
  },
  {
   "cell_type": "code",
   "execution_count": 13,
   "metadata": {},
   "outputs": [
    {
     "name": "stdout",
     "output_type": "stream",
     "text": [
      "10진수를 입력하세요 : 26\n",
      "32\n",
      "[3, 2]\n"
     ]
    }
   ],
   "source": [
    "# 진법 변환 => 10진수를 8진수로\n",
    "dec = int(input('10진수를 입력하세요 : '))\n",
    "convert = [] # 10진수가 8진수로 변환된 결과를 저장할 빈 리스트를 만든다.\n",
    "while True:\n",
    "    m = dec // 8\n",
    "    r = dec % 8\n",
    "    convert.append(r)\n",
    "    if m == 0:\n",
    "        break\n",
    "    dec = m\n",
    "# ===== while True 끝\n",
    "for i in range(len(convert) - 1, -1, -1):\n",
    "    print(convert[i], end = '')\n",
    "print()\n",
    "convert.reverse()\n",
    "print(convert)"
   ]
  },
  {
   "cell_type": "code",
   "execution_count": 18,
   "metadata": {},
   "outputs": [
    {
     "name": "stdout",
     "output_type": "stream",
     "text": [
      "10진수를 입력하세요 : 26\n",
      "1A\n",
      "['1', 'A']\n"
     ]
    }
   ],
   "source": [
    "# 진법 변환 => 10진수를 16진수로\n",
    "dec = int(input('10진수를 입력하세요 : '))\n",
    "convert = [] # 10진수가 16진수로 변환된 결과를 저장할 빈 리스트를 만든다.\n",
    "# 16진수를 기억하는 리스트를 만든다.\n",
    "hex_16 = ['0', '1', '2', '3', '4', '5', '6', '7', '8', '9', 'A', 'B', 'C', 'D', 'E', 'F']\n",
    "while True:\n",
    "    m = dec // 16\n",
    "    r = dec % 16\n",
    "    convert.append(hex_16[r])\n",
    "    if m == 0:\n",
    "        break\n",
    "    dec = m\n",
    "# ===== while True 끝\n",
    "for i in range(len(convert) - 1, -1, -1):\n",
    "    print(convert[i], end = '')\n",
    "print()\n",
    "convert.reverse()\n",
    "print(convert)"
   ]
  },
  {
   "cell_type": "code",
   "execution_count": 20,
   "metadata": {},
   "outputs": [
    {
     "name": "stdout",
     "output_type": "stream",
     "text": [
      "10진수를 입력하세요 : 26\n",
      "1A\n"
     ]
    }
   ],
   "source": [
    "# 진법 변환 => 10진수를 16진수로\n",
    "dec = int(input('10진수를 입력하세요 : '))\n",
    "convert = [] # 10진수가 16진수로 변환된 결과를 저장할 빈 리스트를 만든다.\n",
    "while True:\n",
    "    m = dec // 16\n",
    "    r = dec % 16\n",
    "    convert.append(r)\n",
    "    if m == 0:\n",
    "        break\n",
    "    dec = m\n",
    "# ===== while True 끝\n",
    "for i in range(len(convert) - 1, -1, -1):\n",
    "    # chr() 함수는 인수로 지정된 아스키 코드에 해당되는 문자를 리턴한다.\n",
    "    print(convert[i] if convert[i] < 10 else chr(convert[i] + 55), end = '')\n",
    "print()"
   ]
  },
  {
   "cell_type": "code",
   "execution_count": null,
   "metadata": {},
   "outputs": [],
   "source": []
  },
  {
   "cell_type": "code",
   "execution_count": null,
   "metadata": {},
   "outputs": [],
   "source": []
  }
 ],
 "metadata": {
  "kernelspec": {
   "display_name": "Python 3",
   "language": "python",
   "name": "python3"
  },
  "language_info": {
   "codemirror_mode": {
    "name": "ipython",
    "version": 3
   },
   "file_extension": ".py",
   "mimetype": "text/x-python",
   "name": "python",
   "nbconvert_exporter": "python",
   "pygments_lexer": "ipython3",
   "version": "3.6.8"
  }
 },
 "nbformat": 4,
 "nbformat_minor": 4
}
