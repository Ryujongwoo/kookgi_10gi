{
 "cells": [
  {
   "cell_type": "markdown",
   "metadata": {},
   "source": [
    "딕셔너리는 key와 value가 1:1로 대응되는 관계를 나타내는 자료형으로 key와 key에 할달되는 value(데이터)가 한 쌍이 되는 자료형이다.  \n",
    "딕셔너리는 {}로 감싸주고 {} 내부에는 {key: value, key: value, ...}와 같은 형태를 가진다.  \n",
    "key는 일반적으로 string 타입을 사용하고 value는 저장할 데이터를 적는다."
   ]
  },
  {
   "cell_type": "code",
   "execution_count": 4,
   "metadata": {},
   "outputs": [
    {
     "name": "stdout",
     "output_type": "stream",
     "text": [
      "<class 'dict'>\n",
      "{}\n",
      "<class 'dict'>\n",
      "{}\n"
     ]
    }
   ],
   "source": [
    "# 빈 딕셔너리 만들기\n",
    "a = {}\n",
    "print(type(a))\n",
    "print(a)\n",
    "# 빈 딕셔너리는 생성자 함수를 사용해서도 만들 수 있다.\n",
    "b = dict()\n",
    "print(type(b))\n",
    "print(b)"
   ]
  },
  {
   "cell_type": "code",
   "execution_count": 11,
   "metadata": {},
   "outputs": [
    {
     "name": "stdout",
     "output_type": "stream",
     "text": [
      "<class 'dict'>\n",
      "{'name': '홍길동', 'phone': '010-1234-5678', 'age': 20}\n",
      "{'name': '홍길동', 'phone': '010-1234-5678', 'age': 20, 'gender': '여자'}\n",
      "{'name': '홍길동', 'phone': '010-1234-5678', 'age': 20, 'gender': '남자'}\n",
      "{'name': '홍길동', 'phone': '010-1234-5678', 'age': 20}\n",
      "홍길동\n",
      "010-1234-5678\n",
      "{}\n"
     ]
    }
   ],
   "source": [
    "c = {'name': '홍길동', 'phone': '010-1234-5678', 'age': 20}\n",
    "print(type(c))\n",
    "print(c)\n",
    "\n",
    "# 딕셔너리에 데이터 추가 및 수정하기\n",
    "# 딕셔너리는 존재하지 않는 key에 데이터를 할당하면 데이터가 추가되고 존재하는 key에 데이터를 할당하면 데이터가 수정된다.\n",
    "# 딕셔너리이름[key] = value\n",
    "c['gender'] = '여자' # 추가 => 딕셔너리에 존재하지 않는 key에 데이터를 할당했다.\n",
    "print(c)\n",
    "c['gender'] = '남자' # 수정 => 딕셔너리에 존재하는 key에 데이터를 할당했다.\n",
    "print(c)\n",
    "\n",
    "# 딕셔너리의 데이터 제거하기\n",
    "# del 딕셔너리이름[key]\n",
    "del c['gender']\n",
    "print(c)\n",
    "\n",
    "# 딕셔너리에 저장된 데이터 얻어오기\n",
    "# 딕셔너리이름[key]\n",
    "print(c['name'])\n",
    "# 딕셔너리이름.get(key)\n",
    "print(c.get('phone'))\n",
    "\n",
    "# clear() 메소드로 딕셔너리에 저장된 모든 데이터를 제거할 수 있다.\n",
    "c.clear()\n",
    "print(c)"
   ]
  },
  {
   "cell_type": "markdown",
   "metadata": {},
   "source": [
    "딕셔너리 메소드"
   ]
  },
  {
   "cell_type": "code",
   "execution_count": 15,
   "metadata": {},
   "outputs": [
    {
     "name": "stdout",
     "output_type": "stream",
     "text": [
      "{'name': '임꺽정', 'phone': '010-9876-5432', 'age': 35, 'gender': '남자', 'job': '도적'}\n",
      "dict_keys(['name', 'phone', 'age', 'gender', 'job'])\n",
      "dict_values(['임꺽정', '010-9876-5432', 35, '남자', '도적'])\n",
      "dict_items([('name', '임꺽정'), ('phone', '010-9876-5432'), ('age', 35), ('gender', '남자'), ('job', '도적')])\n"
     ]
    }
   ],
   "source": [
    "d = {'name': '임꺽정', 'phone': '010-9876-5432', 'age': 35, 'gender': '남자', 'job': '도적'}\n",
    "print(d)\n",
    "\n",
    "# keys() 메소드로 딕셔너리에서 key 목록만 얻어올 수 있다.\n",
    "print(d.keys())\n",
    "# values() 메소드로 딕셔너리에서 value 목록만 얻어올 수 있다.\n",
    "print(d.values())\n",
    "# items() 메소드로 딕셔너리에서 key와 value를 한 쌍으로 묶은 목록을 튜플로 얻어올 수 있다.\n",
    "print(d.items())"
   ]
  },
  {
   "cell_type": "code",
   "execution_count": null,
   "metadata": {},
   "outputs": [],
   "source": []
  },
  {
   "cell_type": "code",
   "execution_count": null,
   "metadata": {},
   "outputs": [],
   "source": []
  },
  {
   "cell_type": "code",
   "execution_count": null,
   "metadata": {},
   "outputs": [],
   "source": []
  },
  {
   "cell_type": "code",
   "execution_count": null,
   "metadata": {},
   "outputs": [],
   "source": []
  },
  {
   "cell_type": "code",
   "execution_count": null,
   "metadata": {},
   "outputs": [],
   "source": []
  },
  {
   "cell_type": "code",
   "execution_count": null,
   "metadata": {},
   "outputs": [],
   "source": []
  },
  {
   "cell_type": "code",
   "execution_count": null,
   "metadata": {},
   "outputs": [],
   "source": []
  }
 ],
 "metadata": {
  "kernelspec": {
   "display_name": "Python 3",
   "language": "python",
   "name": "python3"
  },
  "language_info": {
   "codemirror_mode": {
    "name": "ipython",
    "version": 3
   },
   "file_extension": ".py",
   "mimetype": "text/x-python",
   "name": "python",
   "nbconvert_exporter": "python",
   "pygments_lexer": "ipython3",
   "version": "3.6.8"
  }
 },
 "nbformat": 4,
 "nbformat_minor": 4
}
