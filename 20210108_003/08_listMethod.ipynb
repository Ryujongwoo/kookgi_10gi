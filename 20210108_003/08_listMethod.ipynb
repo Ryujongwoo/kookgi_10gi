{
 "cells": [
  {
   "cell_type": "code",
   "execution_count": 9,
   "metadata": {},
   "outputs": [
    {
     "name": "stdout",
     "output_type": "stream",
     "text": [
      "3\n",
      "[1, 2, 3]\n",
      "[1, 2, 3, 4]\n",
      "[1, 5, 2, 3, 4]\n",
      "[1, 5, 2, 3, 4, 6]\n",
      "[1, 5, 2, 3, 4, 6, 999]\n"
     ]
    }
   ],
   "source": [
    "a = [1, 2, 3]\n",
    "\n",
    "# len() 함수로 리스트에 저장된 데이터의 개수를 얻어올 수 있다.\n",
    "print(len(a))\n",
    "\n",
    "# append() 메소드로 리스트의 맨 뒤에 데이터를 추가한다.\n",
    "print(a)\n",
    "a.append(4)\n",
    "print(a)\n",
    "\n",
    "# insert() 메소드로 리스트의 특정 위치에 데이터를 삽입한다.\n",
    "# insert(삽입할 위치, 데이터)\n",
    "a.insert(1, 5)\n",
    "print(a)\n",
    "# a.insert(-1, 6) # [1, 5, 2, 3, 6, 4]\n",
    "# insert() 메소드와 len() 함수를 사용해서 append() 메소드 효과내기\n",
    "a.insert(len(a), 6)\n",
    "print(a)\n",
    "a.insert(len(a), 999)\n",
    "print(a)"
   ]
  },
  {
   "cell_type": "code",
   "execution_count": 16,
   "metadata": {},
   "outputs": [
    {
     "name": "stdout",
     "output_type": "stream",
     "text": [
      "[1, 5, 2, 3, 6, 4]\n",
      "[1, 2, 3, 4, 5, 6]\n",
      "['d', 'b', 'a', 'c']\n",
      "['a', 'b', 'c', 'd']\n",
      "['홍길동', '임꺽정', '장길산', '일지매']\n",
      "['일지매', '임꺽정', '장길산', '홍길동']\n"
     ]
    }
   ],
   "source": [
    "# sort() 메소드로 리스트에 저장된 데이터를 오름차순(문자는 가나다순)으로 정렬한다.\n",
    "a = [1, 5, 2, 3, 6, 4]\n",
    "print(a)\n",
    "a.sort()\n",
    "print(a)\n",
    "\n",
    "b = ['d', 'b', 'a', 'c']\n",
    "print(b)\n",
    "b.sort()\n",
    "print(b)\n",
    "\n",
    "c = ['홍길동', '임꺽정', '장길산', '일지매']\n",
    "print(c)\n",
    "c.sort()\n",
    "print(c)"
   ]
  },
  {
   "cell_type": "code",
   "execution_count": 18,
   "metadata": {},
   "outputs": [
    {
     "name": "stdout",
     "output_type": "stream",
     "text": [
      "[6, 5, 4, 3, 2, 1]\n",
      "['d', 'c', 'b', 'a']\n",
      "['홍길동', '장길산', '임꺽정', '일지매']\n"
     ]
    }
   ],
   "source": [
    "# sort() 메소드의 reverse 옵션을 True로 지정하면 내림차순(문자는 다나가순)으로 정렬된다.\n",
    "a.sort(reverse = True)\n",
    "print(a)\n",
    "b.sort(reverse = True)\n",
    "print(b)\n",
    "c.sort(reverse = True)\n",
    "print(c)"
   ]
  },
  {
   "cell_type": "code",
   "execution_count": 20,
   "metadata": {},
   "outputs": [
    {
     "name": "stdout",
     "output_type": "stream",
     "text": [
      "[6, 5, 4, 3, 2, 1]\n",
      "['a', 'b', 'c', 'd']\n",
      "['일지매', '임꺽정', '장길산', '홍길동']\n"
     ]
    }
   ],
   "source": [
    "# reverse() 메소드로 리스트에 저장된 데이터를 뒤집을 수 있다.\n",
    "# sort() 메소드로 오름차순으로 정렬한 리스트를 reverse() 메소드를 실행하면 내림차순으로 정렬되는 효과가 난다.\n",
    "a.reverse()\n",
    "print(a)\n",
    "b.reverse()\n",
    "print(b)\n",
    "c.reverse()\n",
    "print(c)"
   ]
  },
  {
   "cell_type": "code",
   "execution_count": 23,
   "metadata": {},
   "outputs": [
    {
     "name": "stdout",
     "output_type": "stream",
     "text": [
      "4\n",
      "0\n"
     ]
    }
   ],
   "source": [
    "# count() 메소드로 리스트의 데이터 요소 중 특정 데이터의 출현 횟수(개수)를 얻어올 수 있다.\n",
    "a = [1, 2, 3, 1, 3, 1, 4, 1, 5]\n",
    "print(a.count(1))\n",
    "print(a.count(6))\n",
    "# count() 메소드의 실행 결과가 0이면 데이터가 리스트에 존재하지 않는다는 의미이다.\n",
    "# count() 메소드의 실행 결과가 1이상 이면 데이터가 리스트에 존재한다는 의미이다.\n",
    "# count() 메소드의 실행 결과가 2이면 데이터가 리스트에 중복해서 존재한다는 의미이다."
   ]
  },
  {
   "cell_type": "code",
   "execution_count": 25,
   "metadata": {},
   "outputs": [
    {
     "name": "stdout",
     "output_type": "stream",
     "text": [
      "2\n"
     ]
    },
    {
     "ename": "ValueError",
     "evalue": "6 is not in list",
     "output_type": "error",
     "traceback": [
      "\u001b[1;31m---------------------------------------------------------------------------\u001b[0m",
      "\u001b[1;31mValueError\u001b[0m                                Traceback (most recent call last)",
      "\u001b[1;32m<ipython-input-25-b264ffbb3f01>\u001b[0m in \u001b[0;36m<module>\u001b[1;34m\u001b[0m\n\u001b[0;32m      2\u001b[0m \u001b[0ma\u001b[0m \u001b[1;33m=\u001b[0m \u001b[1;33m[\u001b[0m\u001b[1;36m1\u001b[0m\u001b[1;33m,\u001b[0m \u001b[1;36m2\u001b[0m\u001b[1;33m,\u001b[0m \u001b[1;36m3\u001b[0m\u001b[1;33m,\u001b[0m \u001b[1;36m1\u001b[0m\u001b[1;33m,\u001b[0m \u001b[1;36m3\u001b[0m\u001b[1;33m,\u001b[0m \u001b[1;36m1\u001b[0m\u001b[1;33m,\u001b[0m \u001b[1;36m4\u001b[0m\u001b[1;33m,\u001b[0m \u001b[1;36m1\u001b[0m\u001b[1;33m,\u001b[0m \u001b[1;36m5\u001b[0m\u001b[1;33m]\u001b[0m\u001b[1;33m\u001b[0m\u001b[1;33m\u001b[0m\u001b[0m\n\u001b[0;32m      3\u001b[0m \u001b[0mprint\u001b[0m\u001b[1;33m(\u001b[0m\u001b[0ma\u001b[0m\u001b[1;33m.\u001b[0m\u001b[0mindex\u001b[0m\u001b[1;33m(\u001b[0m\u001b[1;36m3\u001b[0m\u001b[1;33m)\u001b[0m\u001b[1;33m)\u001b[0m\u001b[1;33m\u001b[0m\u001b[1;33m\u001b[0m\u001b[0m\n\u001b[1;32m----> 4\u001b[1;33m \u001b[0mprint\u001b[0m\u001b[1;33m(\u001b[0m\u001b[0ma\u001b[0m\u001b[1;33m.\u001b[0m\u001b[0mindex\u001b[0m\u001b[1;33m(\u001b[0m\u001b[1;36m6\u001b[0m\u001b[1;33m)\u001b[0m\u001b[1;33m)\u001b[0m\u001b[1;33m\u001b[0m\u001b[1;33m\u001b[0m\u001b[0m\n\u001b[0m",
      "\u001b[1;31mValueError\u001b[0m: 6 is not in list"
     ]
    }
   ],
   "source": [
    "# index() 메소드로 리스트에 저장된 데이터가 최초로 출현하는 인덱스 값을 얻어올 수 있다.\n",
    "a = [1, 2, 3, 1, 3, 1, 4, 1, 5]\n",
    "print(a.index(3))\n",
    "print(a.index(6)) # 데이터가 리스트에 존재하지 않을 경우 에러가 발생된다."
   ]
  },
  {
   "cell_type": "code",
   "execution_count": 32,
   "metadata": {},
   "outputs": [
    {
     "name": "stdout",
     "output_type": "stream",
     "text": [
      "[1, 2, 3, 4, 5, 3]\n",
      "[1, 2, 4, 5, 3]\n",
      "[1, 2, 4, 5]\n"
     ]
    },
    {
     "ename": "ValueError",
     "evalue": "list.remove(x): x not in list",
     "output_type": "error",
     "traceback": [
      "\u001b[1;31m---------------------------------------------------------------------------\u001b[0m",
      "\u001b[1;31mValueError\u001b[0m                                Traceback (most recent call last)",
      "\u001b[1;32m<ipython-input-32-0028eaeeec68>\u001b[0m in \u001b[0;36m<module>\u001b[1;34m\u001b[0m\n\u001b[0;32m      6\u001b[0m \u001b[0ma\u001b[0m\u001b[1;33m.\u001b[0m\u001b[0mremove\u001b[0m\u001b[1;33m(\u001b[0m\u001b[1;36m3\u001b[0m\u001b[1;33m)\u001b[0m \u001b[1;31m# 한 번 더 실행해야 나머지 3이 제거된다.\u001b[0m\u001b[1;33m\u001b[0m\u001b[1;33m\u001b[0m\u001b[0m\n\u001b[0;32m      7\u001b[0m \u001b[0mprint\u001b[0m\u001b[1;33m(\u001b[0m\u001b[0ma\u001b[0m\u001b[1;33m)\u001b[0m\u001b[1;33m\u001b[0m\u001b[1;33m\u001b[0m\u001b[0m\n\u001b[1;32m----> 8\u001b[1;33m \u001b[0ma\u001b[0m\u001b[1;33m.\u001b[0m\u001b[0mremove\u001b[0m\u001b[1;33m(\u001b[0m\u001b[1;36m3\u001b[0m\u001b[1;33m)\u001b[0m \u001b[1;31m# 없는 데이터를 제거하려고 했기때문에 에러가 발생된다.\u001b[0m\u001b[1;33m\u001b[0m\u001b[1;33m\u001b[0m\u001b[0m\n\u001b[0m\u001b[0;32m      9\u001b[0m \u001b[0mprint\u001b[0m\u001b[1;33m(\u001b[0m\u001b[0ma\u001b[0m\u001b[1;33m)\u001b[0m\u001b[1;33m\u001b[0m\u001b[1;33m\u001b[0m\u001b[0m\n",
      "\u001b[1;31mValueError\u001b[0m: list.remove(x): x not in list"
     ]
    }
   ],
   "source": [
    "# remove() 메소드로 인수로 지정한 데이터를 리스트에 저장된 데이터를 제거한다.\n",
    "a = [1, 2, 3, 4, 5, 3]\n",
    "print(a)\n",
    "a.remove(3) # 리스트에 인수로 지정된 데이터가 여러개 있을 경우 맨 처음의 데이터가 제거된다.\n",
    "print(a)\n",
    "a.remove(3) # 한 번 더 실행해야 나머지 3이 제거된다.\n",
    "print(a)\n",
    "a.remove(3) # 없는 데이터를 제거하려고 했기때문에 에러가 발생된다.\n",
    "print(a)"
   ]
  },
  {
   "cell_type": "code",
   "execution_count": 37,
   "metadata": {},
   "outputs": [
    {
     "name": "stdout",
     "output_type": "stream",
     "text": [
      "[1, 2, 3, 4, 5, 3]\n",
      "[1, 2, 3, 4, 5]\n",
      "[1, 2, 3, 4]\n",
      "[1, 3, 4]\n"
     ]
    },
    {
     "ename": "IndexError",
     "evalue": "pop index out of range",
     "output_type": "error",
     "traceback": [
      "\u001b[1;31m---------------------------------------------------------------------------\u001b[0m",
      "\u001b[1;31mIndexError\u001b[0m                                Traceback (most recent call last)",
      "\u001b[1;32m<ipython-input-37-580ae49f8129>\u001b[0m in \u001b[0;36m<module>\u001b[1;34m\u001b[0m\n\u001b[0;32m      8\u001b[0m \u001b[0ma\u001b[0m\u001b[1;33m.\u001b[0m\u001b[0mpop\u001b[0m\u001b[1;33m(\u001b[0m\u001b[1;36m1\u001b[0m\u001b[1;33m)\u001b[0m \u001b[1;31m# 제거할 데이터의 인덱스를 지정하면 지정된 인덱스의 데이터를 제거한다.\u001b[0m\u001b[1;33m\u001b[0m\u001b[1;33m\u001b[0m\u001b[0m\n\u001b[0;32m      9\u001b[0m \u001b[0mprint\u001b[0m\u001b[1;33m(\u001b[0m\u001b[0ma\u001b[0m\u001b[1;33m)\u001b[0m\u001b[1;33m\u001b[0m\u001b[1;33m\u001b[0m\u001b[0m\n\u001b[1;32m---> 10\u001b[1;33m \u001b[0ma\u001b[0m\u001b[1;33m.\u001b[0m\u001b[0mpop\u001b[0m\u001b[1;33m(\u001b[0m\u001b[1;36m3\u001b[0m\u001b[1;33m)\u001b[0m\u001b[1;33m\u001b[0m\u001b[1;33m\u001b[0m\u001b[0m\n\u001b[0m\u001b[0;32m     11\u001b[0m \u001b[0mprint\u001b[0m\u001b[1;33m(\u001b[0m\u001b[0ma\u001b[0m\u001b[1;33m)\u001b[0m\u001b[1;33m\u001b[0m\u001b[1;33m\u001b[0m\u001b[0m\n",
      "\u001b[1;31mIndexError\u001b[0m: pop index out of range"
     ]
    }
   ],
   "source": [
    "# pop() 메소드로 리스트에 저장된 특정 위치의 데이터를 제거한다.\n",
    "a = [1, 2, 3, 4, 5, 3]\n",
    "print(a)\n",
    "a.pop() # 제거할 데이터의 인덱스를 지정하지 않으면 맨 마지막 데이터를 제거한다.\n",
    "print(a)\n",
    "a.pop()\n",
    "print(a)\n",
    "a.pop(1) # 제거할 데이터의 인덱스를 지정하면 지정된 인덱스의 데이터를 제거한다.\n",
    "print(a)\n",
    "a.pop(3) # 지정한 인덱스가 리스트의 범위를 벗어나면 에러가 발생된다.\n",
    "print(a)"
   ]
  },
  {
   "cell_type": "code",
   "execution_count": 40,
   "metadata": {},
   "outputs": [
    {
     "name": "stdout",
     "output_type": "stream",
     "text": [
      "[1, 2, 4, 5, 6]\n",
      "None\n",
      "[1, 2, 4, 6]\n",
      "5\n"
     ]
    }
   ],
   "source": [
    "# remove() 메소드는 리스트의 데이터를 제거만하지만 pop()은 데이터를 제거하기 전에 제거할 데이터를 얻어온다.\n",
    "a = [1, 2, 3, 4, 5, 6]\n",
    "b = a.remove(3)\n",
    "print(a)\n",
    "print(b)\n",
    "b = a.pop(3)\n",
    "print(a)\n",
    "print(b)"
   ]
  },
  {
   "cell_type": "code",
   "execution_count": 45,
   "metadata": {},
   "outputs": [
    {
     "name": "stdout",
     "output_type": "stream",
     "text": [
      "a = 3, b = 4\n",
      "a = 4, b = 3\n",
      "a = 3, b = 4\n",
      "a = 4, b = 3\n"
     ]
    }
   ],
   "source": [
    "# 두 기억 장소에 저장된 데이터를 교환한다.\n",
    "a = 3\n",
    "b = 4\n",
    "print('a = {}, b = {}'.format(a, b))\n",
    "\n",
    "# 모든 언어에서 공통적으로 사용할 수 있는 방법\n",
    "temp = a\n",
    "a = b\n",
    "b = temp\n",
    "print('a = {}, b = {}'.format(a, b))\n",
    "\n",
    "# 파이썬에서만 사용할 수 있는 방법 - 리스트 사용\n",
    "[a, b] = [b, a]\n",
    "print('a = {}, b = {}'.format(a, b))\n",
    "\n",
    "# 파이썬에서만 사용할 수 있는 방법 - 튜플 사용\n",
    "a, b = b, a\n",
    "print('a = {}, b = {}'.format(a, b))"
   ]
  },
  {
   "cell_type": "code",
   "execution_count": null,
   "metadata": {},
   "outputs": [],
   "source": []
  },
  {
   "cell_type": "code",
   "execution_count": null,
   "metadata": {},
   "outputs": [],
   "source": []
  },
  {
   "cell_type": "code",
   "execution_count": null,
   "metadata": {},
   "outputs": [],
   "source": []
  },
  {
   "cell_type": "code",
   "execution_count": null,
   "metadata": {},
   "outputs": [],
   "source": []
  },
  {
   "cell_type": "code",
   "execution_count": null,
   "metadata": {},
   "outputs": [],
   "source": []
  },
  {
   "cell_type": "code",
   "execution_count": null,
   "metadata": {},
   "outputs": [],
   "source": []
  }
 ],
 "metadata": {
  "kernelspec": {
   "display_name": "Python 3",
   "language": "python",
   "name": "python3"
  },
  "language_info": {
   "codemirror_mode": {
    "name": "ipython",
    "version": 3
   },
   "file_extension": ".py",
   "mimetype": "text/x-python",
   "name": "python",
   "nbconvert_exporter": "python",
   "pygments_lexer": "ipython3",
   "version": "3.6.8"
  }
 },
 "nbformat": 4,
 "nbformat_minor": 4
}
