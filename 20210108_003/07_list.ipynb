{
 "cells": [
  {
   "cell_type": "markdown",
   "metadata": {},
   "source": [
    "리스트 만들기   \n",
    "리스트는 데이터를 []로 감싸주고 데이터와 데이터는 ','로 구분한다."
   ]
  },
  {
   "cell_type": "code",
   "execution_count": 4,
   "metadata": {},
   "outputs": [
    {
     "name": "stdout",
     "output_type": "stream",
     "text": [
      "<class 'list'>\n",
      "[]\n",
      "<class 'list'>\n",
      "[]\n"
     ]
    }
   ],
   "source": [
    "# 빈 리스트 만들기\n",
    "a = []\n",
    "print(type(a))\n",
    "print(a)\n",
    "# 빈 리스트는 생성자 함수를 사용해서도 만들 수 있다.\n",
    "b = list()\n",
    "print(type(b))\n",
    "print(b)"
   ]
  },
  {
   "cell_type": "code",
   "execution_count": 10,
   "metadata": {},
   "outputs": [
    {
     "name": "stdout",
     "output_type": "stream",
     "text": [
      "<class 'list'>\n",
      "[1, 2, 3]\n",
      "<class 'list'>\n",
      "['a', 'b', 'c']\n",
      "<class 'list'>\n",
      "[100, 'Life', 200, 'is']\n",
      "<class 'list'>\n",
      "[100, 200, ['List', 'is']]\n"
     ]
    }
   ],
   "source": [
    "# 초기치를 가지는 리스트\n",
    "c = [1, 2, 3]\n",
    "print(type(c))\n",
    "print(c)\n",
    "d = ['a', 'b', 'c']\n",
    "print(type(d))\n",
    "print(d)\n",
    "e = [100, 'Life', 200, 'is']\n",
    "print(type(e))\n",
    "print(e)\n",
    "f = [100, 200, ['List', 'is']] # 데이터 요소로 리스트를 가지는 리스트 => 2차원 리스트\n",
    "print(type(f))\n",
    "print(f)"
   ]
  },
  {
   "cell_type": "markdown",
   "metadata": {},
   "source": [
    "리스트 인덱싱"
   ]
  },
  {
   "cell_type": "code",
   "execution_count": 15,
   "metadata": {},
   "outputs": [
    {
     "name": "stdout",
     "output_type": "stream",
     "text": [
      "[1, 2, 3]\n",
      "<class 'int'>\n",
      "1\n",
      "4\n",
      "3\n"
     ]
    }
   ],
   "source": [
    "g = [1, 2, 3]\n",
    "print(g) # 리스트 이름은 리스트 전체를 의미한다.\n",
    "print(type(g[0]))\n",
    "print(g[0])\n",
    "print(g[0] + g[2])\n",
    "print(g[-1])"
   ]
  },
  {
   "cell_type": "code",
   "execution_count": 21,
   "metadata": {},
   "outputs": [
    {
     "name": "stdout",
     "output_type": "stream",
     "text": [
      "[1, 2, 3, ['a', 'b', 'c']]\n",
      "['a', 'b', 'c']\n",
      "['a', 'b', 'c']\n",
      "a\n",
      "c\n"
     ]
    }
   ],
   "source": [
    "h = [1, 2, 3, ['a', 'b', 'c']]\n",
    "print(h)\n",
    "print(h[3])\n",
    "print(h[-1])\n",
    "print(h[3][0]) # 2차원 인덱싱\n",
    "print(h[3][-1])"
   ]
  },
  {
   "cell_type": "code",
   "execution_count": 26,
   "metadata": {},
   "outputs": [
    {
     "name": "stdout",
     "output_type": "stream",
     "text": [
      "[1, 2, ['a', 'b', ['life', 'is']]]\n",
      "['a', 'b', ['life', 'is']]\n",
      "['life', 'is']\n",
      "life\n"
     ]
    }
   ],
   "source": [
    "i = [1, 2, ['a', 'b', ['life', 'is']]]\n",
    "print(i)\n",
    "print(i[2])\n",
    "print(i[2][-1])\n",
    "print(i[2][-1][0]) # 3차원 인덱싱"
   ]
  },
  {
   "cell_type": "markdown",
   "metadata": {},
   "source": [
    "리스트 슬라이싱  \n",
    "리스트 인덱싱은 인덱싱 되는 데이터 요소가 상수면 상수로 리턴되고 리스트면 리스트로 리턴되지만 슬라이싱으로 데이터를 뽑아내면 무조건 리스트로 리턴된다."
   ]
  },
  {
   "cell_type": "code",
   "execution_count": 32,
   "metadata": {},
   "outputs": [
    {
     "name": "stdout",
     "output_type": "stream",
     "text": [
      "[1, 2, 3, 4, 5]\n",
      "1\n",
      "[1]\n",
      "[1, 2, 3]\n",
      "[3, 4, 5]\n",
      "[1, 2, 3, 4, 5]\n"
     ]
    }
   ],
   "source": [
    "j = [1, 2, 3, 4, 5]\n",
    "print(j)\n",
    "print(j[0])\n",
    "print(j[0:1])\n",
    "print(j[:3])\n",
    "print(j[2:])\n",
    "print(j[:])"
   ]
  },
  {
   "cell_type": "code",
   "execution_count": 38,
   "metadata": {},
   "outputs": [
    {
     "name": "stdout",
     "output_type": "stream",
     "text": [
      "[1, 2, 3, ['a', 'b', 'c'], 4]\n",
      "[2, 3, ['a', 'b', 'c']]\n",
      "['a', 'b']\n",
      "[['a', 'b', 'c'], 4]\n"
     ]
    }
   ],
   "source": [
    "k = [1, 2, 3, ['a', 'b', 'c'], 4]\n",
    "print(k)\n",
    "print(k[1:4])\n",
    "print(k[3][0:2])"
   ]
  },
  {
   "cell_type": "markdown",
   "metadata": {},
   "source": [
    "리스트 연산자 => '+'는 2개의 리스트를 연결하고 '*'는 리스트를 반복한다."
   ]
  },
  {
   "cell_type": "code",
   "execution_count": 47,
   "metadata": {},
   "outputs": [
    {
     "name": "stdout",
     "output_type": "stream",
     "text": [
      "[1, 2, 3, 4, 5, 6, 7]\n",
      "[1, 2, 3, 1, 2, 3, 1, 2, 3]\n"
     ]
    }
   ],
   "source": [
    "l = [1, 2, 3]\n",
    "m = [4, 5, 6, 7]\n",
    "print(l + m)\n",
    "print(l * 3)"
   ]
  },
  {
   "cell_type": "markdown",
   "metadata": {},
   "source": [
    "리스트 데이터 요소의 수정 및 삭제"
   ]
  },
  {
   "cell_type": "code",
   "execution_count": 51,
   "metadata": {},
   "outputs": [
    {
     "name": "stdout",
     "output_type": "stream",
     "text": [
      "[1, 2, 3]\n",
      "[1, 4, 3]\n",
      "[[100, 200, 300], 4, 3]\n",
      "[[100, 200, 300], 4, 'a', 'b', 'c']\n"
     ]
    }
   ],
   "source": [
    "n = [1, 2, 3]\n",
    "print(n)\n",
    "n[1] = 4 # 인덱싱을 이용한 데이터 수정, 수정할 리스트의 인덱스 번째 요소에 값을 대입하면 된다.\n",
    "print(n)\n",
    "n[0] = [100, 200, 300] # 인덱싱을 이용해 리스트를 대입하면 리스트 자체가 대입된다.\n",
    "print(n)\n",
    "n[2:3] = ['a', 'b', 'c'] # 슬라이싱을 이용해 리스트를 대입하면 대입하는 리스트의 데이터만 대입된다.\n",
    "print(n)"
   ]
  },
  {
   "cell_type": "code",
   "execution_count": 59,
   "metadata": {},
   "outputs": [
    {
     "name": "stdout",
     "output_type": "stream",
     "text": [
      "[1, 2, 3, 4, 5]\n",
      "[1, 3, 4, 5]\n",
      "[1, 5]\n",
      "[]\n"
     ]
    },
    {
     "ename": "NameError",
     "evalue": "name 'o' is not defined",
     "output_type": "error",
     "traceback": [
      "\u001b[1;31m---------------------------------------------------------------------------\u001b[0m",
      "\u001b[1;31mNameError\u001b[0m                                 Traceback (most recent call last)",
      "\u001b[1;32m<ipython-input-59-afbf3cf5888e>\u001b[0m in \u001b[0;36m<module>\u001b[1;34m\u001b[0m\n\u001b[0;32m      9\u001b[0m \u001b[0mprint\u001b[0m\u001b[1;33m(\u001b[0m\u001b[0mo\u001b[0m\u001b[1;33m)\u001b[0m\u001b[1;33m\u001b[0m\u001b[1;33m\u001b[0m\u001b[0m\n\u001b[0;32m     10\u001b[0m \u001b[1;32mdel\u001b[0m \u001b[0mo\u001b[0m \u001b[1;31m# del 명령을 이용해서 리스트 자체를 삭제할 수 있다.\u001b[0m\u001b[1;33m\u001b[0m\u001b[1;33m\u001b[0m\u001b[0m\n\u001b[1;32m---> 11\u001b[1;33m \u001b[0mprint\u001b[0m\u001b[1;33m(\u001b[0m\u001b[0mo\u001b[0m\u001b[1;33m)\u001b[0m\u001b[1;33m\u001b[0m\u001b[1;33m\u001b[0m\u001b[0m\n\u001b[0m",
      "\u001b[1;31mNameError\u001b[0m: name 'o' is not defined"
     ]
    }
   ],
   "source": [
    "o = [1, 2, 3, 4, 5]\n",
    "print(o)\n",
    "del o[1] # del 명령으로 인덱싱된 리스트의 데이터를 삭제할 수 있다.\n",
    "print(o)\n",
    "del o[1:3] # del 명령으로 슬라이싱된 데이터를 삭제할 수 있다.\n",
    "# o[1:3] = [] # 슬라이싱된 리스트에 빈 리스트를 대입하면 데이터가 삭제되는 효과가 난다.\n",
    "print(o)\n",
    "o.clear() # clear() 메소드를 사용하면 리스트에 저장된 모든 데이터를 삭제할 수 있다.\n",
    "print(o)\n",
    "del o # del 명령을 이용해서 리스트 자체를 삭제할 수 있다.\n",
    "print(o)"
   ]
  },
  {
   "cell_type": "code",
   "execution_count": null,
   "metadata": {},
   "outputs": [],
   "source": []
  },
  {
   "cell_type": "code",
   "execution_count": null,
   "metadata": {},
   "outputs": [],
   "source": []
  },
  {
   "cell_type": "code",
   "execution_count": null,
   "metadata": {},
   "outputs": [],
   "source": []
  },
  {
   "cell_type": "code",
   "execution_count": null,
   "metadata": {},
   "outputs": [],
   "source": []
  },
  {
   "cell_type": "code",
   "execution_count": null,
   "metadata": {},
   "outputs": [],
   "source": []
  }
 ],
 "metadata": {
  "kernelspec": {
   "display_name": "Python 3",
   "language": "python",
   "name": "python3"
  },
  "language_info": {
   "codemirror_mode": {
    "name": "ipython",
    "version": 3
   },
   "file_extension": ".py",
   "mimetype": "text/x-python",
   "name": "python",
   "nbconvert_exporter": "python",
   "pygments_lexer": "ipython3",
   "version": "3.6.8"
  }
 },
 "nbformat": 4,
 "nbformat_minor": 4
}
