{
 "cells": [
  {
   "cell_type": "markdown",
   "metadata": {},
   "source": [
    "set은 수학의 집합과 비슷한 형태로 중복되는 데이터의 입력을 허용하지 않고 입력되는 데이터의 순서와 실제로 저장되는 데이터의 순서가 다르다.  \n",
    "딕셔너리 처럼 {}를 사용해서 데이터를 감싸주지만 key가 존재하지 않고 value들만 존재한다."
   ]
  },
  {
   "cell_type": "code",
   "execution_count": 1,
   "metadata": {},
   "outputs": [
    {
     "name": "stdout",
     "output_type": "stream",
     "text": [
      "<class 'dict'>\n",
      "{}\n",
      "<class 'set'>\n",
      "set()\n"
     ]
    }
   ],
   "source": [
    "# 빈 set을 만든다.\n",
    "a = {}\n",
    "print(type(a))\n",
    "print(a)\n",
    "# 빈 set을 만들때 {}를 사용하면 빈 딕셔너리가 생성되기 때문에 반드시 생성자 함수로만 만들어 사용해야 한다.\n",
    "b = set()\n",
    "print(type(b))\n",
    "print(b)"
   ]
  },
  {
   "cell_type": "code",
   "execution_count": 2,
   "metadata": {},
   "outputs": [
    {
     "name": "stdout",
     "output_type": "stream",
     "text": [
      "<class 'set'>\n",
      "{1, 2, 3, 4}\n"
     ]
    }
   ],
   "source": [
    "c = {1, 2, 3, 4}\n",
    "print(type(c))\n",
    "print(c)"
   ]
  },
  {
   "cell_type": "code",
   "execution_count": 3,
   "metadata": {},
   "outputs": [
    {
     "name": "stdout",
     "output_type": "stream",
     "text": [
      "<class 'set'>\n",
      "{1, 2, 3, 4}\n",
      "<class 'set'>\n",
      "{1, 2, 3, 4}\n"
     ]
    }
   ],
   "source": [
    "# 생성자 함수의 인수로 리스트나 튜플을 넘겨받아 set을 만들 수 있다.\n",
    "d = set([1, 2, 3, 4])\n",
    "print(type(d))\n",
    "print(d)\n",
    "e = set((1, 2, 3, 4))\n",
    "print(type(e))\n",
    "print(e)"
   ]
  },
  {
   "cell_type": "code",
   "execution_count": 5,
   "metadata": {},
   "outputs": [
    {
     "name": "stdout",
     "output_type": "stream",
     "text": [
      "<class 'set'>\n",
      "{1, 3, 5, 7}\n"
     ]
    }
   ],
   "source": [
    "f = {1, 5, 1, 1, 1, 1, 3, 5, 7, 7}\n",
    "print(type(f))\n",
    "print(f)"
   ]
  },
  {
   "cell_type": "markdown",
   "metadata": {},
   "source": [
    "set 메소드"
   ]
  },
  {
   "cell_type": "code",
   "execution_count": 10,
   "metadata": {},
   "outputs": [
    {
     "name": "stdout",
     "output_type": "stream",
     "text": [
      "set()\n",
      "{'홍길동'}\n",
      "{'임꺽정', '홍길동'}\n",
      "{'임꺽정', '장길산', '홍길동'}\n",
      "{'임꺽정', '장길산', '일지매', '홍길동'}\n"
     ]
    }
   ],
   "source": [
    "# add() 메소드로 데이터를 추가할 수 있다.\n",
    "a = set()\n",
    "print(a)\n",
    "a.add('홍길동')\n",
    "print(a)\n",
    "a.add('임꺽정')\n",
    "print(a)\n",
    "a.add('장길산')\n",
    "print(a)\n",
    "a.add('일지매')\n",
    "print(a)"
   ]
  },
  {
   "cell_type": "code",
   "execution_count": 18,
   "metadata": {},
   "outputs": [
    {
     "name": "stdout",
     "output_type": "stream",
     "text": [
      "{'저팔계', '일지매', '마인부우', '사오정', '삼장법사', '홍길동', '임꺽정', '베지터', '손오공', '장길산', '프리저'}\n",
      "{'저팔계', '일지매', '마인부우', '사오정', '삼장법사', '홍길동', '피콜로', '임꺽정', '베지터', '손오공', '장길산', '프리저'}\n"
     ]
    }
   ],
   "source": [
    "# update() 메소드로 리스트나 튜플을 이용해서 set에 여러개의 데이터를 한 번에 추가할 수 있다.\n",
    "b = ['손오공', '저팔계', '사오정', '삼장법사']\n",
    "a.update(b)\n",
    "print(a)\n",
    "c = '피콜로', '마인부우', '베지터', '프리저'\n",
    "a.update(c)\n",
    "print(a)"
   ]
  },
  {
   "cell_type": "code",
   "execution_count": 19,
   "metadata": {},
   "outputs": [
    {
     "name": "stdout",
     "output_type": "stream",
     "text": [
      "{'저팔계', '일지매', '마인부우', '사오정', '삼장법사', '홍길동', '임꺽정', '베지터', '손오공', '장길산', '프리저'}\n"
     ]
    },
    {
     "ename": "KeyError",
     "evalue": "'피콜로'",
     "output_type": "error",
     "traceback": [
      "\u001b[1;31m---------------------------------------------------------------------------\u001b[0m",
      "\u001b[1;31mKeyError\u001b[0m                                  Traceback (most recent call last)",
      "\u001b[1;32m<ipython-input-19-8a59f931c675>\u001b[0m in \u001b[0;36m<module>\u001b[1;34m\u001b[0m\n\u001b[0;32m      2\u001b[0m \u001b[0ma\u001b[0m\u001b[1;33m.\u001b[0m\u001b[0mremove\u001b[0m\u001b[1;33m(\u001b[0m\u001b[1;34m'피콜로'\u001b[0m\u001b[1;33m)\u001b[0m\u001b[1;33m\u001b[0m\u001b[1;33m\u001b[0m\u001b[0m\n\u001b[0;32m      3\u001b[0m \u001b[0mprint\u001b[0m\u001b[1;33m(\u001b[0m\u001b[0ma\u001b[0m\u001b[1;33m)\u001b[0m\u001b[1;33m\u001b[0m\u001b[1;33m\u001b[0m\u001b[0m\n\u001b[1;32m----> 4\u001b[1;33m \u001b[0ma\u001b[0m\u001b[1;33m.\u001b[0m\u001b[0mremove\u001b[0m\u001b[1;33m(\u001b[0m\u001b[1;34m'피콜로'\u001b[0m\u001b[1;33m)\u001b[0m \u001b[1;31m# set에 존재하지 않는 데이터를 삭제하려 했으므로 에러가 발생된다.\u001b[0m\u001b[1;33m\u001b[0m\u001b[1;33m\u001b[0m\u001b[0m\n\u001b[0m\u001b[0;32m      5\u001b[0m \u001b[0mprint\u001b[0m\u001b[1;33m(\u001b[0m\u001b[0ma\u001b[0m\u001b[1;33m)\u001b[0m\u001b[1;33m\u001b[0m\u001b[1;33m\u001b[0m\u001b[0m\n",
      "\u001b[1;31mKeyError\u001b[0m: '피콜로'"
     ]
    }
   ],
   "source": [
    "# remove() 메소드로 set에 저장된 데이터를 제거할 수 있다.\n",
    "a.remove('피콜로')\n",
    "print(a)\n",
    "a.remove('피콜로') # set에 존재하지 않는 데이터를 삭제하려 했으므로 에러가 발생된다.\n",
    "print(a)"
   ]
  },
  {
   "cell_type": "code",
   "execution_count": 20,
   "metadata": {},
   "outputs": [
    {
     "name": "stdout",
     "output_type": "stream",
     "text": [
      "{'저팔계', '일지매', '사오정', '삼장법사', '홍길동', '임꺽정', '베지터', '손오공', '장길산', '프리저'}\n",
      "{'저팔계', '일지매', '사오정', '삼장법사', '홍길동', '임꺽정', '베지터', '손오공', '장길산', '프리저'}\n"
     ]
    }
   ],
   "source": [
    "# discard() 메소드로 set에 저장된 데이터를 제거할 수 있다.\n",
    "a.discard('마인부우')\n",
    "print(a)\n",
    "a.discard('마인부우') # set에 존재하지 않는 데이터를 삭제하려 해도 에러가 발생되지 않는다.\n",
    "print(a)"
   ]
  },
  {
   "cell_type": "code",
   "execution_count": 21,
   "metadata": {},
   "outputs": [
    {
     "name": "stdout",
     "output_type": "stream",
     "text": [
      "set()\n"
     ]
    }
   ],
   "source": [
    "# clear() 메소드로 set에 저장된 모든 데이터를 제거할 수 있다.\n",
    "a.clear()\n",
    "print(a)"
   ]
  },
  {
   "cell_type": "code",
   "execution_count": 22,
   "metadata": {},
   "outputs": [
    {
     "ename": "NameError",
     "evalue": "name 'a' is not defined",
     "output_type": "error",
     "traceback": [
      "\u001b[1;31m---------------------------------------------------------------------------\u001b[0m",
      "\u001b[1;31mNameError\u001b[0m                                 Traceback (most recent call last)",
      "\u001b[1;32m<ipython-input-22-0580e4333c42>\u001b[0m in \u001b[0;36m<module>\u001b[1;34m\u001b[0m\n\u001b[0;32m      1\u001b[0m \u001b[1;31m# del 명령을 사용해서 set 자체를 메모리에서 제거할 수 있다.\u001b[0m\u001b[1;33m\u001b[0m\u001b[1;33m\u001b[0m\u001b[1;33m\u001b[0m\u001b[0m\n\u001b[0;32m      2\u001b[0m \u001b[1;32mdel\u001b[0m \u001b[0ma\u001b[0m\u001b[1;33m\u001b[0m\u001b[1;33m\u001b[0m\u001b[0m\n\u001b[1;32m----> 3\u001b[1;33m \u001b[0mprint\u001b[0m\u001b[1;33m(\u001b[0m\u001b[0ma\u001b[0m\u001b[1;33m)\u001b[0m\u001b[1;33m\u001b[0m\u001b[1;33m\u001b[0m\u001b[0m\n\u001b[0m",
      "\u001b[1;31mNameError\u001b[0m: name 'a' is not defined"
     ]
    }
   ],
   "source": [
    "# del 명령을 사용해서 set 자체를 메모리에서 제거할 수 있다.\n",
    "del a\n",
    "print(a)"
   ]
  },
  {
   "cell_type": "code",
   "execution_count": 34,
   "metadata": {},
   "outputs": [
    {
     "name": "stdout",
     "output_type": "stream",
     "text": [
      "{1, 2, 3, 4, 5, 6, 7}\n",
      "{1, 2, 3, 4, 5, 6, 7}\n",
      "{3, 4, 5}\n",
      "{3, 4, 5}\n",
      "{1, 2}\n",
      "{1, 2}\n",
      "{6, 7}\n",
      "{6, 7}\n",
      "{1, 2, 6, 7}\n",
      "{1, 2, 6, 7}\n",
      "{1, 2, 6, 7}\n"
     ]
    }
   ],
   "source": [
    "a = {1, 2, 3, 4, 5}\n",
    "b = {3, 4, 5, 6, 7}\n",
    "\n",
    "# 합집합 => union, |\n",
    "print(a.union(b))\n",
    "print(a | b)\n",
    "\n",
    "# 교집합 => intersection, &\n",
    "print(a.intersection(b))\n",
    "print(a & b)\n",
    "\n",
    "# 차집합 => difference, -\n",
    "print(a.difference(b))\n",
    "print(a - b)\n",
    "print(b.difference(a))\n",
    "print(b - a)\n",
    "\n",
    "# 대칭 차집합 => 합집합 - 교집합 => symmetric_difference\n",
    "print(a.symmetric_difference(b))\n",
    "print((a | b) - (a & b))\n",
    "print(a ^ b)"
   ]
  },
  {
   "cell_type": "code",
   "execution_count": null,
   "metadata": {},
   "outputs": [],
   "source": []
  },
  {
   "cell_type": "code",
   "execution_count": null,
   "metadata": {},
   "outputs": [],
   "source": []
  },
  {
   "cell_type": "code",
   "execution_count": null,
   "metadata": {},
   "outputs": [],
   "source": []
  },
  {
   "cell_type": "code",
   "execution_count": null,
   "metadata": {},
   "outputs": [],
   "source": []
  },
  {
   "cell_type": "code",
   "execution_count": null,
   "metadata": {},
   "outputs": [],
   "source": []
  },
  {
   "cell_type": "code",
   "execution_count": null,
   "metadata": {},
   "outputs": [],
   "source": []
  },
  {
   "cell_type": "code",
   "execution_count": null,
   "metadata": {},
   "outputs": [],
   "source": []
  },
  {
   "cell_type": "code",
   "execution_count": null,
   "metadata": {},
   "outputs": [],
   "source": []
  },
  {
   "cell_type": "code",
   "execution_count": null,
   "metadata": {},
   "outputs": [],
   "source": []
  },
  {
   "cell_type": "code",
   "execution_count": null,
   "metadata": {},
   "outputs": [],
   "source": []
  }
 ],
 "metadata": {
  "kernelspec": {
   "display_name": "Python 3",
   "language": "python",
   "name": "python3"
  },
  "language_info": {
   "codemirror_mode": {
    "name": "ipython",
    "version": 3
   },
   "file_extension": ".py",
   "mimetype": "text/x-python",
   "name": "python",
   "nbconvert_exporter": "python",
   "pygments_lexer": "ipython3",
   "version": "3.6.8"
  }
 },
 "nbformat": 4,
 "nbformat_minor": 4
}
