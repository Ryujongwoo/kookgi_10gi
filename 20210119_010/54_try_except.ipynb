{
 "cells": [
  {
   "cell_type": "markdown",
   "metadata": {},
   "source": [
    "오류 처리  \n",
    "프로그램을 작성할 때 잘못 동작되는 것을 방지하기 위해 오류가 발생된다. => 오류가 발생되면 프로그램이 멈춘다.  \n",
    "try ~ except를 사용하면 오류가 발생되었을 때 별도의 처리를 하거나 오류를 무시하고 프로그램을 실행할 수 있다.  \n",
    "오류가 발생될것으로 예상되는 문장은 try 블록에 코딩하고 try 블록을 실행하다가 오류가 발생되면 더 이상 try 블록에 코딩한 내용을 실행하지 않고 해당 except 블록에 코딩된 내용을 실행한다.  \n",
    "\n",
    "try: # 필수  \n",
    "&nbsp;&nbsp;&nbsp;&nbsp;오류가 발생될 것으로 예상되는 문장  \n",
    "&nbsp;&nbsp;&nbsp;&nbsp;...  \n",
    "except [오류 이름 [as 변수]]: # 필수 => 오류 이름은 생략할 수 있다.  \n",
    "&nbsp;&nbsp;&nbsp;&nbsp;오류가 발생되면 실행할 문장  \n",
    "&nbsp;&nbsp;&nbsp;&nbsp;...  \n",
    "finally: # 선택 => 필요하면 사용한다.  \n",
    "&nbsp;&nbsp;&nbsp;&nbsp;오류 발생 여부와 관계없이 무조건 실행할 문장  \n",
    "&nbsp;&nbsp;&nbsp;&nbsp;..."
   ]
  },
  {
   "cell_type": "code",
   "execution_count": 5,
   "metadata": {},
   "outputs": [
    {
     "name": "stdout",
     "output_type": "stream",
     "text": [
      "4.0\n",
      "나눗셈은 0으로 할 수 없습니다.\n",
      "꺄~~~~~~~~~~~~\n"
     ]
    }
   ],
   "source": [
    "try:\n",
    "    print(4 / 1)\n",
    "    print(4 / 0) # ZeroDivisionError가 발생된다.\n",
    "    print(4 / 4)\n",
    "except:\n",
    "    # except 뒤에 오류 이름을 적지않으면 모든 오류를 처리할 수 있다.\n",
    "    print('나눗셈은 0으로 할 수 없습니다.')\n",
    "    # 오류 발생시 아무것도 하지않고 오류를 무시하려면 아래와 같이 pass를 사용하면 된다.\n",
    "    # pass\n",
    "print('꺄~~~~~~~~~~~~')"
   ]
  },
  {
   "cell_type": "code",
   "execution_count": 11,
   "metadata": {},
   "outputs": [
    {
     "name": "stdout",
     "output_type": "stream",
     "text": [
      "3\n",
      "리스트의 인덱스 지정이 올바르지 않습니다.\n"
     ]
    }
   ],
   "source": [
    "data = [1, 2, 3]\n",
    "try:\n",
    "    print(data[2])\n",
    "    print(data[3]) # IndexError가 발생된다.\n",
    "    print(data[0])\n",
    "except:\n",
    "    print('리스트의 인덱스 지정이 올바르지 않습니다.')"
   ]
  },
  {
   "cell_type": "code",
   "execution_count": 27,
   "metadata": {},
   "outputs": [
    {
     "name": "stdout",
     "output_type": "stream",
     "text": [
      "안녕~~~~~\n",
      "데이터 타입이 올바르지 않습니다.\n",
      "오류가 발생하던 발생하지 않던 무조건 실행해야 할 문장이 있다면 이곳에 코딩한다.\n"
     ]
    }
   ],
   "source": [
    "data = [1, 2, 3]\n",
    "string = '안녕~~~~~'\n",
    "try:\n",
    "    # print(4 / 0) # ZeroDivisionError가 발생된다.\n",
    "    # print(data[3]) # IndexError가 발생된다.\n",
    "    print(string)\n",
    "    print('%d' % string)\n",
    "except ZeroDivisionError:\n",
    "    # except 뒤에 오류 이름을 적으면 지정된 오류에만 오류 처리를 할 수 있다.\n",
    "    print('나눗셈은 0으로 할 수 없습니다.')\n",
    "except IndexError as e:\n",
    "    # except 뒤에 오류 이름을 쓰고 as 다음에 변수를 지정하면 오류 메시지가 변수에 저장된다.\n",
    "    # print('리스트의 인덱스 지정이 올바르지 않습니다.')\n",
    "    print(e)\n",
    "except:\n",
    "    # except 뒤에 오류 이름을 지정하지 않으면 모든 오류를 처리하기 때문에 except 뒤에 코딩한 다른 except 문장들이 실행되지 않는다.\n",
    "    # 따라서 except만 사용하는 경우는 반드시 맨 마지막에 코딩해야 한다.\n",
    "    # ZeroDivisionError, IndexError를 제외한 모든 오류가 발생되면 이곳에 코딩한 문장이 실행된다.\n",
    "    print('데이터 타입이 올바르지 않습니다.')\n",
    "finally:\n",
    "    print('오류가 발생하던 발생하지 않던 무조건 실행해야 할 문장이 있다면 이곳에 코딩한다.')"
   ]
  },
  {
   "cell_type": "code",
   "execution_count": 28,
   "metadata": {},
   "outputs": [
    {
     "ename": "TypeError",
     "evalue": "'<' not supported between instances of 'str' and 'int'",
     "output_type": "error",
     "traceback": [
      "\u001b[1;31m---------------------------------------------------------------------------\u001b[0m",
      "\u001b[1;31mTypeError\u001b[0m                                 Traceback (most recent call last)",
      "\u001b[1;32m<ipython-input-28-25c226d2b9b5>\u001b[0m in \u001b[0;36m<module>\u001b[1;34m\u001b[0m\n\u001b[0;32m      1\u001b[0m \u001b[0ma\u001b[0m \u001b[1;33m=\u001b[0m \u001b[1;33m[\u001b[0m\u001b[1;36m100\u001b[0m\u001b[1;33m,\u001b[0m \u001b[1;34m'010'\u001b[0m\u001b[1;33m,\u001b[0m \u001b[1;36m55\u001b[0m\u001b[1;33m,\u001b[0m \u001b[1;34m'10'\u001b[0m\u001b[1;33m]\u001b[0m\u001b[1;33m\u001b[0m\u001b[1;33m\u001b[0m\u001b[0m\n\u001b[1;32m----> 2\u001b[1;33m \u001b[0ma\u001b[0m\u001b[1;33m.\u001b[0m\u001b[0msort\u001b[0m\u001b[1;33m(\u001b[0m\u001b[1;33m)\u001b[0m\u001b[1;33m\u001b[0m\u001b[1;33m\u001b[0m\u001b[0m\n\u001b[0m",
      "\u001b[1;31mTypeError\u001b[0m: '<' not supported between instances of 'str' and 'int'"
     ]
    }
   ],
   "source": [
    "a = [100, '010', 55, '10']\n",
    "a.sort()"
   ]
  },
  {
   "cell_type": "code",
   "execution_count": 31,
   "metadata": {},
   "outputs": [
    {
     "name": "stdout",
     "output_type": "stream",
     "text": [
      "정렬할 데이터를 입력하세요(999가 입력되면 정렬이 시작됩니다.) : 100\n",
      "정렬할 데이터를 입력하세요(999가 입력되면 정렬이 시작됩니다.) : aaa\n",
      "정렬할 데이터를 입력하세요(999가 입력되면 정렬이 시작됩니다.) : 010\n",
      "정렬할 데이터를 입력하세요(999가 입력되면 정렬이 시작됩니다.) : bbb\n",
      "정렬할 데이터를 입력하세요(999가 입력되면 정렬이 시작됩니다.) : 999\n",
      "[10, 100, 'aaa', 'bbb']\n"
     ]
    }
   ],
   "source": [
    "# 숫자 데이터와 문자 데이터가 섞여서 입력되는 데이터를 정렬한다. 999가 입력되면 정렬을 시작한다.\n",
    "number = []\n",
    "alpha = []\n",
    "while True:\n",
    "    var = input('정렬할 데이터를 입력하세요(999가 입력되면 정렬이 시작됩니다.) : ')\n",
    "    if var == '999':\n",
    "        break\n",
    "    # 입력받은 데이터가 0 ~ 9 사이의 문자로만 구성된 경우와 그렇치 않은 경우를 각각 number, alpha 리스트에 저장한다.\n",
    "    try:\n",
    "        number.append(int(var))\n",
    "    except:\n",
    "        alpha.append(var)\n",
    "# ===== while True 끝\n",
    "number.sort()\n",
    "alpha.sort()\n",
    "print(number + alpha)"
   ]
  },
  {
   "cell_type": "code",
   "execution_count": null,
   "metadata": {},
   "outputs": [],
   "source": []
  },
  {
   "cell_type": "code",
   "execution_count": null,
   "metadata": {},
   "outputs": [],
   "source": []
  },
  {
   "cell_type": "code",
   "execution_count": null,
   "metadata": {},
   "outputs": [],
   "source": []
  }
 ],
 "metadata": {
  "kernelspec": {
   "display_name": "Python 3",
   "language": "python",
   "name": "python3"
  },
  "language_info": {
   "codemirror_mode": {
    "name": "ipython",
    "version": 3
   },
   "file_extension": ".py",
   "mimetype": "text/x-python",
   "name": "python",
   "nbconvert_exporter": "python",
   "pygments_lexer": "ipython3",
   "version": "3.6.8"
  }
 },
 "nbformat": 4,
 "nbformat_minor": 4
}
