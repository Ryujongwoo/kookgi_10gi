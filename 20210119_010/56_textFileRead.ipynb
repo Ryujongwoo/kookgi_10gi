{
 "cells": [
  {
   "cell_type": "code",
   "execution_count": 14,
   "metadata": {},
   "outputs": [
    {
     "name": "stdout",
     "output_type": "stream",
     "text": [
      "data.txt 파일에서 읽기 완료!!!\n",
      "['ㅓㅏㅐㅣㄴㄹ어ㅏㅣㄹㅇ너ㅏㅣㄹ\\\\', 'ㅓㅏㅣㄹㄴ어ㅏㅣㅏㅣㅓㄹㅇㄴ', 'ㅓㅣㅏㄹㄴㅇ마ㅣㄷ져ㅑㄱ', 'ㄹㄴ이ㅓㅏ러나이', 'kkl;sdgjklsdfgljksf', 'sfdjklefjklewr\\\\sfdjklfsdjklsfd', 'jklhsdfjklsfdjklsdf', 'jklsdfjklwerkjle']\n"
     ]
    }
   ],
   "source": [
    "file = open('./data/data.txt', 'r')\n",
    "lines = []\n",
    "\n",
    "# 텍스트 파일에 저장된 데이터가 몇 줄인지 알 수 없으므로 무한 루프를 돌려서 읽는다.\n",
    "while True:\n",
    "    # readline() 메소드로 텍스트 파일에 데이터를 한 줄씩 읽어들일 수 있다.\n",
    "    line = file.readline()\n",
    "    # readline() 메소드로 텍스트 파일에서 읽어들인 데이터가 없으면 무한 루프를 탈출한다.\n",
    "    if not line: # 텍스트 파일에서 읽어들인 데이터가 없으면\n",
    "        break\n",
    "    # 읽어들인 데이터가 빈 줄이거나 모두 공백이 입력된 줄은 리스트에 저장시키지 않는다.\n",
    "    line = line.strip() # strip() 메소드를 실행하면 문자열 끝의 개행 문자도 제거된다.\n",
    "    if len(line) != 0:\n",
    "        # print(line)\n",
    "        lines.append(line)\n",
    "\n",
    "file.close()\n",
    "print('data.txt 파일에서 읽기 완료!!!')\n",
    "print(lines)"
   ]
  },
  {
   "cell_type": "code",
   "execution_count": 22,
   "metadata": {},
   "outputs": [
    {
     "name": "stdout",
     "output_type": "stream",
     "text": [
      "data.txt 파일에서 읽기 완료!!!\n",
      "ㅓㅏㅐㅣㄴㄹ어ㅏㅣㄹㅇ너ㅏㅣㄹ\\\n",
      "ㅓㅏㅣㄹㄴ어ㅏㅣㅏㅣㅓㄹㅇㄴ\n",
      "ㅓㅣㅏㄹㄴㅇ마ㅣㄷ져ㅑㄱ\n",
      "ㄹㄴ이ㅓㅏ러나이\n",
      "kkl;sdgjklsdfgljksf\n",
      "sfdjklefjklewr\\sfdjklfsdjklsfd\n",
      "jklhsdfjklsfdjklsdf\n",
      "jklsdfjklwerkjle\n",
      "================================================================================\n",
      "ㅓㅏㅐㅣㄴㄹ어ㅏㅣㄹㅇ너ㅏㅣㄹ\\\n",
      "ㅓㅏㅣㄹㄴ어ㅏㅣㅏㅣㅓㄹㅇㄴ\n",
      "ㅓㅣㅏㄹㄴㅇ마ㅣㄷ져ㅑㄱ\n",
      "ㄹㄴ이ㅓㅏ러나이\n",
      "kkl;sdgjklsdfgljksf\n",
      "sfdjklefjklewr\\sfdjklfsdjklsfd\n",
      "jklhsdfjklsfdjklsdf\n",
      "jklsdfjklwerkjle\n"
     ]
    }
   ],
   "source": [
    "file = open('./data/data.txt', 'r')\n",
    "\n",
    "# readlines() 메소드로 텍스트 파일의 데이터 전체를 한꺼번에 읽어서 리스트로 얻어온다.\n",
    "lines = file.readlines()\n",
    "# print(type(lines))\n",
    "# print(lines)\n",
    "\n",
    "file.close()\n",
    "print('data.txt 파일에서 읽기 완료!!!')\n",
    "\n",
    "for line in lines:\n",
    "    line = line.strip()\n",
    "    if len(line) != 0:\n",
    "        print(line)\n",
    "print('=' * 80)\n",
    "\n",
    "for i in range(len(lines)):\n",
    "    line = lines[i].strip()\n",
    "    if len(line) != 0:\n",
    "        print(line)"
   ]
  },
  {
   "cell_type": "code",
   "execution_count": null,
   "metadata": {},
   "outputs": [],
   "source": []
  },
  {
   "cell_type": "code",
   "execution_count": null,
   "metadata": {},
   "outputs": [],
   "source": []
  },
  {
   "cell_type": "code",
   "execution_count": null,
   "metadata": {},
   "outputs": [],
   "source": []
  },
  {
   "cell_type": "code",
   "execution_count": null,
   "metadata": {},
   "outputs": [],
   "source": []
  }
 ],
 "metadata": {
  "kernelspec": {
   "display_name": "Python 3",
   "language": "python",
   "name": "python3"
  },
  "language_info": {
   "codemirror_mode": {
    "name": "ipython",
    "version": 3
   },
   "file_extension": ".py",
   "mimetype": "text/x-python",
   "name": "python",
   "nbconvert_exporter": "python",
   "pygments_lexer": "ipython3",
   "version": "3.6.8"
  }
 },
 "nbformat": 4,
 "nbformat_minor": 4
}
