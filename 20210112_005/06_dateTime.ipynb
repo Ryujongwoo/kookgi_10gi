{
 "cells": [
  {
   "cell_type": "markdown",
   "metadata": {},
   "source": [
    "컴퓨터 시스템의 날짜와 시간을 얻어온다."
   ]
  },
  {
   "cell_type": "code",
   "execution_count": 1,
   "metadata": {},
   "outputs": [
    {
     "name": "stdout",
     "output_type": "stream",
     "text": [
      "2021-01-12 11:20:29.455053\n"
     ]
    }
   ],
   "source": [
    "import datetime\n",
    "now = datetime.datetime.now()\n",
    "print(now)"
   ]
  },
  {
   "cell_type": "code",
   "execution_count": 2,
   "metadata": {},
   "outputs": [
    {
     "name": "stdout",
     "output_type": "stream",
     "text": [
      "2021-01-12 11:20:29.474063\n"
     ]
    }
   ],
   "source": [
    "from datetime import datetime\n",
    "now = datetime.now()\n",
    "print(now)"
   ]
  },
  {
   "cell_type": "code",
   "execution_count": 3,
   "metadata": {},
   "outputs": [
    {
     "name": "stdout",
     "output_type": "stream",
     "text": [
      "2021-01-12 11:20:29.494055\n"
     ]
    }
   ],
   "source": [
    "from datetime import datetime as dt\n",
    "now = dt.now()\n",
    "print(now)"
   ]
  },
  {
   "cell_type": "code",
   "execution_count": 4,
   "metadata": {},
   "outputs": [
    {
     "name": "stdout",
     "output_type": "stream",
     "text": [
      "년 : 2021\n",
      "월 : 1\n",
      "일 : 12\n",
      "시 : 11\n",
      "분 : 20\n",
      "초 : 29\n",
      "마이크로 초 : 494055\n",
      "밀리 초 : 494\n",
      "요일 : 1\n"
     ]
    }
   ],
   "source": [
    "print('년 : {}'.format(now.year))\n",
    "print('월 : {}'.format(now.month))\n",
    "print('일 : {}'.format(now.day))\n",
    "print('시 : {}'.format(now.hour))\n",
    "print('분 : {}'.format(now.minute))\n",
    "print('초 : {}'.format(now.second))\n",
    "print('마이크로 초 : {}'.format(now.microsecond))\n",
    "print('밀리 초 : {}'.format(now.microsecond // 1000))\n",
    "# weekday() 메소드로 요일을 얻어올 수 있다. => 월요일(0), 화요일(1), ..., 토요일(5), 일요일(6)\n",
    "print('요일 : {}'.format(now.weekday()))"
   ]
  },
  {
   "cell_type": "markdown",
   "metadata": {},
   "source": [
    "두 날짜 데이터 사이의 차이 계산"
   ]
  },
  {
   "cell_type": "code",
   "execution_count": 5,
   "metadata": {},
   "outputs": [],
   "source": [
    "from datetime import datetime as dt"
   ]
  },
  {
   "cell_type": "code",
   "execution_count": 6,
   "metadata": {},
   "outputs": [],
   "source": [
    "start = dt.now()"
   ]
  },
  {
   "cell_type": "code",
   "execution_count": 7,
   "metadata": {},
   "outputs": [],
   "source": [
    "end = dt.now()"
   ]
  },
  {
   "cell_type": "code",
   "execution_count": 12,
   "metadata": {},
   "outputs": [
    {
     "name": "stdout",
     "output_type": "stream",
     "text": [
      "0:00:25.431705\n",
      "0\n",
      "25\n",
      "431705\n",
      "25.431705\n"
     ]
    }
   ],
   "source": [
    "t = end - start\n",
    "print(t)\n",
    "print(t.days) # 두 날짜 데이터 사이의 차이를 일 단위로 얻어온다.\n",
    "print(t.seconds) # 두 날짜 데이터 사이의 차이를 초 단위로 얻어온다.\n",
    "print(t.microseconds) # 두 날짜 데이터 사이의 차이를 마이크로 초 단위로 얻어온다.\n",
    "print(t.total_seconds()) # 두 날짜 데이터 사이의 차이를 초 단위로 환산한다."
   ]
  },
  {
   "cell_type": "code",
   "execution_count": null,
   "metadata": {},
   "outputs": [],
   "source": []
  },
  {
   "cell_type": "code",
   "execution_count": null,
   "metadata": {},
   "outputs": [],
   "source": []
  },
  {
   "cell_type": "code",
   "execution_count": null,
   "metadata": {},
   "outputs": [],
   "source": []
  }
 ],
 "metadata": {
  "kernelspec": {
   "display_name": "Python 3",
   "language": "python",
   "name": "python3"
  },
  "language_info": {
   "codemirror_mode": {
    "name": "ipython",
    "version": 3
   },
   "file_extension": ".py",
   "mimetype": "text/x-python",
   "name": "python",
   "nbconvert_exporter": "python",
   "pygments_lexer": "ipython3",
   "version": "3.6.8"
  }
 },
 "nbformat": 4,
 "nbformat_minor": 4
}
