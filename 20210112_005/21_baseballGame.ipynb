{
 "cells": [
  {
   "cell_type": "code",
   "execution_count": 2,
   "metadata": {},
   "outputs": [],
   "source": [
    "import random"
   ]
  },
  {
   "cell_type": "code",
   "execution_count": null,
   "metadata": {},
   "outputs": [],
   "source": [
    "# 0 ~ 9 사이의 숫자가 채워진 리스트를 만든다.\n",
    "baseball = [i for i in range(10)]\n",
    "# print(baseball)\n",
    "\n",
    "# 섞는다.\n",
    "# baseball[0]와 baseball[1] ~ baseball[9] 사이의 랜덤한 위치와 값을 교환한다.\n",
    "for i in range(1000000):\n",
    "    r = random.randrange(1, 10)\n",
    "    baseball[0], baseball[r] = baseball[r], baseball[0]\n",
    "print(baseball)\n",
    "\n",
    "level = int(input('레벨을 입력하세요(1 ~ 10) : '))\n",
    "# for i in range(level):\n",
    "    # print(baseball[i], end = '')\n",
    "# print()\n",
    "cpu = baseball[:level]\n",
    "print(cpu)\n",
    "\n",
    "while True:\n",
    "    # 반복이 시작될 때 마다 스트라이크 개수와 볼의 개수를 기억하는 변수를 0으로 초기화시킨다.\n",
    "    s = 0; b = 0\n",
    "    # 컴퓨터가 숨겨놓은 숫자를 맞추기 위해 유저에게 입력을 받는다.\n",
    "    user = input('user : ')\n",
    "    \n",
    "    # 레벨만큼 반복하며 스트라이크 개수와 볼의 개수를 센다.\n",
    "    for i in range(level):\n",
    "        # 스트라이크 => cpu와 user의 같은 인덱스에 위치한 데이터가 같다.\n",
    "        # if cpu[i] == int(user[i]):\n",
    "        # str() 함수는 숫자를 문자열로 변환한다.\n",
    "        if str(cpu[i]) == user[i]:\n",
    "            s += 1\n",
    "        # 볼 => user가 cpu에 포함되어있다.\n",
    "        if int(user[i]) in cpu:\n",
    "            b += 1\n",
    "    # ===== for i 끝\n",
    "    \n",
    "    # 스트라이크 개수와 레벨이 같으면 맞춘것이므로 반복을 탈출시킨다.\n",
    "    if s == level:\n",
    "        break\n",
    "    # 맞추지 못했으면 힌트를 출력한다.\n",
    "    print('{} 스트라이크 {} 볼'.format(s, b - s))\n",
    "# ===== while True: 끝\n",
    "print('맞췄다 ==> {}'.format(cpu))"
   ]
  },
  {
   "cell_type": "code",
   "execution_count": 6,
   "metadata": {},
   "outputs": [
    {
     "name": "stdout",
     "output_type": "stream",
     "text": [
      "[3, 5, 0, 7, 9, 8, 6, 2, 1, 4]\n",
      "레벨을 입력하세요(1 ~ 10) : 3\n",
      "[3, 5, 0]\n",
      "user : 123\n",
      "0 스트라이크 1 볼\n",
      "user : 456\n",
      "1 스트라이크 0 볼\n",
      "user : 789\n",
      "0 스트라이크 0 볼\n",
      "user : 350\n",
      "4번 만에 맞췄다 ==> [3, 5, 0]\n"
     ]
    }
   ],
   "source": [
    "baseball = [i for i in range(10)]\n",
    "for i in range(1000000):\n",
    "    r = random.randrange(1, 10)\n",
    "    baseball[0], baseball[r] = baseball[r], baseball[0]\n",
    "print(baseball)\n",
    "\n",
    "level = int(input('레벨을 입력하세요(1 ~ 10) : '))\n",
    "cpu = baseball[:level]\n",
    "print(cpu)\n",
    "\n",
    "# 전체 입력 횟수는 유저가 숫자를 입력할 때 마다 매번 0으로 초기화가 되면 안된다.\n",
    "count = 0\n",
    "while True:\n",
    "    # 유저가 숫자를 입력할 때 마다 스트라이크와 볼의 개수를 세어야 하기 때문에 매 반복마다 초기화를 해야한다.\n",
    "    s = 0; b = 0\n",
    "    user = input('user : ')\n",
    "    count += 1\n",
    "    for i in range(level):\n",
    "        if str(cpu[i]) == user[i]:\n",
    "            s += 1\n",
    "        elif int(user[i]) in cpu:\n",
    "            b += 1\n",
    "    # ===== for i 끝\n",
    "    \n",
    "    if s == level:\n",
    "        break\n",
    "    print('{} 스트라이크 {} 볼'.format(s, b))\n",
    "# ===== while True: 끝\n",
    "print('{}번 만에 맞췄다 ==> {}'.format(count, cpu))"
   ]
  },
  {
   "cell_type": "code",
   "execution_count": 9,
   "metadata": {},
   "outputs": [
    {
     "name": "stdout",
     "output_type": "stream",
     "text": [
      "[9, 1, 0, 8, 3, 6, 2, 7, 4, 5]\n",
      "레벨을 입력하세요(1 ~ 10) : 3\n",
      "[9, 1, 0]\n",
      "user : 910\n",
      "1번 만에 7.635541초 걸려서 맞췄다 ==> [9, 1, 0]\n"
     ]
    }
   ],
   "source": [
    "from datetime import datetime as dt\n",
    "\n",
    "baseball = [i for i in range(10)]\n",
    "for i in range(1000000):\n",
    "    r = random.randrange(1, 10)\n",
    "    baseball[0], baseball[r] = baseball[r], baseball[0]\n",
    "print(baseball)\n",
    "\n",
    "level = int(input('레벨을 입력하세요(1 ~ 10) : '))\n",
    "cpu = baseball[:level]\n",
    "print(cpu)\n",
    "\n",
    "# 게임 시작 시간을 저장한다.\n",
    "start = dt.now()\n",
    "\n",
    "count = 0\n",
    "while True:\n",
    "    s = 0; b = 0\n",
    "    user = input('user : ')\n",
    "    count += 1\n",
    "    for i in range(level):\n",
    "        if str(cpu[i]) == user[i]:\n",
    "            s += 1\n",
    "        elif int(user[i]) in cpu:\n",
    "            b += 1\n",
    "    if s == level:\n",
    "        break\n",
    "    print('{} 스트라이크 {} 볼'.format(s, b))\n",
    "    \n",
    "# 게임 종료 시간을 저장한다.\n",
    "end = dt.now()\n",
    "# 게임 시간을 계산한다.\n",
    "t = end - start\n",
    "    \n",
    "print('{}번 만에 {}초 걸려서 맞췄다 ==> {}'.format(count, t.total_seconds(), cpu))"
   ]
  },
  {
   "cell_type": "code",
   "execution_count": null,
   "metadata": {},
   "outputs": [],
   "source": []
  },
  {
   "cell_type": "code",
   "execution_count": null,
   "metadata": {},
   "outputs": [],
   "source": []
  },
  {
   "cell_type": "code",
   "execution_count": null,
   "metadata": {},
   "outputs": [],
   "source": []
  },
  {
   "cell_type": "code",
   "execution_count": null,
   "metadata": {},
   "outputs": [],
   "source": []
  }
 ],
 "metadata": {
  "kernelspec": {
   "display_name": "Python 3",
   "language": "python",
   "name": "python3"
  },
  "language_info": {
   "codemirror_mode": {
    "name": "ipython",
    "version": 3
   },
   "file_extension": ".py",
   "mimetype": "text/x-python",
   "name": "python",
   "nbconvert_exporter": "python",
   "pygments_lexer": "ipython3",
   "version": "3.6.8"
  }
 },
 "nbformat": 4,
 "nbformat_minor": 4
}
